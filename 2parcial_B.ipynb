{
  "cells": [
    {
      "cell_type": "markdown",
      "metadata": {
        "id": "view-in-github",
        "colab_type": "text"
      },
      "source": [
        "<a href=\"https://colab.research.google.com/github/Camila28Lopez/2Parcial_LopezCamachoCamila/blob/main/2parcial_B.ipynb\" target=\"_parent\"><img src=\"https://colab.research.google.com/assets/colab-badge.svg\" alt=\"Open In Colab\"/></a>"
      ]
    },
    {
      "cell_type": "markdown",
      "metadata": {
        "id": "1_4MgltYgZWM"
      },
      "source": [
        "[![Open In Colab](https://colab.research.google.com/assets/colab-badge.svg)](https://colab.research.google.com/github/sensioai/blog/blob/master/024_mlp_clasificacion/mlp_clasificacion.ipynb)"
      ]
    },
    {
      "cell_type": "markdown",
      "metadata": {
        "id": "6NGidamugZWP"
      },
      "source": [
        "# El Perceptrón Multicapa - Clasificación"
      ]
    },
    {
      "cell_type": "markdown",
      "metadata": {
        "id": "wYquiZh4gZWQ"
      },
      "source": [
        "## El Perceptrón Multicapa"
      ]
    },
    {
      "cell_type": "markdown",
      "metadata": {
        "id": "z-2Gqjm_gZWQ"
      },
      "source": [
        "En el [post](https://sensioai.com/blog/023_mlp_backprop) anterior hemos introducido el modelo de `Perceptrón Multicapa`, o MLP, la arquitectura de red neuronal más básica basada en el [Perceptrón](https://sensioai.com/blog/012_perceptron1). Hemos visto cómo calcular la salida de un MLP de dos capas a partir de unas entradas y cómo encontrar los pesos óptimos para una tarea de regresión. En este post vamos a mejorar la implementación de nuestro MLP de dos capas para que sea capaz también de llevar a cabo tareas de clasificación.\n",
        "\n",
        "![](https://www.researchgate.net/profile/Mohamed_Zahran6/publication/303875065/figure/fig4/AS:371118507610123@1465492955561/A-hypothetical-example-of-Multilayer-Perceptron-Network.png)"
      ]
    },
    {
      "cell_type": "markdown",
      "metadata": {
        "id": "9IyRgwesgZWR"
      },
      "source": [
        "## Implementación"
      ]
    },
    {
      "cell_type": "markdown",
      "metadata": {
        "id": "1LPtbLsUgZWR"
      },
      "source": [
        "La mayoría del código que utilizaremos fue desarrollado para el `Perceptrón` y lo puedes encontrar en este [post](https://sensioai.com/blog/018_perceptron_final). Lo único que cambiaremos es la lógica del modelo, el resto de funcionalidad (funciones de pérdida, funciones de activación, etc, siguen siendo exactamente igual)."
      ]
    },
    {
      "cell_type": "markdown",
      "metadata": {
        "id": "fcsB8ZW6gZWS"
      },
      "source": [
        "### Funciones de activación"
      ]
    },
    {
      "cell_type": "markdown",
      "metadata": {
        "id": "Syl8VvjrgZWT"
      },
      "source": [
        "Para la capa oculta de nuestro MLP utilizaremos una función de activación de tipo `relu`, de la cual necesitaremos su derivada."
      ]
    },
    {
      "cell_type": "code",
      "execution_count": null,
      "metadata": {
        "ExecuteTime": {
          "end_time": "2020-08-05T16:49:53.041393Z",
          "start_time": "2020-08-05T16:49:53.024396Z"
        },
        "id": "HIq2-wCVgZWT"
      },
      "outputs": [],
      "source": [
        "def relu(x):\n",
        "  return np.maximum(0, x)\n",
        "\n",
        "def reluPrime(x):\n",
        "  return x > 0"
      ]
    },
    {
      "cell_type": "markdown",
      "metadata": {
        "id": "j71DHXTEgZWU"
      },
      "source": [
        "En cuanto a las funciones de activación que utilizaremos a la salida del MLP, éstas son las que hemos introducido en posts anteriores:\n",
        "\n",
        "- Lineal: usada para regresión (junto a la función de pérdida MSE).\n",
        "- Sigmoid: usada para clasificación binaria (junto a la función de pérdida BCE).\n",
        "- Softmax: usada para clasificación multiclase (junto a la función de pérdida crossentropy, CE)."
      ]
    },
    {
      "cell_type": "code",
      "execution_count": null,
      "metadata": {
        "ExecuteTime": {
          "end_time": "2020-08-05T16:49:53.311543Z",
          "start_time": "2020-08-05T16:49:53.298548Z"
        },
        "id": "Yr2J98BBgZWV"
      },
      "outputs": [],
      "source": [
        "def linear(x):\n",
        "    return x\n",
        "\n",
        "def sigmoid(x):\n",
        "  return 1 / (1 + np.exp(-x))\n",
        "\n",
        "def softmax(x):\n",
        "    return np.exp(x) / np.exp(x).sum(axis=-1,keepdims=True)"
      ]
    },
    {
      "cell_type": "markdown",
      "metadata": {
        "id": "4UStYvPKgZWV"
      },
      "source": [
        "### Funciones de pérdida"
      ]
    },
    {
      "cell_type": "markdown",
      "metadata": {
        "id": "VFQkqJthgZWW"
      },
      "source": [
        "Como acabamos de comentar en la sección anterior, estas son las funciones de pérdida que hemos visto hasta ahora para las diferentes tareas."
      ]
    },
    {
      "cell_type": "code",
      "execution_count": null,
      "metadata": {
        "ExecuteTime": {
          "end_time": "2020-08-05T16:49:53.677416Z",
          "start_time": "2020-08-05T16:49:53.673343Z"
        },
        "id": "5jbCfdMMgZWW"
      },
      "outputs": [],
      "source": [
        "# Mean Square Error -> usada para regresión (con activación lineal)\n",
        "def mse(y, y_hat):\n",
        "    return np.mean((y_hat - y.reshape(y_hat.shape))**2)\n",
        "\n",
        "# Binary Cross Entropy -> usada para clasificación binaria (con sigmoid)\n",
        "def bce(y, y_hat):\n",
        "    return - np.mean(y.reshape(y_hat.shape)*np.log(y_hat) - (1 - y.reshape(y_hat.shape))*np.log(1 - y_hat))\n",
        "\n",
        "# Cross Entropy (aplica softmax + cross entropy de manera estable) -> usada para clasificación multiclase\n",
        "def crossentropy(y, y_hat):\n",
        "    logits = y_hat[np.arange(len(y_hat)),y]\n",
        "    entropy = - logits + np.log(np.sum(np.exp(y_hat),axis=-1))\n",
        "    return entropy.mean()"
      ]
    },
    {
      "cell_type": "markdown",
      "metadata": {
        "id": "1c0_5lyNgZWX"
      },
      "source": [
        "Y sus derivadas"
      ]
    },
    {
      "cell_type": "code",
      "execution_count": null,
      "metadata": {
        "ExecuteTime": {
          "end_time": "2020-08-05T16:49:53.945375Z",
          "start_time": "2020-08-05T16:49:53.925371Z"
        },
        "id": "v5PbPP5wgZWX"
      },
      "outputs": [],
      "source": [
        "def grad_mse(y, y_hat):\n",
        "    return y_hat - y.reshape(y_hat.shape)\n",
        "\n",
        "def grad_bce(y, y_hat):\n",
        "    return y_hat - y.reshape(y_hat.shape)\n",
        "\n",
        "def grad_crossentropy(y, y_hat):\n",
        "    answers = np.zeros_like(y_hat)\n",
        "    answers[np.arange(len(y_hat)),y] = 1    \n",
        "    return (- answers + softmax(y_hat)) / y_hat.shape[0]"
      ]
    },
    {
      "cell_type": "markdown",
      "metadata": {
        "id": "Ctn_7WsbgZWX"
      },
      "source": [
        "### Implementación MLP"
      ]
    },
    {
      "cell_type": "markdown",
      "metadata": {
        "id": "M984aPUXgZWX"
      },
      "source": [
        "Ahora que ya tenemos definidas las diferentes funciones de activación y de pérdida que necesitamos, vamos a implementar nuestro MLP de dos capas capaz de llevar a cabo tanto tareas de regresión como de clasificación. Del mismo modo que ya hicimos con el `Perceptrón`, definiremos una clase base que servirá para la implementación de las clases particulares para cada caso."
      ]
    },
    {
      "cell_type": "code",
      "execution_count": null,
      "metadata": {
        "ExecuteTime": {
          "end_time": "2020-08-05T16:49:54.342062Z",
          "start_time": "2020-08-05T16:49:54.325063Z"
        },
        "code_folding": [
          3,
          14,
          20,
          55
        ],
        "id": "UwJ4CTGagZWY"
      },
      "outputs": [],
      "source": [
        "# clase base MLP \n",
        "\n",
        "class MLP():\n",
        "  def __init__(self, D_in, H, D_out, loss, grad_loss, activation):\n",
        "    # pesos de la capa 1\n",
        "    self.w1, self.b1 = np.random.normal(loc=0.0,\n",
        "                                  scale=np.sqrt(2/(D_in+H)),\n",
        "                                  size=(D_in, H)), np.zeros(H)\n",
        "    # pesos de la capa 2\n",
        "    self.w2, self.b2 = np.random.normal(loc=0.0,\n",
        "                                  scale=np.sqrt(2/(H+D_out)),\n",
        "                                  size=(H, D_out)), np.zeros(D_out)\n",
        "    self.ws = []\n",
        "    # función de pérdida y derivada\n",
        "    self.loss = loss\n",
        "    self.grad_loss = grad_loss\n",
        "    # función de activación\n",
        "    self.activation = activation\n",
        "\n",
        "  def __call__(self, x):\n",
        "    # salida de la capa 1\n",
        "    self.h_pre = np.dot(x, self.w1) + self.b1\n",
        "    self.h = relu(self.h_pre)\n",
        "    # salida del MLP\n",
        "    y_hat = np.dot(self.h, self.w2) + self.b2 \n",
        "    return self.activation(y_hat)\n",
        "    \n",
        "  def fit(self, X, Y, epochs = 100, lr = 0.001, batch_size=None, verbose=True, log_each=1):\n",
        "    batch_size = len(X) if batch_size == None else batch_size\n",
        "    batches = len(X) // batch_size\n",
        "    l = []\n",
        "    for e in range(1,epochs+1):     \n",
        "        # Mini-Batch Gradient Descent\n",
        "        _l = []\n",
        "        for b in range(batches):\n",
        "            # batch de datos\n",
        "            x = X[b*batch_size:(b+1)*batch_size]\n",
        "            y = Y[b*batch_size:(b+1)*batch_size] \n",
        "            # salida del perceptrón\n",
        "            y_pred = self(x) \n",
        "            # función de pérdida\n",
        "            loss = self.loss(y, y_pred)\n",
        "            _l.append(loss)        \n",
        "            # Backprop \n",
        "            dldy = self.grad_loss(y, y_pred) \n",
        "            grad_w2 = np.dot(self.h.T, dldy)\n",
        "            grad_b2 = dldy.mean(axis=0)\n",
        "            dldh = np.dot(dldy, self.w2.T)*reluPrime(self.h_pre)      \n",
        "            grad_w1 = np.dot(x.T, dldh)\n",
        "            grad_b1 = dldh.mean(axis=0)\n",
        "            # Update (GD)\n",
        "            self.w1 = self.w1 - lr * grad_w1\n",
        "            self.b1 = self.b1 - lr * grad_b1\n",
        "            self.w2 = self.w2 - lr * grad_w2\n",
        "            self.b2 = self.b2 - lr * grad_b2\n",
        "        l.append(np.mean(_l))\n",
        "        # guardamos pesos intermedios para visualización\n",
        "        self.ws.append((\n",
        "            self.w1.copy(),\n",
        "            self.b1.copy(),\n",
        "            self.w2.copy(),\n",
        "            self.b2.copy()\n",
        "        ))\n",
        "        if verbose and not e % log_each:\n",
        "            print(f'Epoch: {e}/{epochs}, Loss: {np.mean(l):.5f}')\n",
        "\n",
        "  def predict(self, ws, x):\n",
        "    w1, b1, w2, b2 = ws\n",
        "    h = relu(np.dot(x, w1) + b1)\n",
        "    y_hat = np.dot(h, w2) + b2\n",
        "    return self.activation(y_hat)"
      ]
    },
    {
      "cell_type": "code",
      "execution_count": null,
      "metadata": {
        "ExecuteTime": {
          "end_time": "2020-08-05T16:57:40.536617Z",
          "start_time": "2020-08-05T16:57:40.515590Z"
        },
        "id": "WQe4JD8qgZWY"
      },
      "outputs": [],
      "source": [
        "# MLP para regresión\n",
        "class MLPRegression(MLP):\n",
        "    def __init__(self, D_in, H, D_out):\n",
        "        super().__init__(D_in, H, D_out, mse, grad_mse, linear)\n",
        "\n",
        "# MLP para clasificación binaria\n",
        "class MLPBinaryClassification(MLP):\n",
        "    def __init__(self, D_in, H, D_out):\n",
        "        super().__init__(D_in, H, D_out, bce, grad_bce, sigmoid)\n",
        "\n",
        "# MLP para clasificación multiclase\n",
        "class MLPClassification(MLP):\n",
        "    def __init__(self, D_in, H, D_out):\n",
        "        super().__init__(D_in, H, D_out, crossentropy, grad_crossentropy, linear)"
      ]
    },
    {
      "cell_type": "markdown",
      "metadata": {
        "id": "iiIITgESgZWZ"
      },
      "source": [
        "Vamos a probar ahora nuestra implementación para diferentes ejemplos."
      ]
    },
    {
      "cell_type": "markdown",
      "metadata": {
        "id": "_nOEN-OjgZWZ"
      },
      "source": [
        "## Regresión"
      ]
    },
    {
      "cell_type": "markdown",
      "metadata": {
        "id": "Uwirm_2agZWZ"
      },
      "source": [
        "En primer lugar, vamos a replicar los resultados obtenidos en el post anterior para verificar que nuestro modelo de MLP sigue funcionando bien."
      ]
    },
    {
      "cell_type": "code",
      "execution_count": null,
      "metadata": {
        "ExecuteTime": {
          "end_time": "2020-08-05T16:50:02.227502Z",
          "start_time": "2020-08-05T16:50:02.114509Z"
        },
        "id": "lQRY2xNQgZWZ",
        "outputId": "434dc8c6-3f26-425e-9aae-dda08360aa27",
        "colab": {
          "base_uri": "https://localhost:8080/",
          "height": 284
        }
      },
      "outputs": [
        {
          "output_type": "display_data",
          "data": {
            "text/plain": [
              "<Figure size 432x288 with 1 Axes>"
            ],
            "image/png": "[encoded data removed]"
          },
          "metadata": {
            "needs_background": "light"
          }
        }
      ],
      "source": [
        "import numpy as np\n",
        "import matplotlib.pyplot as plt\n",
        "\n",
        "x = np.random.rand(100)\n",
        "X = x.reshape(-1, 1)\n",
        "y = 2*x + (np.random.rand(100)-0.5)*0.5\n",
        "\n",
        "plt.plot(x, y, \"b.\")\n",
        "plt.xlabel(\"$x_1$\", fontsize=14)\n",
        "plt.ylabel(\"$y$\", rotation=0, fontsize=14)\n",
        "plt.grid(True)\n",
        "plt.show()"
      ]
    },
    {
      "cell_type": "code",
      "execution_count": null,
      "metadata": {
        "ExecuteTime": {
          "end_time": "2020-08-05T16:50:02.461619Z",
          "start_time": "2020-08-05T16:50:02.449619Z"
        },
        "id": "hPr18XJlgZWa",
        "outputId": "6818e824-2f11-4ff8-8c59-633952536297",
        "colab": {
          "base_uri": "https://localhost:8080/"
        }
      },
      "outputs": [
        {
          "output_type": "stream",
          "name": "stdout",
          "text": [
            "Epoch: 10/50, Loss: 0.50581\n",
            "Epoch: 20/50, Loss: 0.26252\n",
            "Epoch: 30/50, Loss: 0.18142\n",
            "Epoch: 40/50, Loss: 0.14087\n",
            "Epoch: 50/50, Loss: 0.11653\n"
          ]
        }
      ],
      "source": [
        "model = MLPRegression(D_in=1, H=3, D_out=1)\n",
        "epochs, lr = 50, 0.01\n",
        "model.fit(x.reshape(len(x),1), y, epochs, lr, log_each=10)"
      ]
    },
    {
      "cell_type": "code",
      "execution_count": null,
      "metadata": {
        "ExecuteTime": {
          "end_time": "2020-08-05T16:50:02.714491Z",
          "start_time": "2020-08-05T16:50:02.602491Z"
        },
        "code_folding": [],
        "id": "aupL2sPWgZWa",
        "outputId": "6bd5b436-097b-4275-f946-d8d666fc1e10",
        "colab": {
          "base_uri": "https://localhost:8080/",
          "height": 284
        }
      },
      "outputs": [
        {
          "output_type": "display_data",
          "data": {
            "text/plain": [
              "<Figure size 432x288 with 1 Axes>"
            ],
            "image/png": "[encoded data removed]"
          },
          "metadata": {
            "needs_background": "light"
          }
        }
      ],
      "source": [
        "x_new = np.linspace(0, 1, 100)\n",
        "x_new = x_new.reshape(len(x_new),1)\n",
        "y_pred = model(x_new)\n",
        "    \n",
        "plt.plot(x, y, \"b.\")\n",
        "plt.plot(x_new, y_pred, \"-k\")\n",
        "plt.xlabel(\"$x_1$\", fontsize=14)\n",
        "plt.ylabel(\"$y$\", rotation=0, fontsize=14)\n",
        "plt.grid(True)\n",
        "plt.show()"
      ]
    },
    {
      "cell_type": "code",
      "execution_count": null,
      "metadata": {
        "ExecuteTime": {
          "end_time": "2020-08-05T16:49:56.564725Z",
          "start_time": "2020-08-05T16:49:56.446726Z"
        },
        "id": "dZg9vQC9gZWa",
        "outputId": "d410ef26-6757-42aa-b843-24c96600d5a7",
        "colab": {
          "base_uri": "https://localhost:8080/",
          "height": 284
        }
      },
      "outputs": [
        {
          "output_type": "display_data",
          "data": {
            "text/plain": [
              "<Figure size 432x288 with 1 Axes>"
            ],
            "image/png": "[encoded data removed]"
          },
          "metadata": {
            "needs_background": "light"
          }
        }
      ],
      "source": [
        "m = 100\n",
        "x = 6 * np.random.rand(m, 1) - 3\n",
        "y = 0.5 * x**2 + x + 2 + np.random.randn(m, 1)\n",
        "\n",
        "plt.plot(x, y, \"b.\")\n",
        "plt.xlabel(\"$x_1$\", fontsize=14)\n",
        "plt.ylabel(\"$y$\", rotation=0, fontsize=14)\n",
        "plt.grid(True)\n",
        "plt.show()"
      ]
    },
    {
      "cell_type": "code",
      "execution_count": null,
      "metadata": {
        "ExecuteTime": {
          "end_time": "2020-08-05T16:49:58.833975Z",
          "start_time": "2020-08-05T16:49:58.619932Z"
        },
        "id": "oTDLxdxJgZWb",
        "outputId": "b7a6902b-1bc1-4547-b0c1-74b79a76ce89",
        "colab": {
          "base_uri": "https://localhost:8080/"
        }
      },
      "outputs": [
        {
          "output_type": "stream",
          "name": "stdout",
          "text": [
            "Epoch: 10/50, Loss: 1.36615\n",
            "Epoch: 20/50, Loss: 1.19089\n",
            "Epoch: 30/50, Loss: 1.11981\n",
            "Epoch: 40/50, Loss: 1.07588\n",
            "Epoch: 50/50, Loss: 1.04532\n"
          ]
        }
      ],
      "source": [
        "model = MLPRegression(D_in=1, H=6, D_out=1)\n",
        "epochs, lr = 50, 0.01\n",
        "model.fit(x.reshape(len(x),1), y, epochs, lr, batch_size=1, log_each=10)"
      ]
    },
    {
      "cell_type": "code",
      "execution_count": null,
      "metadata": {
        "ExecuteTime": {
          "end_time": "2020-08-05T16:49:58.945929Z",
          "start_time": "2020-08-05T16:49:58.835932Z"
        },
        "id": "OXj2UvwzgZWb",
        "outputId": "7128e9c8-f322-4cc5-c4c6-e0c54bbae7b1",
        "colab": {
          "base_uri": "https://localhost:8080/",
          "height": 284
        }
      },
      "outputs": [
        {
          "output_type": "display_data",
          "data": {
            "text/plain": [
              "<Figure size 432x288 with 1 Axes>"
            ],
            "image/png": "[encoded data removed]"
          },
          "metadata": {
            "needs_background": "light"
          }
        }
      ],
      "source": [
        "x_new = np.linspace(-3, 3, 100)\n",
        "x_new = x_new.reshape(len(x_new),1)\n",
        "y_pred = model(x_new)\n",
        "    \n",
        "plt.plot(x, y, \"b.\")\n",
        "plt.plot(x_new, y_pred, \"-k\")\n",
        "plt.xlabel(\"$x_1$\", fontsize=14)\n",
        "plt.ylabel(\"$y$\", rotation=0, fontsize=14)\n",
        "plt.grid(True)\n",
        "plt.show()"
      ]
    },
    {
      "cell_type": "markdown",
      "metadata": {
        "id": "6sPgO0QrgZWb"
      },
      "source": [
        "Como puedes observar nuestro MLP es capaz de ajustarse a datos que no sigan una distribución lineal. Ésta es la principal limitación del `Perceptrón`, es un modelo muy simple, y el MLP es capaz de solventar este problema (siempre y cuando usemos funciones de activación no lineales en la capa oculta. ¿Sabes por qué? Puedes encontrar la respuesta en el [post](https://sensioai.com/blog/023_mlp_backprop) anterior)."
      ]
    },
    {
      "cell_type": "markdown",
      "metadata": {
        "id": "jZ6l8UVigZWb"
      },
      "source": [
        "## Clasificación Binaria"
      ]
    },
    {
      "cell_type": "markdown",
      "metadata": {
        "id": "9UDnhtzlgZWb"
      },
      "source": [
        "Ahora vamos a aplicar nuestro MLP al problema de clasificación binaria. Para ellos vamos a utilizar el dataset *Iris*, que ya conocemos de los posts anteriores de clasificación con el `Perceptrón`."
      ]
    },
    {
      "cell_type": "code",
      "execution_count": null,
      "metadata": {
        "ExecuteTime": {
          "end_time": "2020-08-05T16:50:08.206468Z",
          "start_time": "2020-08-05T16:50:07.488397Z"
        },
        "id": "PJZh4932gZWb",
        "outputId": "c8295b24-492a-48ad-f2c3-360f7388605e",
        "colab": {
          "base_uri": "https://localhost:8080/"
        }
      },
      "outputs": [
        {
          "output_type": "execute_result",
          "data": {
            "text/plain": [
              "((150, 2), (150,))"
            ]
          },
          "metadata": {},
          "execution_count": 82
        }
      ],
      "source": [
        "from sklearn.datasets import load_iris\n",
        "\n",
        "iris = load_iris()\n",
        "X = iris.data[:, (2, 3)]  # petal length, petal width\n",
        "y = iris.target\n",
        "\n",
        "X.shape, y.shape"
      ]
    },
    {
      "cell_type": "code",
      "execution_count": null,
      "metadata": {
        "ExecuteTime": {
          "end_time": "2020-08-05T16:50:08.330468Z",
          "start_time": "2020-08-05T16:50:08.208471Z"
        },
        "id": "8ryVxNNngZWc",
        "outputId": "55f29db9-1f31-4d0f-c0fb-5178817e7f72",
        "colab": {
          "base_uri": "https://localhost:8080/",
          "height": 300
        }
      },
      "outputs": [
        {
          "output_type": "display_data",
          "data": {
            "text/plain": [
              "<Figure size 432x288 with 1 Axes>"
            ],
            "image/png": "[encoded data removed]"
          },
          "metadata": {
            "needs_background": "light"
          }
        }
      ],
      "source": [
        "plt.plot(X[y==0, 0], X[y==0, 1], 's', label=\"Iris Setosa\")\n",
        "plt.plot(X[y==1, 0], X[y==1, 1], 'x', label=\"Iris Versicolor\")\n",
        "plt.plot(X[y==2, 0], X[y==2, 1], 'o', label=\"Iris Virginica\")\n",
        "plt.grid()\n",
        "plt.legend()\n",
        "plt.xlabel('petal length', fontsize=14)\n",
        "plt.ylabel('petal width', fontsize=14)\n",
        "plt.title(\"Iris dataset\", fontsize=14)\n",
        "plt.show()"
      ]
    },
    {
      "cell_type": "markdown",
      "metadata": {
        "id": "EJgE6JsOgZWc"
      },
      "source": [
        "Este dataset contiene información sobre flores y el objetivo es clasificar en tres clases distintas. En esta sección vamos a intentar separar simplemente una de las clases del resto (clasificación binaria)."
      ]
    },
    {
      "cell_type": "code",
      "execution_count": null,
      "metadata": {
        "ExecuteTime": {
          "end_time": "2020-08-05T16:50:08.659778Z",
          "start_time": "2020-08-05T16:50:08.650778Z"
        },
        "id": "gHXEK0c_gZWc",
        "colab": {
          "base_uri": "https://localhost:8080/"
        },
        "outputId": "fb31e8bc-d041-49d9-ce30-0941f73a8482"
      },
      "outputs": [
        {
          "output_type": "stream",
          "name": "stderr",
          "text": [
            "<ipython-input-84-568fdf940d76>:1: DeprecationWarning: `np.int` is a deprecated alias for the builtin `int`. To silence this warning, use `int` by itself. Doing this will not modify any behavior and is safe. When replacing `np.int`, you may wish to use e.g. `np.int64` or `np.int32` to specify the precision. If you wish to review your current use, check the release note link for additional information.\n",
            "Deprecated in NumPy 1.20; for more details and guidance: https://numpy.org/devdocs/release/1.20.0-notes.html#deprecations\n",
            "  y = (iris.target == 0).astype(np.int)\n"
          ]
        }
      ],
      "source": [
        "y = (iris.target == 0).astype(np.int)"
      ]
    },
    {
      "cell_type": "code",
      "execution_count": null,
      "metadata": {
        "ExecuteTime": {
          "end_time": "2020-08-05T16:50:09.285506Z",
          "start_time": "2020-08-05T16:50:09.159509Z"
        },
        "id": "sWePjZb3gZWc",
        "outputId": "92c610ba-0866-4a0f-8a1c-f8e3bddad297",
        "colab": {
          "base_uri": "https://localhost:8080/",
          "height": 300
        }
      },
      "outputs": [
        {
          "output_type": "display_data",
          "data": {
            "text/plain": [
              "<Figure size 432x288 with 1 Axes>"
            ],
            "image/png": "[encoded data removed]"
          },
          "metadata": {
            "needs_background": "light"
          }
        }
      ],
      "source": [
        "plt.plot(X[y==1, 0], X[y==1, 1], 's', label=\"Iris Setosa\")\n",
        "plt.plot(X[y==0, 0], X[y==0, 1], 'x', label=\"No Iris Setosa\")\n",
        "plt.grid()\n",
        "plt.legend()\n",
        "plt.xlabel('petal length', fontsize=14)\n",
        "plt.ylabel('petal width', fontsize=14)\n",
        "plt.title(\"Iris dataset\", fontsize=14)\n",
        "plt.show()"
      ]
    },
    {
      "cell_type": "code",
      "execution_count": null,
      "metadata": {
        "ExecuteTime": {
          "end_time": "2020-08-05T16:51:04.812861Z",
          "start_time": "2020-08-05T16:51:04.413859Z"
        },
        "id": "mlF1gB_TgZWc",
        "outputId": "c628b7db-a305-415a-b327-d1fc43c90338",
        "colab": {
          "base_uri": "https://localhost:8080/"
        }
      },
      "outputs": [
        {
          "output_type": "stream",
          "name": "stdout",
          "text": [
            "Epoch: 10/50, Loss: -0.01992\n",
            "Epoch: 20/50, Loss: -0.01258\n",
            "Epoch: 30/50, Loss: -0.00925\n",
            "Epoch: 40/50, Loss: -0.00735\n",
            "Epoch: 50/50, Loss: -0.00611\n"
          ]
        }
      ],
      "source": [
        "model = MLPBinaryClassification(D_in=2, H=3, D_out=1)\n",
        "epochs, lr = 50, 0.01\n",
        "\n",
        "# normalización datos\n",
        "X_mean, X_std = X.mean(axis=0), X.std(axis=0)\n",
        "X_norm = (X - X_mean) / X_std\n",
        "\n",
        "model.fit(X_norm, y, epochs, lr, batch_size=1, log_each=10)"
      ]
    },
    {
      "cell_type": "code",
      "execution_count": null,
      "metadata": {
        "ExecuteTime": {
          "end_time": "2020-08-05T16:51:10.236426Z",
          "start_time": "2020-08-05T16:51:05.440866Z"
        },
        "code_folding": [
          8
        ],
        "id": "7Rft1GBxgZWd",
        "outputId": "e014f515-ed5d-4c41-9252-63970787d793",
        "colab": {
          "base_uri": "https://localhost:8080/",
          "height": 381
        }
      },
      "outputs": [
        {
          "output_type": "execute_result",
          "data": {
            "text/plain": [
              "<matplotlib.animation.FuncAnimation at 0x7f600604ce20>"
            ],
            "text/html": [
              "<video width=\"576\" height=\"360\" controls autoplay loop>\n",
              "  <source type=\"video/mp4\" src=\"data:video/mp4;base64,AAAAHGZ0eXBNNFYgAAACAGlzb21pc28yYXZjMQAAAAhmcmVlAACIpm1kYXQAAAKtBgX//6ncRem9\n",
              "5tlIt5Ys2CDZI+7veDI2NCAtIGNvcmUgMTUyIHIyODU0IGU5YTU5MDMgLSBILjI2NC9NUEVHLTQg\n",
              "QVZDIGNvZGVjIC0gQ29weWxlZnQgMjAwMy0yMDE3IC0gaHR0cDovL3d3dy52aWRlb2xhbi5vcmcv\n",
              "eDI2NC5odG1sIC0gb3B0aW9uczogY2FiYWM9MSByZWY9MyBkZWJsb2NrPTE6MDowIGFuYWx5c2U9\n",
              "MHgzOjB4MTEzIG1lPWhleCBzdWJtZT03IHBzeT0xIHBzeV9yZD0xLjAwOjAuMDAgbWl4ZWRfcmVm\n",
              "PTEgbWVfcmFuZ2U9MTYgY2hyb21hX21lPTEgdHJlbGxpcz0xIDh4OGRjdD0xIGNxbT0wIGRlYWR6\n",
              "b25lPTIxLDExIGZhc3RfcHNraXA9MSBjaHJvbWFfcXBfb2Zmc2V0PS0yIHRocmVhZHM9MyBsb29r\n",
              "YWhlYWRfdGhyZWFkcz0xIHNsaWNlZF90aHJlYWRzPTAgbnI9MCBkZWNpbWF0ZT0xIGludGVybGFj\n",
              "ZWQ9MCBibHVyYXlfY29tcGF0PTAgY29uc3RyYWluZWRfaW50cmE9MCBiZnJhbWVzPTMgYl9weXJh\n",
              "bWlkPTIgYl9hZGFwdD0xIGJfYmlhcz0wIGRpcmVjdD0xIHdlaWdodGI9MSBvcGVuX2dvcD0wIHdl\n",
              "aWdodHA9MiBrZXlpbnQ9MjUwIGtleWludF9taW49NSBzY2VuZWN1dD00MCBpbnRyYV9yZWZyZXNo\n",
              "PTAgcmNfbG9va2FoZWFkPTQwIHJjPWNyZiBtYnRyZWU9MSBjcmY9MjMuMCBxY29tcD0wLjYwIHFw\n",
              "bWluPTAgcXBtYXg9NjkgcXBzdGVwPTQgaXBfcmF0aW89MS40MCBhcT0xOjEuMDAAgAAANNhliIQA\n",
              "Ev/+963fgU3AQO1rulc4tMurlDQ9UfaUpni2SAAzfkAAAAMAsc8aOuvFbMHvNVfwV38ABAz1RqOi\n",
              "PaRpWnOwe6wtcfTAp91oir42l0X/cHXz62kIhvDGrOo/aeMwaU21HI02n5Ho5l4vEFJL8eJUyuLg\n",
              "AUo8iGHSTs8ZAltSjuJEN8DymRrrffilMbgsfVZjKk4O/lhNNYGTfqhOS6TFTUZtUvYg2tNPRlBf\n",
              "20rKdZmxcrDioegOIRcHRNMre4xVFCCFW9Jnu9LVhQ0r/z/qBdaRZuxLAgWRdEIe5rkJnXxcXfnV\n",
              "7Ln9FxJWCGPp8n/+f25I5waAMdMU4LqOcylTi7V+z6OYnEajwSL+OX4VwftMQAAAJPJpmGNYRp2O\n",
              "DO5gfwc0cJFrJ9o5Mi/8nwE6QDFwY7UqgPdt8vfNeodg2sDFBS8Awqd7KPsl9B6JEaDUu38hECTH\n",
              "aUYukrx043BPKIePSJ5T0WYSCdX+deGsw3ZzM73OpF50WZOTN/UT6/B5ggHc98mN4ma+zy+lUOI3\n",
              "s+fd+jTtcGt3T0sVwJT+Za+VyXKG8TkdD6yds8W34bZnmF1G8t6ReiKEnT1V0rqXefEnPbuQUJcp\n",
              "EJxv9zxvLmtax7/CPRvZwu4/rqEzGHI2NAfeE9m/6CPFSMxDBTP8J/MFo42JUFHA9X5e25Rm6+2H\n",
              "pks9HFCCw9uEgjb6JGEN29znGyyPi5jhrSpM8JFfQR4mSO5TC1UgEfG2lOrLYygPD6E+VrPQY6tT\n",
              "QGeRXw/thf7T1lqV7E2X9LzFWQAkxS6Y3PjRjvcTVVtnHYv6Fi2x4ahfWiuXpNeRXUbPS07/uG/f\n",
              "HTZN3F21cZt7LuRLrdKs3VYSBWm2FMhB/nDeLa5xbEZxuU/bFp7J3TRZBkJiGfAWuoQdDai8ZFz9\n",
              "kVxjkDUX0FMz63KC6wa+Vp1N030JpYt2Jf4Pnv1rPK588VFhppYj44VD+iG8yvF3GKNRXlXzznKV\n",
              "rZ9j1l+T+8vsVfp28A1NV9klAyTw8DGstXu7qK7kHHgLfQsPWuaf5QBd0WiSB13/tgLShEAipbWY\n",
              "CM4jllChCa/2bxfPjci6jHZhkCZINGlsND5gev2p2Z32kmdQmVMMilADVM0Sl92Ge8KbSMJ0jBMo\n",
              "4LPQU9aV/kQERdnW4eD58ZewoeyS7fldMjAhkhr8pug1fWzs5PDoMq5IckSXOGpLrCZxHYKcUC9P\n",
              "VfH+2DvnHuEEzS14yg3KVCwQJIDRIXRf++mncvRKvYAAAIteUdg7ASua50d6pvzXFF7q3prXI798\n",
              "2LNjZ2EtjTKRN/7DV5wK/Iwnya/dzKIwi5pcDCE5Ppognl/IYZ3Rh+bd0uFoAr+yrvAOiM6TA6rM\n",
              "I1ZgZiktW6DNq0KQcuSdVJlOXKiMqeYeA5HHvCwX7q4vhdS9LTczS7se5cHIq9li5KrXiC6bfVgA\n",
              "pAUDly9NO/9xf1r3oDb8E6+X+JDw5/3ULefbdumOerP9uLhlEAmWDhEUUeVIz0DyI9wySnj3OQhQ\n",
              "PuSdVXhl/SDZH7J4ZjvyiYl7+lUxvk64Pes4oCRlx10PwfRfNFFj07o6v4kd8ZlnYrhKKhf60xV/\n",
              "4MZL1RfyZCl3qqyPcNws6AqnfYnRbD04c35lzwQ/zf/qQ9+nEH6Q9WIEM4m/zh1RzVAzBJTgbgmF\n",
              "+Uvu346x5RWVhQBxydSOGU0DZ4Qm0tW6bJm35JB2uuqsrTmbvqQx5xLAuuOYh7FrvZudzY/Amstn\n",
              "STEXzTVQhh1Q8E4A8n/+t81k7xEwhr8TLApMP/3Qju/6NsvRZ4mB3YwWHlZsFevbvdtKK7z6X68L\n",
              "75QAphCYTrBAkTc9eqxc8so9q1AKt3xaN5SqJw+JNnQKEx97AsGHN9gLHWxtz/zhLCN47iUupUN4\n",
              "RsTBV0A0yNre+wjge0Q2lvJ5HAsKdjzHTQn1WyxQ5ChyczYjp3PxRePoQSaxWpB/wZEsnPACAOhu\n",
              "qhUMLc0jTswbYqAiw5RqqHUxDAOL8qRckulURlWZi1lyf3D5J6LLFtvUVrhGiZwQ595Ex19YtqwE\n",
              "HfAVdAG+MeJHN4Stt2X/bPszQWZbpoKqSuKReThqUMWMTnzJxc4EoRbbVunrSIE/frrCCy1z4ukr\n",
              "iYgZOQ3JzcNpujeAW+AMYb+WihFsYHjNWhedu/Xb2ERIYZTqLKUCJxENEWPO9rN0hKJWccbbvtRt\n",
              "RVefjxYJl7FnSj2ONPmpatDyEnTqyPhIs2epKDYNcGgjiUc17V2cePnZ9lN1a300jK4mtrRdjKcF\n",
              "bmlFcvc4m4u83NtKbA1mDySTZlvw64+m9d2R+jgj7Xj1I/CgAsofAUNS1Jt7ICj79tGHkyTvRdCh\n",
              "+jWfKDbfXR6ToQnrDKKlTgtm2WxuEI+/bcQzGOdjozk2ymuOgnw4wGeWs60mwffybi6TQ51dyp5k\n",
              "PHGrKy5g93HD1FwGUTyiOZvevrKr5k1EsqBSO9OXpgJat3qjLaX3uDTAUYxBBmZfLKZ3mzUVMkpr\n",
              "wJxPvK8hdtopWF367O+K+Y0LRM2hscinfv0u1TKlAkMSWxUda7rKeRgLa10u7o5RKsUmDvieU4qH\n",
              "onqytS6+j3ncf6rodHQS+R69hc+ptHkc7OQ8oXRuM8bUWBMuDUIwWbYTS+BG6GdjxvPv7EqWXfWA\n",
              "R718DAkMYtS2Rz4J2kMkuf1agDPnDuHFY6BZPevNUiAoTfMLjOs5GP4sh81AzkBKLknRTQLUf3zX\n",
              "IrwNog9G5QC2Hd1hbE8R9VQWBWSminMtiQ84foGIvxOi4n8suJQmiE1kd0xuwqST0j3HjVjrUTNZ\n",
              "j1el9NLp3YTBaUK/YqZmUDzErs9u9fSVzUyGAOlen5p+z5zmJeQc4WBT4YvtyhbXdFqhXuj6wXou\n",
              "4SQwMPYhD2TlEtsH6X6Z3S7W5h/rqaUeDlKroauGUloq5bx6GcmL8IcmcCLaTZRPiuWyP+o3Dwwa\n",
              "Gpdz83Ecauq+DKTqRLfJKZLw399UMaWl4D/h+F8xKYxpWX3iCAzEGWp8TN5RQEZi1iwQjar250E4\n",
              "H4mUJj5I+72nQXouLgvYUw9HMw/6ic+r6mBhjw/UfTWe9RpM7CGKyqn+XUqdWt5vHdGc2psc1HLY\n",
              "sK5PBCFwaZNKO1T+RCvrQdkpX2r5o+27S2PEfbEJYeRR+t6gD5/2ek/w1/NwIiDuvE/7/BVm6O/f\n",
              "/oWbhZ6og4vv/ox6YV00yeu4oD0g62KpyghxhRXRCrrR/csXi466N8yZZOamjLneAT2mWZPBU5RU\n",
              "Uvo4cgGrAz8VobzOxqhHQpJcvdT4mZSnYM6aylG9rEtbqBdSn8mWYDGDlhfSPv9SShYClGdgVdiL\n",
              "IxOSqHWJC6OxF4SXdpaE+LtunMNxGJLZwbZezzxcl+einl/qctvSl3A0M6Qoswxj37by4B5sXWmH\n",
              "BofJuNWqhJ5174su1elsIBucdYMiaMzP1gA3yjhAMqJb1Cpzqt5H10EqgjZwCxFqfkmQoeUQhyqX\n",
              "WbQYCnBFcTIHFPbSpEN//+V7mS/e5YY2oEzWVrvVsHkSIGa8CGU833OE2/8Vs2Qvcysovr2FH8dX\n",
              "n+fUmNGekK+OTqF7FvMhwbU/czklboxrpScqsLY+DKCBhObIQpMf6Ew1FZqZ22WFgepMrLIQBw64\n",
              "6hQxLHFQYjKGxVXBiJSh7+vUGX9SDkHJ2NLYNLHjEn9Dy/ke9vOmgBPyCnPLDywjFD/uwKfYaMeO\n",
              "/OS5txqZzExcY3+gcw/pwvcIyiFnE6t9+cyk5apxGYxvJaOpJvkTiBZX+Go43suIee3r4FpXWrq7\n",
              "BVBUz+y1CDwDVIN0aNFpfA2WngjI9viVThEgfVNOzoBpLfn8lymiy+vR/var0LfWklqM2hmb1n+E\n",
              "JI6k20vYUGAnhQQ4vvZHVz4znivCRKbzlBNo4HyARjIP9CEiltPOkPQHVONs/mzx0Zei/jXqv85N\n",
              "fKAKm1X1vZy2zF9ubL6PLLoB7GAj6f5R9MuDTyHWrw6acfGPOhduLI5pEQCJGI4g3PVVyHYLYDeI\n",
              "k5kSYKn18LyhwYtnzezrtEHjS9G+KVVGfi3VDtav6dun0rE+9pZRzDyPmsumPONqsQsMhPsiNUqJ\n",
              "3tmSTedFfEN8QaWSOcLVUZByqFN8kwnpq5AWhiq9bYjs69KGxZ0a5p2flZpdp0p+yZi+6wm3SqZw\n",
              "1QMYrXEzxtE92Bq+I3LyCP66fYVqBJK0dMygJrMOzPRIL9jaJ/rYRI3x1YN8ZBT2n5tQ0ushhM5W\n",
              "EnRTYZF/pJ9LnDHkNNF1tyxJSev38FkSStmA+eQlnjZ6ljOBYI3DGJAaD5/BYLTXEUCCRXAxTGP+\n",
              "kcNaOR++3LD6YN1PZxID2B+4dUAQjYKZEXgYl84uG4hvX2A3isGOyx2yhZr09Rr2NLBm/umqpm3J\n",
              "KaC0j5ZvyvxI94MAv6D0K5u+OZJ0ezKi07DtKjtcblgVqe+tHBHs/kAvBWZqtWkb7oED7rWhHv8j\n",
              "XhifT7L9sDxZ+VZkpzO2fbnvlb+OUuDzTg/fhiQEbisPFcBimgDlA031uqfdYBG5ztzp5bKNvHEq\n",
              "lpgsxatJD/+hLTeiRWKumIQFYBUCPq2Pw4SIlHkQ0OPdmecI1UECeKTXEhfeoEjk+TK++FjMS2fq\n",
              "ZBMZz1m+/50SvEQ8kypEeI1TGUsgkMqdYjQmEsT5GRGfa+ztMoBSF4LFt79mSEKympNJWrFKmsJB\n",
              "bkOH/y7xyarCVPiBfWPHXBauSVe1H+UBTipKJjvkCsMjhLVRIEMtnY4SE6DvN/8TSaHiktvFcc02\n",
              "Og0QNeJNb7/QFdD2YCev2ZBh3OeEnbDXX8ny6WDb/hZjbQYf0iXPjU5Sj9mZ0K2Nja9DL3Dz0ldj\n",
              "XxaCiBGcp4vxOfb0XVYoQbuH2ulqtc/Qnm4OCBrDDS+0nYjSsdVPAKmuCFcgxPWiYePb+1FOYZ5d\n",
              "s3lIn/W5yXagwRa0brdvSmXfe9vHtQKSfQ083BgwyhF9sGAVgenMITJi8AX9kEQsM4E3glLX8/Et\n",
              "7864swx1tURBUkEoSpD2ttbn0OyU8dsm8Q26NmwtX+qgRq3uieU7GSGiINZuhqikIMgZjGdFDQnz\n",
              "b1Dwyrg9cWoLWR5+V79MItvZ1GcudgUW0X3zcHWtCfdDKwvC/nYR3zAaCFUgpfaVYAV2NCE8+h7J\n",
              "uxhN4FLy+8epffaURLdVF5ZPaSArkk9b8poEcDa4QtONoj7m8zBrNb+eV0WT16kGtUPp1uG5eiZq\n",
              "nAsylLgh8KGz5nsR2k4P1iZL5m78wQ9TQ9jzCW2/qP1n2h/jsQ4Iee1cyuo1xS8aZ591ugGkFZYN\n",
              "u4WWZIc5WoNMp9UXIPs+cYmm5Xmvg4Dh14BNh/N9OXn4p8MbIBx54qncODQyKpNkzoyVbxY+0pcn\n",
              "D77xpmZNajgNmFyR67YF4UECMfrCkyjVH1O5sIBVJ0Y2qZfeHn5Kj0SMA+3YkFV99d/5vhur2Ise\n",
              "t8T+528HjNp11M9NpI/cEbrdj+T9DjZ51J0BhzfgmECjcHGG7M20WfItE90gs+bGcLCWg891TYHT\n",
              "8nST++U5C29JYWXw/4DDF60uXrR3JyRqbHlXK6JuULRhrbr9oq/KgaFoZPco/wdCX9pv0XeTGpy+\n",
              "2l8Nlm1hm/TeIfcK7gixVqDVw5wbDmO9OINFJgJEYWCFQdz7IBXOHrLvZVBfd26vyzzaOoLwEp0m\n",
              "WY91pVYHoUVyw6AyWKmai56KaqGTFFP/NqYCjnLmXLiAscGxSZNjiX0trTh8em1DVV9u+GLD/Phw\n",
              "om4VZCQ8y0XmLWkkgMoG7DM9TBvAU8rA0COTbmrBp4H2UFpwyw6Z5OODvf4Ey0WmBBz/lIw+iPQn\n",
              "0NAzg+dv1uFHOrdWaxGg1OO1w6xHKooGer6zsvmCwcWQStl0Lno6ynoMI69wVvoCr+Ytw3qU8szw\n",
              "P3uO6Q455aAKhexXuJknuBG/9asevzCXAfgLTzqBi1H03gXEagSDdS7OGTLzBqsQVzY6jZ+HBN/k\n",
              "+JuHcjTo0i9QNM10ytq9Ui0lv45P0G+70QTSLbW5Vi+by+9RMCFm6R5zG5ANlJZxfAz7j5Mrq5FL\n",
              "rhLswC3MzqAZ98JczTnFSLKzVWKQNKEz3bKKlSlkqUMMo9HCBuN9eNPdk2sX8DO/2Z7buUFX8saa\n",
              "cIir/EUwUTjR7RiPuqMX2ALUdqHicBLe+gAIBHtjgb9dqpcHS05/5D7cefVkN953//9p6693Eghh\n",
              "2e0aNdz1688nutsbDS8tQ2fEfcs9KxAKsHt85kgKCIz6JZhH+5rnWWMVPydcC1AmnjFAvZoGegSL\n",
              "TUDJcj99cjXAXvEV24vLaIDT9wNkCVIMpiCaC/+pPw7e+1Ss7PORPKmbnclV79Os/g3srgozUr8Z\n",
              "LETDLRN1lDOkuceKdimqo+iVmSYOd0i98wwHY/5nzRPOkHDCVMN2K+CAWHtMufxcLn61rFxnEskw\n",
              "Q6X/OBaksWZ0k3B/DN6cwqIbBl8SFG50pxTKFR+k5a8EeqGTVENNAUx/NBnh5KaSOX2yTb//EjzF\n",
              "0whUtyQE1UKKr6Pyn/nnFzglZoT3/B0exT9V+z/P6bix6f0RMJr1l0yc7133+Q0J1H2h0nNMeNxU\n",
              "iNgSZGcX2sLUSWCHqG92iK+AMXd8mv7tgtFiu5qyPotgsjcAyRwFVDqyFxdqCPd8n9k9f2I8i60u\n",
              "Ym3EovyGcdwSUVKz25lCP/4oikbnxhCdaVxMoQE8EsTGt+kNCST+XZKzDVvtwqtgtujZDMMaUpSf\n",
              "v3rdb23JnHlTrfRIj1Aw0sOzMfCJHaUqdaD8rGEmCEROugpyRJ3Zpu7VoFadDqDZ7HABNZpepJsH\n",
              "D8Qv3VOyXexPwBGGtIKIJGEhu3t70CArGwFuz9GQSpIXZWe3Szo89af8ZaET3rj7Y7BOQR/4mEED\n",
              "vUNdWiXKL+R+HKiyO5c22yPGIYFj6tjve+ioo2xyamIrWd7JX5IsA81p4KeJw0O4za/TnqtLrAnO\n",
              "K7/271L2oQBW1vj38jouMHioe9Jzatf5hMugnM6v0YLo3pCaHWquLfDIvR6odsCtf7RLUioTZgqt\n",
              "KP1BrhDQ/xLFtX73oKb/0DHz6W0si5E5uPB/+uPQ+5Wx9zemsKPZM5NXEBYQyl7hNOqOgZez16q2\n",
              "yZ34Ng6AqWNLZrWtSr4XoS8bP733z/WKfDy8oKVdwN5t8+iZl5ZM+Rc+Zro71ZKnspejncars2Q7\n",
              "7X5aiUl8cOfvFGg/kjp7a6fbd4uEPAbRDGwAP0E71vTGUZpeqRa5oBYgiqbDn6ZNUWox/hX/Ncoz\n",
              "TSGAleABPSJmLi8eXDlEuuWXoHNTD7mmZ3GCMYgsVBp3yUtMd0GyOKwQ5bhCL3HfqOJpCdBvzh8v\n",
              "pFR+fD/AcJ0JjsTEFAjpqbzl7l8VQ1PAMi5JoETOlUqHQ61fLvyajLAbZkLukLkcKYHhI/9ffd1V\n",
              "BtQGhjgoA0NlYn+JwsNdkoKLihllrPB4QhYeX3rsyPOSrnVqlDoNVSswKkC/rHi1aVM+CEViXzjt\n",
              "ogG7mE+JmE5gTgglirJLf4c0s04c/rKIGmJd9v6AndgH6Aei5li4NOzAUi13sAaCb3wsRZQly/3K\n",
              "W0+ziuecpcODPHwbdhqNmL83ZRj19afiF1qo5MgdxIRwUGGjBAlyXrccbGvAW3j0EWQlsYyD9lnb\n",
              "qKH0bvK2Wjb6tjmbaoG+dW0gT39J5StaclQz7YC+w6L5B5lFF5KB6pDRg2ZR5e77yB310WGJgDFJ\n",
              "E8c8A9/5dihWX2khqX7aCLxyJQPUaMqE4FuXPHJyH0aicoNDioY/CZ8lhT0C2XyTjuQbY+Sm5RyG\n",
              "bTyYVRG0+j/dw4nQwyfyfjHlrkA3WnR4kBrqmJ29OQ2rPhsOSnYeCjCc4rdCk7BMmmqDnQYKQTaf\n",
              "EEi58ubFby9rgWyYNfRpeyShDeQOjHdaQ69fWIFUh5vmZKYlbhgiirb6hqoaolnjWMsKzvoB/2qX\n",
              "MlKy3avrKfxWFHNrZd0keS8e6YnnkFUrJQbUpyIyZLHUk6kg0HTv5Pkk2F5FmKhWbPWg/guni/JB\n",
              "nFP8rZ4OYSSg6FlQfowcpg9mhaLpATybTeTsfQs0dl4t+IZAINNLkDBU1xhIa6naEdzQKAZOOr6I\n",
              "4iR69c+4CrtdDA5JerBuvn4US1nUyOOA4UQJehOmHbYTPZGhTsObGmOg1bVyy6r1RKEjQE5IuNin\n",
              "UvdbDfk2FdyKWOXmxGnP8Q8lEByNdE5gmmLwHwxx8FxWmPW6kGO/OqA4+cExbbz5H3jLK1fFfxWM\n",
              "XRufsfhY4py4oH03c32ncn7AiWVjVeSCMpvLKtaOXeIDq2WpMTXHV/rddQATYrcDXuhyHRIb2364\n",
              "X/R1cNpQoPibVlv1bCO07LQoIWiyVIMz8lkwqtWtTmG7XVMjvXNbqQMrwI1sX+ljSF9jS9oOEpDa\n",
              "zxcrd1xLir10sYCqmN6uFR30IYXHwkXPCNcDhEOt5v4hspXGtjhQkO8O7/EbpFKKid3B5rjWQtWT\n",
              "RLOvqWs2mJUJV1jUL9f/Q83+TMIxyc1enffzGWEzHd/gjmpHgcpm/H0CnGNof4z7dl3Vezk7BjqX\n",
              "E8U1ZUvKMDpo1T+U9QK9aXKMJPZoSNbf0q1KYjLoT/RxkUVxr4soMUsg2HMWPeFg7K4gsMRscm4W\n",
              "G1nX3JMqL1KjV3V4QDugUPc1NWUznLCeKd8sNmf6QIyqvOasIpmXuXgrrDBNf76zridK0d21+Loz\n",
              "e9bNk/ChvkiIKEhdIUccpxfYIwWLPA9x/G11ZYX/imtv6BA7FpFe7wsBUISJNywMv3GuTV7n/JFI\n",
              "O0NNaiNnyXol7oZMBpVEcN/VdPaKYBoM4uOBvN4iWLlVme36gvHnsxIg19KdR5u7nX7UsunRlB4N\n",
              "oyeqO+Fl2crYlZtpHJMCKFLPFDzmIMfdOc2vFNO3gjozuq6/ORkv35mpN/l2Qf7PM0yA5VhK2fj/\n",
              "qMAX1GhxFird7Z3jzVgfzfNN+Tu/i86y8TjXrOm5CIutZLiuG48I0qILHEO/4eTo/l8Ic0EVklla\n",
              "5KbGCiIs5BwSJXTpcANhR/LLDxaONiU8y+F84ZwpmOE+ztP+tmPHepFo7I6GM0QOfe9z6OrQ7KJ/\n",
              "W40wUsHwsA5V3vHd4m97WEJ+86FpV7UtSZZxgZl3bNu1PS0jDtbNv+HmFeswLh/Om4i3dlO0TZoU\n",
              "t/2OaB0VvEe9S7DuxonIDcIPEsvOLwARNDmYTvAIlEvBhAjD80+xFbca+FxLnEzH2kBeBCphToMJ\n",
              "NKXpnHzsio+clXy2kINbZAHPLW3SMlQIt+EA04IMZFFkwBTVjRm+4vg/UOfOcriKXC++Gjyece+y\n",
              "XY5cMpHjnlhfDveecSLQ3gEkdqbfTJOSDrIogfjKUqfjVDtCqOw9ehTy1HLo3klI+XzAGfTA4cbn\n",
              "vVSZnTbmEG8K8u0+Wnpo38nSjv3AnAjMP1qVd0FTGBV5GZvLfR0D2jwx7ERd844As5VDJ/CARvNT\n",
              "J5m9utRl4mwnIM/Q8p1m0u10uLtm+Qy+21DHS3JycneloxzSNkYPhxbfWzpgrcqCmEMBhZfwFsio\n",
              "A76kSm03TBNgDuemMdWEguipy+VzWyVlst2pa21Xg+NGCsu51uhWvZKF86J0VT038fBJu1LoJbYW\n",
              "+hh8RgfXife7TG5P2dONydNfEgK1yfxDJze0n97DDgmkV1LaJGzY24rVlIPqxwOoNKBqcj5Djl7F\n",
              "CKcHjiWQKEqKo2awmTl/O7bA+7QVSR4Y4xQ2joMu68mxn1p6ok7ENrIdLl6E9dpI+1yTEKUL5X/B\n",
              "zrulJO6syWXG0R2lTVGksA0y9sKrHcgW9eHtsn9Z/KaACuZroW6y6r7oF87Ay3YYyj2qV24oM/cL\n",
              "tcr8SMonwuvtoYEGiavRJ/rdxq8bfoQzeNAMe3bbSEyCOlLMgGV5GVTtYDLi1kWoWLZ7SiiikXRw\n",
              "8/cidfNjDr/Iad/1+gMHGhv5733kALogS4XnHaaCIpxE38HonDD5dR/4cKCLq/v+iH4LijA7KchJ\n",
              "aQg2TWD2e2RffW65zmSqLOncDfaCF8r/MH9sxV+4Ym8+R0om92QzK9ZS6zl5eLmbWP4Yw7L5ziIO\n",
              "Eb109PnGDqd7wA/k/GcI8LEKPTbIhA8Ow0ZZ3yeS+mr9UzHVXJ58HxyOZ7Sf9L+1pDRtU2eEvLPl\n",
              "A4z8zjI3QiISd03DUgu2dsNP3jAAZlrAVDEorNnKfVx0GLoadZVF8UOou3iXXwOgMr7JOibFlVpR\n",
              "2y9iwAcfq+pyzIoNWu0qlOoPVapkK5qyfR7xTWUsF49Z0eT9TlqFbIKQcbXV5CfKOwfi7be+hi88\n",
              "qLK0oFf7GKTn3lEcm2C/l1uPETZcBa1NFTO5JiyMkAPPQhZTihIx9dOjYfsEsdTGPPzUgau7jLJ/\n",
              "omWoEmK4lkYgjCuAoUpzO053xjOI1U7gH1z3liMTNEEaWsp+mI8Vyyd+6fRIS4x+zfjus9gW7fHZ\n",
              "uMh/frSvjtOKZ1YLo0Fpg3RWJ/+f7/Do0aO9uKl7JtTDlf9AidvP+NbZ+l2e5XSBPv4Ziq/Er9nx\n",
              "Bmjwxe2HQ42D/ubJbNOQZtR86kPS5exL/1AuB9foIS/4DIxGaF3jHtVv1KBHtUGgBnaJxlHOXHlv\n",
              "LN1mEHJ/S99Tqt0SmXb+9aiXQLECHd772OUX95Zqpxuesxc1ub98sYKFQ6T4L5dQbxZcE8T1GTiW\n",
              "4isO3u5sioDe2eUZSBI4UWne55ZrGkzJvUMNA2Pg5WyGDSAHrSbQPQUzRMXzPHj9JEkrc5EGG7KB\n",
              "mzmE6GbQMk8dunh0iWIRBqtkQvQu/1/H26b3x3u/WxrdkkNayaZ+BOA7u0g4/dsVEwbcFPZFvERx\n",
              "2jRtCwlpQpnT7qRGUz7Pg0ps7Dupak7SrcALACDqEQBErCP0YYXsHJh/sxKL4jq8HoaBp78vH0kh\n",
              "nNt8Gn9gvnOnmi0pdVtjFxl4xJzCreDWUlp6ot1Wq7RGJPUqPxWxnM/rZHCQUOnuPMuAcEDbSmX0\n",
              "WCXSLDRK9BJ81Og/A2T0ZLn9fVcbfZ+wBUvKcVQ/y4if9yumrzpnf3iSLU5Iemv8/bpJPou/OOCe\n",
              "XjnuFL2Nh/R9yXibT3xqe0GVC0vQPlK5ZwuzfHya+R2YjrXnvTI/PVqYURFxq/HdQjUgAWxPjTdL\n",
              "r/kYB6AWGM1isT+OL+x5zMo0K00NibddzuFVuK02q1AHx/OE3OaN8ZmpndunsmAdl3UWFn9/rX2c\n",
              "WBsK2yFVIuL0qnJgPQdMgJn5pFS4fiMVEoIjraZsNycN7laM8ewmo6YyE35UvzPDjWbXCFRf2uv7\n",
              "c4h/+FUZuUqvBqn9J+xanEcz0oZNNey9ZxXSDC76OoK7lk9qh74i0UqLL0sJz0JvDBf/G3dm2Zph\n",
              "A/QUw0aQ28UhqRn8zuI9ycQvrcMBxHvYxP/T/8XCRHcEth7ROpf8r2llv3V6sS4MOrI7MhoMVl+h\n",
              "OLYiLPq1NuEZLjq10FjwSLMczDf0ZzWh2mbbSMIP0o5uu4zzKe347QW+jXmeYW5JbCi8ReiaCEHG\n",
              "b0LYIuO8uoiKGlOXIdRXod5HezGVnetjlJm9x61EWD4xMapzRy5ZkO8iGY9W1qIv8o8EdCSFFChM\n",
              "J0CJHFUGk8lywlV/rYjcYyeTVM3DGpZl6Alfj+otoOVD2BNEb/mYuwCbBWR+P/FIsGvYCCh+zUHK\n",
              "lXxzKJQBfiKPM0daLFWsPLSNz6FqWxrsQbLouHI3pbrKunqtF3rqG/u/9Ji/fohsIgA1QjTMbH8N\n",
              "oX6/CXChg08my5TO6SG3BGALDOnlqEFUqs+gfNMb67A3Zak6ScbnkPOnD25wSBcOIxVZb1itRRGS\n",
              "ZYAHi69D+G8fQyCDG8D0QCnI9Ksf37BVOSjreTI+1bYkWEEWJoAl3AYvpJfsjFRUSHPof1YqGvLP\n",
              "hvh/g5WTy5aaLvAeAwWUkrMDPssZFFLsxpNMzIh7oEc1jBuPC/Ty1s4Yc5WPiMQRNc6uSmHmFHEn\n",
              "v/u6bA0X7dwQ4rVh4ORlZsn27BnagR2IBc4+6xeN5T781sUk6uD46hJ+mb1KTzuBN/LCEbp+D+7t\n",
              "7qVSlLBOkJJ+4IS/qe2vgtvCzW14pwQXteDFZ3/LIuTuBHKPS0xmp9XskS2HzumZwFV4kIVBYKiC\n",
              "EB5oexFrQYEqhleZw7G6B/C7qq8OINDTT5fh1t1+NyKyfvFeVbRXGAF9dFPvuax4NbPca2vYTtGE\n",
              "xnfMjung35R5q6PnDH7fL1dkv8qiPBQ+8kNcGP9Ikwg3dLizBwxZ0dv7CxPPXHHMKXLmF9qcqEPy\n",
              "cwI7qb4L7aLleqfHwrK9xeZgx4TXuk8Bo11Ex3Cc1KNjrHV/FLz6vYLrmeM6P2iYKKqlIDWTscfM\n",
              "V4QQfdLEIsvqkU4VJ7nCEjcmaNUVujvU2yYC8yeYJPKWPix5belOIqJ25F5QAUK5x+TwYcAkBJgM\n",
              "XzlhEF972iou9Sse8chWo7NPQIGTBKebDCE/TpvnZpv7nLViNSpqilw9F1mHrtDKZIq+RfaKKeXR\n",
              "M+ajsGbUWeKdWoXyhbLKx/MdnkY/RXsyFEkuO1eM0D6bkRGkH0XKbWHOEhrhKms9fgr3Ln96bnmy\n",
              "Lmv5fdLXLXoyB67ipmxbXYUQr3mx6QnjNPvL6mbV8hIsXVUISvKdH68nVXiMKM1uUCyqeUG3c1oB\n",
              "yNF6rV01p5bBKJdtODA+yv5m2qrD4jvxmBA8ExLxbQ+xzmmDhxCJMf0zRWnRzPneatxZNlEmmgz4\n",
              "JSVRz2Z8XNkGBfZkC/pVn+e8QCJiQxbZN60Re88HgiM536aqBWHqdCTmliy+kEejsT0E7fHM35tA\n",
              "X6ZiZtIheQka/VfNAFwpMxvZWUjADtbNOM5ynV87pC6BQjo0ILevkbLDO+fkZHFphg+DkjbYUY5z\n",
              "zod/sQ7QxYxbz+iyB4g5rXeCTfJw9p0hkL/XPRInRc0nul5iHuODtWkUW2n1g2u14wTLMkFqn8jm\n",
              "yJ4jQu/cXuiABuuIvfu1MlRjpBFeAReaFqzppdhNn7gyMJ+MCOdNQ9aNod7Cij3D/UH9cwcYtVsR\n",
              "dTCGCbUTFFBJK0U9qYryhxGwqemVjSaQwRXnS7/iUkqWR/oZjeVXnY5vpM71s0+ZyTuQ53CtbmP2\n",
              "3xh0rVcBvEy4DCZoEltiDJRwaaQpsGvKCmFvMGnjSxTJsf9V4aKRyLl8fUlxyvmFSeIfZ3QfqJ/b\n",
              "syeH5gYS/tc/WJzCnPK0FnFWoFX2g6a0uLO1x7L6tylzBy3OWVx/KhBFgnF7FUNsGbLjWcAvYhGz\n",
              "Qm3aDvJiX2/S5/fFk64F0/J6MdCq1X+Akg0p9H/punrgei9lVvrOL5wwR7NXGlMJ2ucoEsM47Hea\n",
              "8vYDZW2IJByGTX2bIT728FfgBoJpG0J7VxV5eWs36apYMs/N42zIIFOiaa9MRjGMl8tsYYd9eQX5\n",
              "oOQ5Fd48x6ejLg6Xx8pz+pCDvIrjitAN1a/GlryZKfnqm0NSE+7Y05xmwuTyUcelbu91OPrfSjFq\n",
              "bLG6ljNZFxACzBypbLDfdAqgHueAfnWPSH97eHJgOQSwBpCM6eQqBzyhUlOJXKmFebuR2XNxKzxq\n",
              "ejZv0mireDnVKuB4/D1nzc2WRThlzARn7yBrRc2Oj3/sH+9V0X0ohQ5Tp9w08kRM0lxa2BE4iWX3\n",
              "TH4VBKRMev++peTv/DpG7Oi7esBUdRHluUc6Dak2TzxzMKN66nuYyg40UENKGBgMrEOgzLwA2vsn\n",
              "M21dt7xdPcB3JWf84j8riIv5F2zZuWcGhDhVSGz294qdQaX3917sjrY08X8F6Njn1qrxfvNn0yM5\n",
              "RC/xyrcR6HZ5lhNCKY7kkUqrcJFNWMO6gwwLDB1WsLIBpkcBJzzhKe5NEeOFd84pvK48/NySnny2\n",
              "zaeS5/JOrQBLBZIkqohJ782641G+NSms7vQsYOFNOJQfr8hlhPwSq2XCzvoLxIVU//ibcRJrAOJI\n",
              "c/cIjKzEUGW1s466BACg/Rr0IKW5wcH8UFoas7eReoElPwp3tvKHwGQ3zF3Mr5CDSZvgvb0mgddB\n",
              "7l5D2F1HyQUYRkdKMbsvMTu1md7gpSg3eCn2iWALh+kHExUKhfniFh0YPqN4BU+3I682ped3Sbiq\n",
              "C08IVSg9STMEvBzdA1CpYiOi93UObHcaTOAww0QuV2OYy0uMJOlNSzTwUaJVb090nBu66aeFfjvI\n",
              "GWi5UQS5+oXBdaM+HKgey71imbY/873faLb9Zgdm4LrIhICia8t0gdNslUMIlVm0AafJK+YuW+YL\n",
              "/SaTuIAt8NAzKjHrmee8l6Je6GTAaVRHXrC3LUFMD5rokjbzeIliwL/aLZSGCUPlMniYQ2ylV2Hg\n",
              "XbhoJrx62VfJ4K3uaULuSMRJHgp39Dh7W8coOoxgZZMkO/Ys+kO5N43/FWT3oCzr6l/s4qLcciG6\n",
              "BARI3dwadDxwhX1h30jXXvy/JRXngoHYOQ99lJzCFEtNnqZyh83WLTV3ZFav83QqZTTH8f5w4cCS\n",
              "neQgv4BL2NNaFFC2s6LPSPeGOQ5f1dlHjNypkqIlrVDLFUZsLKteitUB0a5Q99n3PRis6iCG6lmX\n",
              "9rt7sD+csnaZBcCuOAQ7rpQvooG0KLWu3dBqzxh2zE3gHakDJFGti1bsc8FMh7Z28cJrb33Y9S/f\n",
              "CXdKevtFt3t2mPUENY/uFPW2fry//8TBR0A150UCbA03hQahKOVA4MSgntWJxnNrURIefuhDl/4S\n",
              "+UpPMWVWQUK1mmCQ7K4owcnYncXmg6TvQ742N5F7qyC2axO3FHbkaJHfC/uA52LCjx1GjXr9YMtF\n",
              "vXpMT7Q5FaN5Sg+emrYm8A7Ue0O5s+hp+xX/QqHm2OdkEAA1anI2yLv4gyaRcPGaf+pzGikubX7z\n",
              "H5WRYuesntb66DVktK9OSGS+GUnbF+tlFTFojA0B5B2De9Hd64pWbcIVzulMIJrcj7iO/kHDUKJA\n",
              "ljryQN9Ry72wDc+YQwgGSL0mJfD1Fh9CsWI4ZNK9UZrnmB+r4rVRDk8vX55FTbFG70nUIgeEN1/f\n",
              "819gsUi/5NUnEUiQMcx6iSjE68q10EyABz9qzqlb/SGZ8fu67j8CzzJxUl6KVPv/d9UmM8y0o+zA\n",
              "b1mXyhAM7PHsOGzm9yDCYdvXsKMQgu5XRSnpcSllfR6W0A6F9nl355l1yZbvme1ghMPvZf+TLrhu\n",
              "Y5pn4k/XWYhNXKRvosnjFl8L9gs93nb9AJoZD8KL6mMkBGPN9bn0bd6hwsD24MZjH6MMKLHkXZTL\n",
              "/RB8t35sBpsTNUWpWXZS14kl7n0DHhgKktB7KLa/GWK7uuEDZq4cMQ4qEhOUgr1AgmnffQSQiUNS\n",
              "5t3w7tFp7X8eZ2eqZW4B5ELlc6C6WTN5r/GPbtPgdtMgDmqrPBqr8IqnNdmPAzQD7KlYf03kqG//\n",
              "p2z+33X6PKJF4ibMXAWocLNmP2LGg3ISZ33PXQsxiREHWpOoguoXZvEkv6AACf1z5dIVtHfaakNb\n",
              "N5n/Hm4NFQOceetnyZ56F8Q1tkzhldOfj8xAm4CCPOf4AqaWyya7YLBHg0xNfstR+VWZ3fb1KPcd\n",
              "alTXzktdELUfEtQMSO7P4OjcWbKCKzEpP1u6U/iIqv96hSnZPuXscYB7jNMpt/1vWNwK62xCAVOf\n",
              "KTDUSbqkBSc0l4/f1/Q1UniCF6aoYM0p3cA4/aIOJ5SNGHB3mgyodr6e/wX3BqH1LNqn+vYHvulR\n",
              "CiTFp3hnHNz5nKFyGJ9l3plDtx0d5WuvIddEL8oP/hYeYYpks7Hj2QszAKBuZJmQNRd7kAmhMnno\n",
              "uRXBAJdY3ZP+VRdjSgRxkq86mOXoDU+aauzRg6dQDh58x3nyrBg/7+usTCrwZgse9n+vJaXF4CvG\n",
              "xe55p9Vd2w7qf9fjyw4SnQUKHn93SIPqCxiw1JvjMg1OcIH9YzMnGZn6pMzfeZYPTmFeWDH6GqVR\n",
              "+MIsXTv172fpE2lOQiP9fzl9nu75X4pDAkrxHd7mdO4Y0oloH9ocZtntEatzzB2wqgB+DOu1v3hh\n",
              "3Ow1MlckxoMt1HkffqLPNYMg0DstAeWJ9jnDsAK1sZ6gOqhtQIHSDRREL+0P9CBQkB7IK76kOw1h\n",
              "I1i18G+/yTWCkvHMvziVqWoh9w6uJegYcBIZDL2MZyXm5ULRWHzgrpPNgEKvLqbojjr1Vv3fBLTi\n",
              "MINJ3or8gQCzNGQmREbqivXcV29vcrxmpzQ7pN1lIKHuq+sIec+FdRwLZu7I3BFd9zfL/qZjzviN\n",
              "QhALegCogW36yP3WT9gpDkwddc+n9kZZzWCd+puINJtNcnZbw/PjPOwF4UdBiruq7p4lHhHhqR0M\n",
              "+Y151KSWjFGwFlsqjxoIX52cessJ8ihWuy0kkEAsnRHH+Mxfk59zPHJRJSgymTImO2xTqOS6ctaz\n",
              "1/+SMPbcth03fGlkh1b1sUSK07JtvhmzixVGqWgN1JFX3tCRtEp4UzBW/YBnQiNDSICQn7hYdLi4\n",
              "CGQueEDxN8uuddbI1elvtI9ftPeCD+gbQgF82Msf7vd+YFH0oksB194vnhcjJS7jo2xzRh5a3hSz\n",
              "JStZei7bdD3Itv8SCwXKsb+V+9tg5bHUh9UU8tKYvk9R+DeRlPRNAT4Bhp/RhlhIi1eF/5eqxSzv\n",
              "QcOedQNgyZyipb6VHa/3Qg8ztcgkPPfNVqVbkymmcnc1pnkR3lFW6iSDuTKbKTXHVoP0qSAIZAaQ\n",
              "zBneTCQawVg3m+CsDVVRJhd71rIcAIgy1TX1Fj4RFy3Cyrd6NbdTTedHdsG72WnbsYOW6vq39KRy\n",
              "YbH4zJOQh4ZoGJ3mUMH92pUV/RHHZTInKLMZoGtNnj5vnA2Gfx53I2iuWeJ9I+zL2YzWSTP+qsyj\n",
              "rP5WwwsuOLx2Ev8ZXTM6RDajT4rtvEVxdj0E+aPW4H/X66Lc7TI/Zi9P+F6w/F/wV5jaMyKAItCG\n",
              "0k/eWiBt35WOdAbeep8l9Y63rVpoWzZdPC+kpEbN2b3O1P+OyNTU2lTt2qX+KDmL98JH7y6U8ReU\n",
              "swqmd4SXEA1h7FVHLARi9swYQ3Fx1zcRozALYWmwwJ5d6pyUlINIxXRS+U20dD50gg/BPqaGkygL\n",
              "fPmIs7h/LNciKV5MyE4Yfc3Ydi82ozYd6tuop8I/BV208viw0J7HLPyMZCoPGpi+F+KZsZVeuExQ\n",
              "sY+rwr6NsMdNE7dTfALmSaPA8m+KQt94On2ezGMFgXupwrLfNY8nsJZgPwql01IM299AOptjaOqN\n",
              "IKzqXXFqpwZdjGQk9AELP/f6M25PLNmbTBBJr5/lIXJ/dF4bcU41pKEQDmLJrU+nAikO0YXLI9Jr\n",
              "Akd+Xipcy0jBxZRofRIkDu4MlmnFnVCdyux6h/iYcYVxWlay/MLm0+1aDJeqB/knOiXMSu3dqC6l\n",
              "03YgUrs+MMPSyzZJ2WO37GCdoNw4GY51xjc4DkgSX98o5oDy8gd5qdOsm0w+oOhvukLXfDcYSFFe\n",
              "bfX8dtPw8vfIww+Ryz8YcbpdY9Ri67oQlzxYDHjq8uZu5j2/XT+lE4N2dR/ZmDfRZO3cRjZ80dmB\n",
              "e0hPWUo9Y5h17VV56hLAfcAwxvGqSYpQhpxn7UqXhubjQg27gFmz2jiuVo0KASuVTuTRhm4JJCcb\n",
              "3JyJUks86qDXd9VDduLbkZg3luDEFuXxmSbtyxG1A1tK9x+3GyjenYl5VB5Oc/b6ANmPGcPBIuiE\n",
              "Cx4FBa+AEhzQcN3B+yNdEOTPYPlrSV07s1A6QYLYnNLS8xGErFlO5Hecy9XvIuJd3OJiKqvOX1KV\n",
              "YODBzvCDUWxWSbxFMdMSqSCGOO6+PfMZqroVSDKf0MdLb2ObZ+YXdJ5KuorhzleS3H9N4CVuwGcv\n",
              "n+pJrxvmYbSg/vrA/xefS+gTIsDKPyjBhgFJUDxFiLupWbG5QtdmVwJtr7t+QjDRE7KLhU5yf7vK\n",
              "FZi9Xtl6ylauSUCQ9URPbT84F6/BrQT1H9tC1GhgZe+/WWKgRkq8Ge6UDtzsLlmV8XeVWqUb41mc\n",
              "DTs19zAik7lgAABlenJBAAAI4EGaIWxBP/61KoArt3ZwA1m53grvE05+TjRtfScizqAMveqWynYC\n",
              "m0NcWlUN0U5CWtCcMcRXFUYsU4d/6tbkA7JTuJL8YOcDiHK6CYOycuihd8VBy9uz5DEot6mJa7d8\n",
              "IEEvvgjyPVlqWeMHPlr6XleWFyvkTGip/d4hwW9KDVEkLM+AczJNqC/VuW8Pebl/2XJykzi1Ah1/\n",
              "XEZcwjbyq6/NDEYfxuStdg3ECtb+EHCbihEKtKR7Sl+yS4cYecyL6eLeW/cS1NFEHhOxHUAego2X\n",
              "rbCY9yJztiqhRVA09FC1gEVkQq56EunGSJs6hj1ht4Oj/4Z4g8Zg2Sg7Q4RYH1tW0BhKm38fpLSj\n",
              "Sasi7SZgzu9Fm9MIU7ESfSMFDzqGPHpUr/H9M4r8mMZRQs5Ya/DDFHWRidYmCclqW5iJtNbf/okH\n",
              "SkQI6As1ZSgbVUH9qPnRkAtG1y0yVM3YpftTlDamQOHM1fJ1ZQpj4DrTKVMJxQADDy1zsSTEU36B\n",
              "2lv++bBSxyfSY/mjoQuviG/3EeH3wsjbSA1j/6WaA7fpKmvIlpJbWQRndsQ/ZZr/N9qtEX92p/HV\n",
              "CY2DcnBAisUIZNmh4awIkGPe15hBEwjm61Li8YBTwS1lZMaoS/DGxqW7hNJAKtxb+sI3exHmHCY5\n",
              "mN77Za+OwQ/67LL5S1GLM+3ycUCbLuiKiE3GnLJgcuV0qnUArYE1gwumY9j/NIwuoAYwVNZS1JNL\n",
              "rooHYKoio6mZUNSoZr7wILvhzb8lBulsGx+Ohjaw9iDHjP7qpyzYEe4L+hbHY2Gyyi3/s9tH2hF1\n",
              "AowmQ7EcSxP1t/I636sDkok/173SLL07BFUTxxJNAfDEXcGxrVOXaJeGq+dQHWvBZhK1QsVNwLnC\n",
              "nJ54FZFZ8Gl/zGVFTBP/sxzu3OfGrN8vg5At1IoU2xcAKRQuvBrJnaQvsbCzo30zNd/esE3121Qo\n",
              "L+mFbrwGmJJbakU3q3RExE/gOR5553Qua/NyFbFzNlvKe4JIbMvpiJK3M198K9yuJaPQeVLR7X7M\n",
              "jvFNWxbQEv/wfa96w1mpRS/BVc8v0gOep3YPdxIVLS53NeVFFIVGWWINYBbDAuPgmZLeSkdJe5DW\n",
              "jXoFNzm//2mdxh3/4WBgkEGqmwar8+249LuNxBxT9Z/6xMz5N4KhWBPPTtxagYlgNugjJmRMsEVi\n",
              "3bhiY3IntlxwECsyS0UNDhkN1JquxNM84bGTu634wtm05bEIZKNZb6k8vWMlBdKS+pMhAlf8eD0g\n",
              "YFK24+8OWiqBqi1hiiMJV7kZ1XlgMB+5LfQKUfzoLaCPJnYijIXXQC2OrUmQ5aBkpqvxTvXJk5ON\n",
              "Fs7b8oZsxO0fZm4OhJGyI7jv1p9LBenBgaJjduCB2RqqLbU0we2xFuTJRcIrffLPiFGdns6NGSt7\n",
              "7bxzwkt7dWLwZ5Z7AVMuUeA0SeWMIbVn3gIb2BegXcY6CBw3ctPhXwC+6C3vLRf9NMW6GkV+ATGW\n",
              "G6ATzy0ogK9r8Sfof2vNhwl0K1EUOtdl9VQWQnWNYvbI61YAe8klzaA2jmNVu/pmlRrZfHgM/xOZ\n",
              "fk7CIzPEDDY7HtTTN4K16TIaN9Qvx2DEvWQLMX02aj+B4ESfywi5MfQP0uwZrR/39MlRFuBwWDEb\n",
              "0AtVOgeWOKxhC++6f2El7FJSgXSg63uS2hfkF+1zF/NSLzJtfLeSa18zaIisFkPoCurUfuz4W/qO\n",
              "rgiWwklfh2AZIpYB5LIX1U0/LEJVn/Y1u2L60TCozaN8RIOduV/QcSRr5sioR9jWHJQEONu2h8cY\n",
              "1MXr9ZWwM+yw8JIX+fGv1j9hTrYg2NgK4DDBLUWvBEr/0u4t22lu5QL8N7a/LMvF57uD6wEpglKR\n",
              "doVdRdeyj3GKDrb4opro/CnoEhLz5CpyIBFaGUA+dW6B+XWgY+ZRFXqOZX+xnJGayJKRgwVozB8o\n",
              "gLhPGEOBLh28swHjntG1Zx9FBry5J7OVQVk/jJChafgqEvE12COykhuzSjIvdUCLvw1PxTMm/Beg\n",
              "6p2CssrF3RmGWn/A7hChWgSow/ADf5Mv51G5/h7wHlHf5ukb8d2HzP4Mhk1dgpjrdgwgYXcuXrAx\n",
              "KZ+x0lam1xAv0wNphVkrV2p4oquk0PVVWqK9tFVgtpjDWT8jt0lPIrkZGZOsS0iYcYzw0CLMTyOv\n",
              "mgBU18xSJOSQdLTylYh2GVBhhAivf392W91Kwlj+5KjZww119Dn20vEfNcRiapqa9IKOUilnu1la\n",
              "4jSPlcis5DoGO+8fgtV2q7U+g7AzCNa+vlsIrMA3m5fbcKgAHEQ6t9c81X3+6mE5rX6UMgkGcnyd\n",
              "iJaOobsZhB9O26lCD9YwdmGHMHXv9vdy69k3LQ3+s5/XpiStT6m8pbCY2UJwjck8lis0J7QsnreD\n",
              "oyYVkMNmPikO6gNy0bZ7abhIrydLBr/7SDJCVaefye2+pmZi4VKwyTNE+oqGDETBkkP/lhMwiQY3\n",
              "Q9nnKrp8PkVaHTbMu+roxyWl/+3+MpXZ4xssmaEBEFKDKjglXJ2jWm58qPlNuLAtz9qycZzpODd+\n",
              "8VP/DRz8rx/UOJbSCpf4FtCc0L2lPoBhArWQ5JKw1QbkoHFfTTyT3ijzy/VN82lwJH+rhSYh8nvl\n",
              "wpAc9qxJAW2ar/F04DNTfffV+e+QX748I85iSUYBvbuNy21um5FN/5Wj6lk1Mj/s+JuE/AazCooa\n",
              "MSReiDpI8pgiMTefCA3fuPBUMuKzfMPfCZ+V8wMmAtgu1ABIVsw4/tgX1qxcWqh5RBiKa9C2dO7+\n",
              "xllCTBIfCaIAUL2YWwL6bwKGDmjVC76cJ2schS1MHO+wCuQtwZUr5Enqwk8zqLNjY6a015Mo2YMj\n",
              "fz2hQzQrsm6XnYuwI41eq1U5KyXcY3K+mmmtu2DlWadqYvUpqGOnvmAITJNyLgQuCdulF3QvtIOq\n",
              "xhKnuUZEhl+LGfmSAZ0edy1nfy+dbYM/7jzceEupiPSrNXGgG6rj8khr2lhW1E9VBYhbagiQOIqg\n",
              "O9CEigFFLLUcElAAAAahQZpCPCGTKYQU//7WjLAKP/80AI20COMXq95VV2JhOGuruYWIlUHz9ycT\n",
              "be5XGFJIcm9YGRuCd0VpCKNtlz3l+yvyRvQbzFAoiOxBB6Axb5/db/SR2iFpVTqs8+vPlQLAK/te\n",
              "HV3RR/ncUdvSGzZZ9YxTyyRNK9WajRnvCcxquJUI7VKDjRM3BjjX1TbTZh5PDUnXSvkgYNm2agC4\n",
              "rHRTG627v5o5b9x39DvOn72u8q2yfMP3zABXKWqOUS6AJ8BqPNPpyuy5UG21EZAnCdKJT1CH/Tkk\n",
              "54p77WQ0W/52UcZ9L1ueBX97C+vebDSaoVmup6Bv+DXSx3b/aBKqoWgXEzY55jp6xmPiG8Akd5Id\n",
              "AugEJzegnAax/6RgTOnYtNfNPntyQ8TAN6VIEug9lpcTtFybPUYdXJo7PmP42SvSd15XFR3YtQgu\n",
              "/3aZTaPte5Gvhzl7Jd5r2NJtFOQJ2sOwWlnifw8cOHR+UBlTmOs4qzH9uIyeO1mo1pAF0bFGgRK1\n",
              "19wXfwz9VxOqeed3fJBS8G5w5aQXfPza4ajIiB0+DDPQkQyR055i8pF1x4QmXBsWAGQlLJDF5MTg\n",
              "LNr1LG0AwK2kIsXKhVBWRrFeGppiXeKNZAKfJUJIbPKQ3jKhb6dlRS85bO3U5oj/dDjYrBk0i1kC\n",
              "J96ByXH50ZetrBTxyL09OkcYNHN/LXDea/macjhLD2j58KoheCgQuBi1h/A+QVGu/yJdFqFjNTr0\n",
              "JIEaDVBdAfkTa1p2upXWjmmKWVrbF+MEa75PTwTBU0P2fvU695+VpiXWdpBpHXsKLpohyuUaypN4\n",
              "+zZGQlIlwe416u63wG9PSMn/Co41MPrFLhJW3BSpH2sdZ2fIAz3H+l4K4Caf0GqJVhrIs7SVU8tZ\n",
              "6Q2XE6Mi0vCAUoL/eEBUcrVkSpPEOyP9oYJ6c0dns6+VQvdgpBzcgSl/9C+oWS2MoZ/pNRxcxLE6\n",
              "lYsPI55MRB/wenRIKQEt0GdWZ5Le2xxUDPMsPDjwCuJmC9AYoQyjcM1/AeEJuQpBBSnBjLdEgFtb\n",
              "YH5tSn3/sbGKF35A0vlCi56p10Kbo2yvhiCCduw+nHSn2kQhutQ2aKk/JF0BaqPEXabJUSt6kdcu\n",
              "GHjJdI5SVptyg2PyqsQENpxBex9DGuwtJhfJVBz5u70/ea/3F7I5kOjAOpL409FHoQG+NROg2i00\n",
              "/SNfX+QZ76WgGtvW7/Ii8KwoAwKZDWKIdVWEmlUtcPi1R4x9z+zXySrzkPoiatt2LToWG61ytFul\n",
              "iaxQyagUDOTevxeJKIG/2fDi7TEqb5OZOi/9hnDsheSWYKVtV7rLKMNBZ+NdwU60wvJlz7nnkDXi\n",
              "0wo3sqZHRxuhFpDElGdb/L9QrPCSwe+A2cbKAvIxCYqUd0BQWepNnsEO+uXxQxCQJxnNJf1/WkKM\n",
              "APPjHgizQ8cfO9LigMLAhlvOyBi/WaPltIk2fW+82mJHgAg0YrA+r8WPrVng8JG5fL+FbCuH6S9h\n",
              "7R4Mh2Li4ohD2q9S/thJSYsHxUoelexC4wdD6sHsMPWHaiTJVZaMtrD3Ac8vAQLCjrENmK/5AgOG\n",
              "aLXiXkkdg4lUYgRM03nX46zon5LknLVpTReaQbirUdGiLhRlSMNkYkwMq2Kvye7jG69qVq7C/4rY\n",
              "XknekTJfqhkBg2SNCgYgz767wolzGHZuIkevmCpvJLE2CDLFwF1zOdMM00IM+L5asdcFXoAKA8LK\n",
              "LkOeqsEcXLmwE+RDTipnnf96LtW5epxcNIRP+zEB911xKvyNjbAc0m5JhYJuJ+APYCLwcz1yHmo3\n",
              "Zk8ztDPKpo7P5hqcFRoZ65x76AaIIlJW1RVly9oxq6hJtgX4K7aEw5Yx0HjOOInRRWXYNqQeNqJl\n",
              "4VttV1olPu4l2cDJMSHSOgrtIT9xpIfkDAb404GUNZ0yuAIH1XwGaVyM6ReO3kIbR1d13gKljygJ\n",
              "0oWqwtlGSX1frv9oyyGrVzaG5JiyVVb0mVV36KJe3+KY8obbBq5mwuRromWRKobEkJYjePnhI2wx\n",
              "dFk7frGihkXfh3aE5FvwYjzi1d/+8BVt9NqJ6UWQTDYeF9M3u8W6znx5us90+tEnVGTfHoNuIpeH\n",
              "J7MzVQUp7RV0Aq/3omF+7iOh3DEqswsBKo+jkmGkvGRyG90TX5lmuot2sgXRFsGVKRZC8Act/y/n\n",
              "OsvV3tNIwALG0c79e+asV3NfRmrfr8IydgMUoT4pLJYZdKAVYT3XKCYGSdQZ43hQuHxCL92Fc9OO\n",
              "GLEAAAXPQZpmSeEPJlMCCn/+1oywCjuR8ggAAKptw1St/upKoqKdi2IK5x7UuuDNZZjt0959cxyQ\n",
              "P7KLQneLLsel32XtXTg1dLmxbLiBl6MZTun5/ZaXvRXk4sgt8mvj8hCvR/HubvxiN2mEa6yYJEBP\n",
              "c9jbw9K3fP/6GWx0JCfUHc1lnMMkIphJGFXZkVapPIA/E+pbNHZh4qitvvp65IaBXrhNQKkiRhKB\n",
              "yKAVEj3QuAmZy9ZxR5arrrCC+uXeVkFWB+cufnrusU/G1iFDyBWm9PL2NY4MWwj9JLLRQ4v+IWq7\n",
              "EbGSwalfGCup/RTCoZdp0wEb/XDD2KYcoOUcthvFywevvVeef///sS3ktlCzyrnnpGUngm6ILAqo\n",
              "PxdWmves1vFlwqDQBzT6Oetp6q7/E2GrO6UseKEyoGRi0y2hCGOZxAZoeq0dqXgpxTDmuMPi+BbT\n",
              "iQHyQiCsV9UijBEQnFTXbV7f/pxlChZ5urqdh25uT2x/VeFCVVDv44h1aoEniIpfVcPKssgVVVGT\n",
              "gBT7K3NJc3xa0JkWrHF5vAl04UnrJAudFdnLi60Ow+2g7whtHyaH1+QL9WDgOb8PeSvhqpAMAqwL\n",
              "ufXXrMgqfLZYAQk78yddycWE16CMWhIF1BKqgQqOTCQOUiCYKtgqeeJ3JvI1R6NQM22pS9AfScOl\n",
              "1P2F/FIqW0t10H4AKWhpEsUwu8Sw+t289Z7alHsXq63SXE00pDKYEOEWxpdBg57C8FVuG9gQpHFf\n",
              "0ith0Bbnrp4bWOd64llsVBeQBkhXi/+K7qeB/H92eGkn0PZZDiNQ5anszIG9IhTx9caLqpZ73ErI\n",
              "wgvVFdwxpvcCV1KySo+rrnmyg5MaBh7baEfM9f+fBfb+LN2eXB/oxbMFN9V4zVV5JQqgEd6aEdVu\n",
              "bXkv53OakvYmf9bW9tZB8D0J+UbMfriSHlre93yRCpAqvvMORNpZRrmQ89nfhwsAFjzU8OUJ6ubt\n",
              "muoFnrRlaw0ugqIdNFPp9oaC/cgNfB+dQFt28R3g9nQ6i4qcwiw/jPhwTyEtOBQA5AAAGAdvBUCC\n",
              "rKgKM+IH0HKBfV3o8yoP6m7WElxNzJAOOk89y5X0StpiMW6suHdpOS3XHaSMPOEY5WRAUOJbVf32\n",
              "BfIOF7PWPWKcZSVGNRm1LQdUBRQMoNlvL/i4ZwbafjrT/xuassDDSTX0gMC8nZxd5Iyqt/VT6RRf\n",
              "SDZ4+VXbu8Us/EEutVdZUjuwAoHd+KqIJWBzqsT5cD+68sj/sBjwub6dQZeMDBJDLyhukJtgtfqa\n",
              "woILVaIaRs4Wu+gwrasNLCr17lt+61x/rCHmrKHoEMHEsSofjhL5W6anZOhx9/vQ/ROv7rWOY1bM\n",
              "dDRbZhORCfwD7zTL4Affb7+BACX7bELeke7H0QVQxiYT6/9Fof2eNIv0QktDHOKWZHoKdUmD7v8j\n",
              "tGNC/QRdpKrQfZR0fNt8nexO0MT5H9M+ekp3gsRfcPnHOmIvhGC8/DURK00C+OyBlM6Im0cYquIB\n",
              "07uEtvouL+H8Y2NbEsCTWw1QomqLCPKkBee+gY/Z055FMZ2BKHcArKIkxN/bhTDUwn1GAfTOF+np\n",
              "sbteSskpCwfUiGPw6X+QSgqTZuDg7xMlpCh0qN+0oJ/WROeUSyV6DcJksEDskXDeNgh7hfpFH09D\n",
              "ENaqbfP4SIGb65Vov6qboojp1WTFcT7lXeWgeKMwpqZnkJcfj40p4f2/bLG/xWacDdxobyv/dUOP\n",
              "H5+0ZEZHSg+TVmVkmPqYvc9XVArNOcehH41bTVFQtxR5VitYZ/1HmoHSCCGtDx3jamkg+wvgONwI\n",
              "HUjOu55H75WITqfMBHi1kS5Mn2OLl1SMSmZBhTb2jsxxeYy5jfp+QW1VD3ZjUg2M0qLboNLJ1UPO\n",
              "zbJMF4+I83oBEu304YPr0o72lZDmAuuITgISm5gGp3/V1TPEGHosxlM+nsYzDLB6L7wcRgI1pYVe\n",
              "uIh2ZLiLqoyMWPgAAAIRQZ6ERRE8EP8AJYt4QABcdkyDvVX4YCyO3RMV5VSf+GECBefdkrfX3kxD\n",
              "cKhdPiXQYvXJ8GPZOQNIbsKnKNTLPV5Qu+1qVkgQfcGOk1XpkPZW0z/9D/Hdc9K4Cj+gXDm72M7o\n",
              "ApbwtKgJcaRSRbSdP+IBSWWfyXEZf/MX5jqeZsMvLNOy02pyffzQDU6O5tNWvO+q4d8KMNaj6shZ\n",
              "lUXZl8fD7A+v8d7qAZ0C/QM6fGuVRvXlvHvS3WVvuIS4tDvjguRAAtFZ5I2j47/2GkZUBy65neXJ\n",
              "gzhtjHNCxpzoe5st8NK4UCg3Q/PQ24izzwazPoCp6JGqhgJc98JOo8DZn0nzqrTXiGNcMs0ett+t\n",
              "qJupxTtLvJHoeY6CfkYLfLCkf4UeZFJkDzYANf71dvsGdKaXOaU45xi8LddQRkaIfo9K33T9cyGU\n",
              "GUbIwHohGCD3noZK2ZUAZPgelTQOZiEIvdD9zWkMPz5dCKx9LLoYtpCJdX6vFU5BINWg0vr4oLb7\n",
              "XX4Ltyb+hCXdiNXTkb0FU3LKEepSdfexScL4X+GJ0OAAcMb1TuTw2K4/8kFf7EZjraiHvwyE84zD\n",
              "oL4kR02bAGA03M7X7MlMpAazvYmZNu2GJOCIHlH7NzzkOOiiHbyNRTbP20Jlcdjx7UBVbmAquXwQ\n",
              "1BiD5D/dFnaWsUo4AWyo1nxLmVWcjMOiZzJi0NCjgQAAAUUBnqN0Q/8AUwhekuGuACzWucGMMpEY\n",
              "hPOMf7H1RpC6QeeJkze6zDYy+ON93+InqsP9TPVyo2YBcd1h7WP9wlzpDZhSr1MCiVXDB8VFvW6Z\n",
              "/hKm0+rQwB7WZtb9jrIYyFoD9ePa+X/geLj/XLxWWtocEVRVpbh3GuTGuhJkMx0/6xS4/0V8DqaW\n",
              "UzG6de/DFn4gjVto1Sgwltl7ohyIqgpDjNFRTNEx81hkEi6tpdcwYt5POHYPt5GL4AC7JrIBDpUV\n",
              "Hhk79fi5ElwPdp2USV7xE5OoFwWXcXLP8i6fNJc0jghTwaUb6gCyaJngsIJRvMoXF1HoJmoOGCus\n",
              "jLpC0LXMAj13xuXDU7hLVAg0TCD4+QkWqw5YaI4wS43XSEW6qec5aQGC2xCylBqPYblt1EK1gNyN\n",
              "Vdnc7G4/BLqCdLMvGfD3GE1BAAABIAGepWpD/wBSPpdPABMyfKlSPfeehVTv6xewXsLuJCED+9oa\n",
              "IKB1OJ9NnShQJkjE5OtNG2VNMZ2hzNAMc8kMBuX9tY4AJiXb8rrj8qhZtT8aKzeZs39MgkEEu+cy\n",
              "7ZT7HwkuZJ9IUrm3ZVLT6kgPtPR9mBs9Hbs4YVKrCp/p6yvZd1nQMmXoq7ZpwoO4ArMaaI5yKCDK\n",
              "JLyUTVPE5V3Mo5PvxwGMb5wQgV4vC27kFanRuD9thX41CznJjSYa0LYn7A2GO1TLXGwLDhSOgx0l\n",
              "SBGL2Qwa08TutXVF9kylHLRXfIla4EXkfh55nQKXPfLL36HrLT+RNOiFEh9zK6UAtwsh8L6RMkpe\n",
              "gwpA6Ir9CwAgsdoHP46ivm0Wes2Yo/+9oQAAA3RBmqpJqEFomUwIKf/+1oywDHYZBe4X43RZ4xCB\n",
              "NpSABEMbhnzYdPVq6HsDw6xkm6Ayo8up87yTOFGbDAvGA64xYdEh6jClHYanpX/tdn6ZzRZCt2Rc\n",
              "VWiEBxTNv+vlt2E/Vndi+TzSeYIjYIIx+1uZUpar/6Oud0TFYFc3EmfkNhfp07PkMoRmKd7h3a2n\n",
              "TABQ5Vj2Cgz2rBSSfGTquJh7iiYKKb5DA2gOK/V4Lr+c2YuHKQEkHEaQdGZGTnYf5RvR7rC1Ulqy\n",
              "GOVixKbJvWHe5q2EcvcmztyxBxPNojeaABE6McQCy8tO2vvx0jNRfMRahRcz/YwNt/kVgK7FeQSX\n",
              "h6iC8Dm+8fivveCm3AiEwNNKTDPbTxpklZNm9cANpTJprY56h7gFky+SGtSG8hg8MtgHKbh+/rgW\n",
              "B/Epwa+6fqxDC8uBJoMRLVaifodihViy/+WzSUPcCytGO6vYYtVQT29E4PdZnAC1H8HyjRSVW+oK\n",
              "A6Q8igzE9aeMf75QrXsWI6Bcoe0SZaQTvlzfv/M9q3L2ynIuxyS3I/Q19nFLzOXNbTEFIZAiLzvj\n",
              "s4NUuD1bcMFN1NVvsOfyXjlF8UbwQGaOtgZoBTHJuVoenHvEeY9j//uqElExhygEMzx0MUw5W6Ko\n",
              "5l+o/lmpnehmWkJaBXo/IBiK/X0KSf58KF/xeNJ+xE+H9pbGjomffQP1tB4jp28lfYcn2RDZPmEF\n",
              "LEnkpkOydHSt9oXHON6oVdHJQ1cgeVx8+YAdm/ULOekQFVZwzci34FAB4wmgMvg9nbZ0I+K4LfBl\n",
              "zb8Rt6fYubioAl33Q7hkN+kOchcZoX7Qm2QONPeCZnD/OeVBgEzixKX7ejf00cBOfjKYIOBdsIZY\n",
              "Xpc5At4CK+97IH92GGcXQtfxx7LUFrdZrVlRDZld+jI9Qs7/sW6KpwRjrc1T5JCS0/VrpzobWXif\n",
              "UVqYNl/ZQtDXnWyz980NaHLlaempbCnWScfLywqwT2CUaRn1Z9UaWiQJWGNfjrekxc/b3u/Or3Vt\n",
              "nTHSr1nQPTdQex+8usWIdll6z6XYk8PMPsI9A22//uAQwEuLVya40mYyiKmftRnRm2IsZqBrCBxs\n",
              "9Rl9M4AkUYCJNHIg3QxIo/Q/CQTgvkHQoBAMaRYTSpK6tM3IyBUyFdxBO3GXR0+uJYX1/nzoHVYL\n",
              "aQAAAa1BnshFESwQ/wAot/WND9KjGQQACVRBx0PQc8r0MLDm1TBoP1VvIo3KHujXLuVHJ1zvN/HV\n",
              "MP3QC0GuTOIYFTOIev+tGDA5vWQE4CE5NBJB3WqiBJfmR2ecWH3C43r//OVVoD7VzcJVcOebPEhm\n",
              "PnbldGho5W/DuY1W6IVMNErbzmnbVJOcJ11YMLzuB2R2jEFAGecNmqzuY91rU2BbfS0DBYK4NnlV\n",
              "4WhTEPnuzusD7fOmItUxqqywzdFrmF8deBWh8hCP+wmUMIdFJ+2yeUnPMlR15Q87lzKG9xGCy56e\n",
              "c4ewU4jjPg7TIgHcgW9/tkgTvd1DXn+iljPHw1fndXYm/X27bNLIgc8YRTgIt+n4QItIKKUWe/xS\n",
              "kknfqM69LklUvBVyW0vK8mIci/cGPsk3JXJR0EQbpBboyp4oKUx3aBWFGXbf/GRGXbDlhESPw37Q\n",
              "5Lq4mCGCZVhMfbqQJDjlh46gNb3Tzxht8wJFv427aplKQot8HFdspSR6QHnXCfB85gKZRFhT7ecQ\n",
              "kRhXNhv0lruwHIRnI304MedWB63gqbKlE+ezmxgMnsvDlsAAAAEYAZ7ndEP/AFMmY0JdAB+O0toq\n",
              "mlfMJY50baB8PgIHSUheXA76IelApzq0vdiv+5bfnaphne58G35+AmhuHopx14nS2aeayOTSWybQ\n",
              "1z3Rc+8J5afqKGV9vNSMI/9N3bqjkw0FPc3ArIE5kxWpKPQ5F7rrcTeB6aY0V4GhfZiMotjMK/uf\n",
              "wo6eyS7Ndk0zPtN6vyA5epP8gSCuaxMW7XZQcrv/n//LfnPGDpUnd1v9a8MPZ0z+vHUfaQ4iDclX\n",
              "AX8tSupgObYYlGCfqrg9neJ3Ep3jC8boubv9Dxj+TshskMXYcz5Eu/ZOJ0q9X1s7UpMDqhc/7WQf\n",
              "yvsbLvtp81ROCdSKyA6ov/xlwM1L8FDNR81JEgPuO/6BswAAAQwBnulqQ/8AWgnPsQFggHu0X8AJ\n",
              "Y1lmPyLBGkeFnascFBsxvjrhe7shsikAjFegLqETjtwulkBtuqXHjxgvLaAs2Jt4tpnkTD7NsMO/\n",
              "t4hiHG0WrdMUao56JK/JwdvdyKssgTeK6n8b+JBLJyU/hPvQgwwTXzI/ImJJB26WPgVZD6AE1KYC\n",
              "imh+HfEkvuz5b4MW3uIycrLYglYGP1MNdZRLZ7Dydb2qRGf/LwitklKv3eRpsKduB9a+rORs91uw\n",
              "lGpCFMscHsbN15SuMDUOHbZzHSbsA3aMV9+9z2opEAgAC/ZKH833HxfvC4N8wtlrHIlaQTZHA+S/\n",
              "ZzFK5/PFuAkqGTmvxEjfqzFIE2JxAAADDUGa7kmoQWyZTAgp//7WjLAJoKPVf+AAP0AAEZ3Rs6wT\n",
              "ZmdJlwWo9DVA09aJEgJNtdyhmsJDXpv2iBK/2Wr2Yv8fPwN2Qlx/4ZYuNZpftILTrit3cmf6WW1F\n",
              "XfSh6m4WSwSbMfzbENAbUi/wRxHwAYTx6GQJNP/E/N4Tpei9G92Xsn9RrGZF5/pqTJhRbA7Oxhh5\n",
              "AmWZrJn+uelOr69GZd/7N3cPEQvxNbjgt1IghQIwnzAGLNabTqNpJN7CbsWuTQY9l5RPNLvuIZdE\n",
              "cUwy/NkUKywHiyoOq2zMNI7K6jpSFGGk5ufX317zJJpwT2i6KTnpw+uBB4DMj64FJ/zS66sBNqc2\n",
              "r6OQS0pkkRxnL7i5sJRIbkbJ9kbCi6BTIF4q6KED4M+7adLXxBX3GjjkQKDcM/sgXwNiveOEFowG\n",
              "/cWrCIad/agM0Dq7x6ny1wbdsrNZQtKVTpziDbGDY+bg39+pFD8mypFIeAxZFKocAV9EF7p2yRsq\n",
              "SS2z/xAzSvcONyR/LIRe2u8Qlqso7vp0m1Q87j67IMQ+L9rpicok+U+6C/OUYpNrAZEGajmfv5+j\n",
              "mZij7uaMJRbg4CiytjbacHH6uKcslvdNJjCHKdZaiRfJ8stco8gg4Gde0OwY9oM7AvmxsHYjk/Rl\n",
              "MCCiuq0T7/7y5R5E1+e83fNPV8jPGo95BYRJI+3pkcVmrL/LQsCiiEQcqKvnOUfR4SlzPgpFD9/7\n",
              "S3+1GkL36KzX+YVGtgRXd5+Vq34cdAUSFpPWktZ8AFsmh+J22o0CNWzLh7zG1lWxN2cMA6OKLsqB\n",
              "4KBY+C4WbpD7nxT3K+MUjuqzmcK943H7G20zY3tnWcf2tWo4jm5cBiCXFfXARYXUQvJ4/PNIuUuw\n",
              "4XmdnuZGLMmCaprXz29yVGwvezXV4lhvYM+vp8K0L8LiL82e1oQUpBKijcCKOiN5HwNDRgDDY4xF\n",
              "vS5pp/8Q2iFYdxr0WLdGnUh0AtmEqIcaUgrr3HqTVKOPFvhumr0QNc6We5uD9X3eoqbDJkT2pHpD\n",
              "G3GJqbZKEXAAAAFQQZ8MRRUsEP8AJKIMwAWzWTt2Wely2bs4VcMHsNy+JiShKG0zZzG/1LKuN9WC\n",
              "2hdoQzqeUkAOfyOGBEUvKRBjbj7JAP2wykG/Q2Ch9C5s0yffToOITOqJtknwjt+9E51ZQ2E8VJh0\n",
              "SEypPYA4swWeoIn0H2rlg2v7shJ37wmmLWeucVQ8f0IU9JODFhkyAXUhUzXFEMn+McMq8GNvIUkX\n",
              "Stshd/C0L9nGO2T7eg9+ndbhCoMX8dkFxD4fNzW6bPkcyJ8C/u4011N5G8I+Iv/6Wtczv4goA9n1\n",
              "Fo9GGfeKR+GCf0edScGThwFbJn43TGbI/Pa8FnIxJWwzLOeCxyMIYn4X69pQbcy+MA/RDiEMXUnZ\n",
              "VN8Z4XBbMz19cw0TYvkpZzc4ZtP/4QD990Za/vCik679/5/6gNcFM4IqBmLHV3f52A5lllG3GptC\n",
              "5mgTzXKCAAAA6gGfK3RD/wBRB4wWgBI2Le425sp7QeKr2FQjJnQtXpY5UP6MAePxCgF/dyh0ZbJC\n",
              "O9J7zZKD52eQjAh+6AapW820yncf0xRamuwcsHnU2QnDBm/zTfDKVBQCvjTBMviE1IijJMRGO1nn\n",
              "eauWVT8LCZx8eVVRM7LxnOupHnsn8eMLnzEaRC4faCXJEV8o6xujb/mvWqMzsbA4iSlQKRjzahoX\n",
              "U683t5xUBJQIQ5TBhKQg8XDbm/a1XksJ9g9dF/Nbxz+bFFI5YyUy1kRVsJszlLBsXRFrN1Jyi66h\n",
              "udCzxtOw/bdOGjk1coYaTQAAAOIBny1qQ/8AUD7n2IC3p6gBJRErvCuSVa/h7Zzw0qXIxUUE15DL\n",
              "CRfyNNh0zFPA1JnJCGU5wTAbHw5d+5Y2DXa2S9Z/azU2DBy86q7qa9vG5kivai2w8XfQWGyvf1gT\n",
              "si7KX0xbFnaQoznpgzRePHP6Eb5IzYaMgRYot/NAlBRfNGCVA3Oks0ac7ayuOycOYj5XDyTxwF86\n",
              "xD0rOumdlC6JZvtpM/eTBCZHuOVopO2o8L80lRc9SFtNyS5j7puNHoj6gJFuu3Asl00R40dimOW9\n",
              "02+Olu24OpxGg57oR5TtcMC5AAAC6kGbMkmoQWyZTAgp//7WjLAJuQZcXQANYOhAg39lipzmevWr\n",
              "zMvzipW3+6uIpyBcO3E5a1C5Pti/xK/vl6cDLZkY7e5Egm90u8KKwszZUrOANdA9I69K6hnd0nVv\n",
              "V8QHV+KV1uOOU4E/KJf02WiLHDKhVnRkekmg1HTPBq2c8Bdo9XSRAeJUMOYbXORPcwV7ZQfzYW8q\n",
              "ZO90JaRClcfcDLIhGVu8UnRRivr2ZEZwk3x8u4muTB9T7yvVxW7S9MCJ+XCiOiIAzmJ6O1netnKD\n",
              "WP83O0p6XOyuFjtp/RY3hoOw5Iz14PQZHe9Fa4JGMAw9eUgywYn3PECjcKDaMwZWrKFw+Hc9A5Su\n",
              "/lERqlSjuPh4YPV/1t2XJ1DDDoZLox3lAuiwZ8s7Q9p4G4dUilOuvkW/RScttLuuhqUjcBPFtfgF\n",
              "1Y4NAXXQ5fQsxHBwgPSahBxJbKumFQY7S86WjX/RIgJnQZqfVvMhjRRNtdRURWwXAzW7TPx+cYB9\n",
              "N9hiSEVnL934zndE6DUzy4oEd8GTwLLXkv3O3iL/WWInDE+M7YPJZuVShVBSFKHxfTbMtstpYxEj\n",
              "g6ZmbhstnnvUNnklFL46XzGE46wzHs4v+N9qs5+TfCcIpYgKoUjexiaGt0OF7GLZieFndG7UO6Jc\n",
              "4yGCQUrocIohEpbswclVA6+KHsrMZZ0SRtyvXZZ4FrtKjf7W8cRFVmro5su1WWf0wRj6Wg8EVjGG\n",
              "nrgplODOPwt+83L+3BfoS+0yab0WlRrgn9c3Vrp/c9OlEDGqj4go9G9BeywlxHSMGheiSL3Qf2qR\n",
              "NY5tXuhimCn7pIoFQ/Cmgm7rbTdW8zEiejhUAvqAu5OI+WEDCaYhP4g2yQmGczn84t093yYxUdUk\n",
              "bSSzw9STbfqz8rc7aRJvXujykRku+x9+IyhKRfVu2P6bzSV7G86QDWsCoWpMuZmTwo/mNx1jB5dj\n",
              "53LhjVLTgEnwvnv15VzIXc4eaRMjVPuYZDUhAAABUkGfUEUVLBD/ACSiDMAE0bXvSUR8K4f+ux1G\n",
              "nBUGOMYVO9ilhi8mehGTU9ekR9ZvlD2oRGwK8mptg7IZNbLhRhFmSuxh7cNHhEEp1lH3/U266MZJ\n",
              "ZT9cUc81sa1EdEmNyB63Pc0i+L3K5psWZKPHzfzIyk0KDO464uXFIQ3XZPRPtAWO1e6oIs6HfIog\n",
              "XAyRzkamUe+hfpSihZ/MApTIu/SXCEUBM7Ct5ZSyVoe4mJRmpoLjQgAHX6HylfL0AKbGhqgpcs4a\n",
              "GU+60sLYtuySuN/so1CVuVaBhfkx1EY0Y5i3b0toug6aHc771o7BGI9amTlyIGnCW8LgHv2fI+De\n",
              "wRfo8wOZSq1uHwmKHtsUVK6Ssu9UeA90dh03ueNW2pw4TUE/5AYYtK4o16SmmBrPoJWZG63/iweN\n",
              "wXzNVLY6PR4qQ/X6UlrMqkEYigTUBr6WzP7uAAAA3gGfb3RD/wBRFBGh8AHxh2btLWAOEu869Hgr\n",
              "tSv643kLBrzOkBsTIKRVQSNxCOd3jqjfqDeJQrdI+z3h0LjSg58P9inpF+Pp22LjNmamIX6eTSi2\n",
              "SdOn1dwWbT25fNRmI3YGSKmOLfK0GW2szwE49vUwF6WT1TXDbcWHg1jrKU/EVD+tUA+iYm8OTQ1h\n",
              "gunkdvjvnemt659e0SpJOuJrZ9N+NSPqUE2B4RpKuiKQxY+vmYfPN4SnHBfiue2sYL1M9hopLHo3\n",
              "ew/Hm23yFOSN5utxdB4exACFVXm7eGa7zgAAANEBn3FqQ/8AUJgzldkOACUBC1/5xA3PLnfzIRGc\n",
              "erzPAHSmXDjnz3TJqzy1IlXUkZ4d2dPk1HsLkzZxNOmXeAf/iAen8TEP9Nd0BLTJbHPpo2IxDD0A\n",
              "v5N9xk/i5olRyPyqVgSOSu0iOGQyPM85nYkz7Q6XU6okpw4xsupqNXJZLFoVidVkA7GdeebpIWdC\n",
              "9/aU5MIm9ckjsqyICbSi0gSk4DZDwq/MGybHxQDwDavBxl82uGHKbzcGNp41I3zDhkpeUOars59J\n",
              "VZjvFMlFU67wXwAAA21Bm3ZJqEFsmUwIKf/+1oywClPC5J8gCPP/3xQeiTcEOzT8A+AeL03GF1sI\n",
              "QDiTDuhexNMt0bdPwEppRBooh3BzrrDyqygSGKC1FVPxi2paH85R13PW83YL+61pyNVXBLX0nAs4\n",
              "7VGF7FlsIEaUApJFv/z03bzwHSXQqBAADes3dv9MFVk+bTD14mhZmJQfqk98QCk7KIWGoHkUXCft\n",
              "qHVULQyqieUtLzdLsQGBuXf/RK2R65qmN+p1mGIS3o7XXG0g+nc30D2h3p/Mx9/1Co3tAtdLI+/w\n",
              "eltH9qyLrvWWA/gKRP9p+DHWDaRfdLShI/caD7BYhbn38t4iGzBqHIa7fj49WtiB90kfNgxxX3Rf\n",
              "AK724JyXgTvPN5fMOuNvZ2MgBBdStmfv5DMxWkzeMFjBonGXvEwe0QG5selG71zA/U/E2zLV8wtj\n",
              "XvwCttdrvRq7Ncypjv+kpGYoR9vFwQyILOJlOmouHp51wKpVPz/X/ojHOMVvKvZay9eJGZ5Vic+v\n",
              "Qei6qMU9PgjSVG2U6HK1jLy5z95itwR58sAeoBn/VbmuPZyMCvsHkAiqf5P3ZOBUc5joKE/qO77D\n",
              "1GFhUAcPmb4Bdy/taFwQsNE21PXRk5hOXqItwTLXASNxspd6ITKmU8nEInTP/hynHI2/BK3FZ3Ld\n",
              "6DBsiQi60ju+8awHHCCLkT2NRleA8ahqhHJLO0GMhdnGhQMkSb2tgaWrtZ/wpQwR7BgoGfC4T1yM\n",
              "YWopXwmiR4L3ke49XFnM29VVcdiqun6HllO3Ps4Y7gJShOapyXfJBEnIxcr3ij6lvAnoZ4VRDpq1\n",
              "ySjMuT1Cq2qr9/144Yatbb2zxk8MkcVQSSaNCvpU8RmrHmE5qZmlNo/ef/fNCg8B+XYO3SY86mUL\n",
              "aV8zNJWRhrdoDsVlwIBWR+buXFpY/Yw0o3auPB44KqvOMmP9ns1TbL5WIFkcbHimG8E74lYlLNfc\n",
              "y5k696yQs4jHVybQtqzdg9q5i72tGQCnruj9n3oD8lEKDV5UIf8egjmZ6pKFJfrD3dXLl2kg0NEj\n",
              "PtLStcr7J4peTmL41U/3k0qNYHscNVxhGINzzxKnCwPJ2HM+8vVbHbVXsppill7cP8vTm2yShcxd\n",
              "ucOtwc+v8qu+3dTOUeM2af+/rXdKsFDmCusfQZSJ7COnxD0gAAABL0GflEUVLBD/ACWIazV9epME\n",
              "/iAFlrkqBmkqYhRFtU7VSE7RaHrYCPS7Ax23q0pdSRCbxFlEa/2MpFRR/tdBM4V2qKlaPgopuGCT\n",
              "tHWkI4aQ06p+62Zzm5K04yYt4e/6KE5sdJiMM8mbnOwVsbh9eY0nQ65eKmIiBBXjSzh5KjYmmenP\n",
              "fBFpiYt61PenyB5Zd+bYhKOH3MZdKVY7Y9MPKHbxFYUzoBbOaDFKX7nSLlDVpxYqg0nGHjux0vdO\n",
              "DxeU3XTOrPJUAY1EFJuTGvGgfcYuimY9NNpR+WSwyb4FECyALXnmTR4PHxIdIgq1sBjEf1ecyU3r\n",
              "Oiz/If1I6b1akeSwS0YjqNuatACIE0dQ3GC2xt5Tg1XZkVqSJWh2iQyyEj71UpLXu58sUcQgFRuq\n",
              "UwAAAN4Bn7N0Q/8AU0W58voAJJr1IR7HNzTbYc86+tf06W6MTGWmH6jnPHnUyrUkmyuFLgVhO1NK\n",
              "HDd5GtLp0W6yVwTf4dLs8Mc7vzdRW+bShHnESvBlibr5GV8EBLZNm2j3PgozGIPVJnsngp8IT4ex\n",
              "x8RecR76qApaIbF66796B7LHhmkp7c8GzbOI5tTVoXS88CY2PzkKo7IKdZLgrSSkrzbSFvMcU906\n",
              "SlaadE0MVMtMRbFr6rheIuqVrRAx0nVp1P43BC+MWuCso5c2RBWwh3HaeNZ6M8Ms19S5zGvpVGEA\n",
              "AADfAZ+1akP/AFEBq5PjgAsaDj/TKwWm9ADba2ij0ewyHgpATFKl5ujVCK4JA0V1FrddFzBwUN9C\n",
              "KLZNEC+6q8YarCAZO/VFuPJBCRgxhhIcA5G+veKgUtYTudbqGxNTWGZqcw0tGLqDdWW1/KDm+AEQ\n",
              "KzYSkeGeSC6ErNa6lMf48AxdjNlXHN1asHpgBnfsRkEatC+au5mYSbUQpNl3Qrz4aLRVQzVZyU2A\n",
              "qaD0yGCEPuGQL87DOkNutgQ7f6Mu0RJgoIpVzMnYGbftUlAaLXKZoP1Ncu1JWWsZlaZpXNjcBgAA\n",
              "AkFBm7pJqEFsmUwIKf/+1oywCaHxF/AAG9OG5cm/03A1L5l2ycyABgH2EdNJoOPulRFAzMhEdXGj\n",
              "bftV85Ga96iTPbX5UP89WHdzkK0hwysp733PmnvtSUfup1/M++2FMFsW72h+jfW9isxP7Ty1MFyf\n",
              "HaFWMhIFDkkQhvzFlHh8YtwjIP5c6zbnu74wuGh8ArkNtYX3nsKxdjboBN37Ir3Rhd8g0QRqhOEb\n",
              "xiUt5wZRDi901xVsP9Y2P2QZyBt+ZHp3hWRILpWp+NScmx17NNpDj3za/nSQZCmiNDgORCAZEyGx\n",
              "Hoo4IpfxzPnZmH5qp7efdkb+Qtf0KXp0xtwYE80GSg14eVtWS1i+jwAecvEnay6KkPbAiCfp1hWx\n",
              "SwnfEXxkbZ8RRldBWhPeJORMHdg6y4ExiBu+YUQTSB0hyKFjO5BZYdbcAUoRO2rSb7y+R8UVYXZg\n",
              "RDQFOGVrJXJ/EMetE/WsupDuvbN08+TQRayWPCrc9HNVJ4WwCuVyxZKPV8Nlpv8iINk5sa+Bg+mR\n",
              "j2pMRtPDFB8WHf9jYdbmyhDRUC5hmCDQDNTAeZk8OmwLqlEixk0kAdAZQoQi/39hm6QqXsjfyQwP\n",
              "vrTQZAsSNnUOflsJqGBsPm8F3I5RHP3jqj0is9eWYsXwmNdMcijL1gp1iFibLWkAFrs2aGNEeNEV\n",
              "nm+bTgf85kDp9vRp47oW5XoY7Te6XO9UWaWQ4nUF8uWOk9X4/jv+eIiyfITV3u9QSLV3/IzE1xLy\n",
              "kFvdx3nHwBcRAAABDEGf2EUVLBD/ACSiDMAFh90AI0iTQ4Jd/wdvsAtzjc8lOJBJFMsTgGK000of\n",
              "X+rLeGK8CSi5pUsaETbpmQ8i8VPH4NsD7YL9pRKjRQmLQjNpSBlsT84MUxzvPZzvWvWqZmw2ZBQu\n",
              "Du1Ef/JLDpJv9kzfu8tsbN9YBoDtHlz0CF+M9nzVneWpmgsRfqUS7gDPJVKZLmj8BMECTfJk4Z5K\n",
              "f4ozuucA+LbYAHQ2PcTnZYSbhIq35usAf0YlKUmgsZbRr7N5V7FyRUznVlT8g+eU/yBibSn6YYC+\n",
              "KdeRNNHXKW/0d3d6Oopk4evoi2e7cDfWM4KbzzMaizoY/cBSEYjiK7ZWRW7u58DyNJB243cAAADX\n",
              "AZ/3dEP/AFA+57SAt6eoASURK7wrklWv4e2c8NKlyMVFBNeQywkX8jTYclO11IsJFIQyfbWBEfOQ\n",
              "R7PBULX4R/1xxZSioI7BqaTxSr0dfdx8Q2jai2w1dRSeJyPQmPZVPenpJ6T00sf3s84rlA3FxQ8T\n",
              "VrAYtp73a38lrJU2JQbd2PEXwkuT1h9bzoGzpH8spNu8jKV5CpwdRcQ85fwMeP4QHJLzT4LCi5Vr\n",
              "UyOCIpKRJZbacRbikqP+cFA2sDdrKtOdoJTET9MrHHRP27j3khCpQSbNm+gAAADIAZ/5akP/AFEQ\n",
              "OK9ABNGErqfbH5J65xCN3lr1Yuvx76SiT1Ln/V/cVWgBGiInsrTSm9yFirIX9m+l/EML/zJvQ0A6\n",
              "fvy+pe6aD8SkhX1Rd1BEto17IJxDsLCHQnjQo45Q9bvzYMkgUkWpkgj4YCki+omJfx3WpSGZMYxy\n",
              "7DCjnzVw5oo5gPtGuPlQzvNHvWenBAqV8MTDEKw/3oz4qErCHY1HYzB8Lqoy9ML22nhiK+p1+4e3\n",
              "YjDmdGgMxps7AyxNH3nOV35Yn4EAAAJ2QZv+SahBbJlMCCn//taMsApVUlyAHClUeZLXqvR4UOBC\n",
              "zJATmR1FF+BxfvEjN042oRpT/3XdSRdoRyMNMnRIKKTgG8CiUpOaDCf0ZrhT3B5kwEzLP78Vv8F1\n",
              "vqXNRnWxfe5GAK3TPT/f2c6JBN771GD/4MgXvzJgbi2WakMExtG3piSnHQWva1Mh85f5VnwuQABH\n",
              "/JH/zu1ZARTBJ89KJoRgPGjN3cfwlgZs/wxa4WHWUPYr4USNRxbx2gHa8zB390cCmzoqi0/xAHSK\n",
              "ssZYG7qy6Bugts+1J4foFaOwbTVREwWQAX9Y+aOcAgLbpuxXPz50TiX6JZeRpB5aE1/b8iT9M+Oc\n",
              "pN6p5fbV1VtcXzrfLe6jOUkZ+j1EJkIO8USW1Vdzh4G5ZHPMJ8IHJTAx+3fWFW7QLI4kHgcubm9E\n",
              "d12bGhLuiBgWrbpnwIO4BGPRmDbV+HxDyxXGTvMfDHhvbk+oOBteaVPVqammI1Blormes9sVSTqu\n",
              "RORDZxDTF0gxMeUar8J5pYtJcPhyBu2RAIzTAviSF7ZihiQyS3Vqo8WFWIVRNJtRL+bzdjcFqPia\n",
              "6XP4quDONHtAshjRH+5A3gMrr982OEGmnZhnopIdxR6jxpHAD2iynymjkw5rLrJymUGyCI8ar5ve\n",
              "o0i+ywOf/5PTthf9iv9WfQQGjU6nhdBuFf8q+BlrHzKW+AM/Up6XBnm/fk4IYNHyzNkI5m7+Ibe/\n",
              "XjR2UjDlOL6ceA0mlBThd8J+TpT3xpahOcocv77iJLRWFHBC7/DxKz8Nsfkkx/ALHfdiwHBAmC8W\n",
              "GrqOZIfVk0kYcdJhCF+8/+H6OnRrGQq4lNDwAAAA1EGeHEUVLBD/ACWLa8JZxMANeOCHxsO9H6Yu\n",
              "sHscQm9Y3lToobV5yy6i9cY30EQOStIZiMqUJZQgHG6l05wLAda9yd+wWKSQZh7zp8jyY0qXbzHN\n",
              "n4/Dv1AsCtRWMYU83B5NuxkXz1urx9EzG98emiW1p6eTM/2nGugpqfOLcEIRyyktECwuKNJ+YgnQ\n",
              "cZcOSb4dFJy1RaQ5SgDa8i0bno+y1ul80EJ49bLR2UqWKMLhZfKDrP54oGa6QZJ8MPBKEQmZwVVN\n",
              "Lg7rcGcQqU4hPVXndmfBAAAA6gGeO3RD/wBQ/2q6vwACT0FMqYqbBz5b1g2uB0jNj1WK5S2Vp56c\n",
              "BKgGap9h58FGFOxiYTwnueiV6kVi/ujUcQIb5bXH3O3BoPxQWu/EYSjXMjwjf/NaHQ4XBMXJZADs\n",
              "JmpfiZfllKOaxrBLKYWB/3YGBoRxKniQANeG2/0o00CqkjvMKYC4uDefrLuThiD/ko8Vj5Mp5jOu\n",
              "xsbtd7BGQCvQ0zxakmndUq2BnzegP5vY2+w6XiMWDRJ8LkrxLSBI+i/2KReGbIXnrsanOSE7dkPP\n",
              "aGtdusPdmvTGgfNlaCh7SDCmYQxm07UqQQAAAM8Bnj1qQ/8AU0nIaL+gAka90+v5tCaHP1yeIF0A\n",
              "QNqYBCz0YhKgIBdVyW6qr42HNMgNncOR7LqK233C5d589yyn6iiC5LxM7/AKrPT9CChCuILXy28q\n",
              "1RS2Qv+U9qD/XQVG50MA1E5qZNlLp7TSQmXXHNa/40gEtyj4YXinS0g2E2VBLUy0bcFookCLEVmY\n",
              "LcyKsMcO0S/6SlDYN9ixzLgFHaDCrrVdF1QbalIaIS0L09jBPYmCE2UiCuugz5QvPj7Xf1zvV+Lh\n",
              "fU9XfSOHasMAAAJuQZoiSahBbJlMCCf//rUqgCSAMhduAD5J3gqlIZpbP6XxBepxBrOBmLPM8p9/\n",
              "aC4ybO5q0yvxJ99dEPVXrQrdZsnpPa3Fo1OKcqH9hi70tXHHHaFKfiMzLf2B/U+rZwJ+9E9/rGZX\n",
              "Ipe1ozJ4Q3rbrIKin6a8pZh1qYSnFQgVuQOAksgC4X6+YPPgfHh3YMj0pXTWfR8X5ysmURUIUP+n\n",
              "Xz+DJmkZQxT+eA1cvumVWL4BtKtcr6UN413Y0luWpHnUK5nWM+QG8zjk+9rQw1t9LfB0zbwnDevH\n",
              "IfcnVOJH0mQMxcn/20BUTYwtoRvip52Vhthka6dORvE71CkAULVPEaF9nz/KCDgJxXcRIHZtqRlz\n",
              "61vdX/3zNTQjt4Bwhe5x1S74JmBO0jtCcWeTUg0GYJ+3UMDXxuW9iK6TcoLAXRyn6LSLCMWbucEr\n",
              "9pngJiSiogxQWiKT/9wmXC/mq1FsVQXSkq6D/nyuWDqwjiQEOz5spftzsEGsGqszkcxQRet5l6en\n",
              "fWT7I+YKDU0+kWmNEKbQZPAPfadD/k5TBlsUCEx7huxZaiBWUfHyeZ+nTEmIvs2IJmlkqY6X/JkL\n",
              "foxhjx4oX34wDb+CHQFKhAuZLbfQmGi1PwvwdHa4bNJr9ERHPY7k+U8ncpqM6fE34F/DCbSP1PFe\n",
              "xbBUj5B5UYkFHgIR6xmN5eMEKnzdZ8f+JA59OFy9wcKxt2S3CFQczNU9wAFolo+XD/RAnMomWcSN\n",
              "nHzEM8mhvtI5UcubJdPBExRkeGoHhOiaIkzCSYhetvM6amRpr+zM/uORSKOMABeCj/2PRP0zTSzD\n",
              "mtkrljIi7gAAAO1BnkBFFSwQ/wAkogzABbNZO3ZZ6ZFkF9bZIweyuj4mJKEjlzixTwB9nSn8kPBb\n",
              "Qu0IZ9JGTN2qhn9Wvv2A7X0Z/BlLwPfdKVBxM8MivWxn/cKpoqUpXak8O658KL46J7sUeda4V12n\n",
              "m9r7xPbP2hnx6azrI8rNPSp3aACzVxMk3HnEr7uEmHZZHPg02CUXJBavcyoyZIo78E9/3ysKCtJN\n",
              "pXLQk71HaBtQWhHNfCu97LaFfHVtw63oUTlM8d3x7mm3nUeIOwgnwQwfPXcZs/eAChl4U0p+gQ5f\n",
              "kUwaJIA/wca4EP1lh5ctC7TR0kEAAAC3AZ5/dEP/AFEHjBaAEjYt7jbmyntB4jaKP2DhwmeZyAgS\n",
              "R6MAePxCgF/PaRRgboues095slSGsl8WpYcNUR+J4WP1ROoN3E3dYg/5HmLiJRxYBW4okndjxlVz\n",
              "/8n3fGoO1nA7tXOGGAHc6UpQLmVxPTBWkXtDQdXmtMqir4zbsd5MylRlH4/dF+vRzIqMZpTJNbc6\n",
              "yHT6FhicqCtG0dnkgJHCVSlFqs/gAWmpN/kw6qtwa4gowQhYAAAAugGeYWpD/wBQPufYgLenqAEl\n",
              "ESu8K5JVr+HtnPDSpcjFRQTXkMsJF/I02HTMU8DUmckFWioIryFWY5a7st5enx04YxqBSziXSxbb\n",
              "RehdhgIf/dY6sLeHupE1oWZyXExxjgCIj2FlbMYyr8GP+0lWZDMg8KVtR0XegEUEt2Z9gO190qGO\n",
              "cgu4l09XBZWtaxHhOEir5vUGvTURLeOjtQnd+erSN8gFXcatZGCw6gkaI3f1Pq7as6ftMF9K2wAA\n",
              "AaZBmmZJqEFsmUwIJ//+tSqAJH0sy3AB8djAz2FLeAVqNvEO/evGOWquvoUYhAL5NA9xV25TnUXt\n",
              "29PmpXoqIqypPmSqbrBvFQT5OOznlOCtmq0xa13ryyt33+5V2sh6xmVzfswJ+9CAS7hicLvT/GDA\n",
              "cE2NYB780D1/OyR+y/Tfqq93D4zmscbHHeuy6q7WmQp9BNUlCwft5uAIyd4pC7Bjk+arbKGIXiJj\n",
              "ytuQgdhKeRyZCIORcXLGTHF6Mq1KMWseumCiep9sPPBzdWrHOHQ4nC+Y1nFIddWGmT4PLtxd6mTp\n",
              "bGjtxTiyLo1bs701+r2mP3INhqBP50uqB7VWPwIn42DG0WToDWWEZDrs0qxDR2fpkbd3ZQQPmAoP\n",
              "CX3IwCbbBfXx3VBCxBCf/44kdyv0/T6zXHjRI31g6806hcMuMBaHdvdQPZ+OEgX/KqvOgPg1PrX2\n",
              "D2QhkFOCsM282fp+mRhJeucuatRMzZbWvIH+k7j+7k4KujvW7upWBpJLdX8zZxIqq98z6Qe2xccD\n",
              "E+NBTqQ346Zm4imA8ABMhFPbj4yME6jGzAAAALRBnoRFFSwQ/wAkogzABNG13pVnTpor9djtpczv\n",
              "GOMYVO9h2IzOOGNgeB2prsZis/WZKIPFtdXSoiuoOxiyg5DyBZ0SB/OFE15tC0qb3cj/U3HCZW8F\n",
              "SDzI+dhw6ibBoj90dYB6tfs9hh5+uUCAZ1PJ1GvCtYCQmLFuBtUCnkkjFmDK0QutwNqZeRu6sx5P\n",
              "wrRug3EzAW7H+0g+Q+r8wQQoeymNYndzLIR/6lX15xBXpxV4Z8EAAADQAZ6jdEP/AFERsofAB8Yq\n",
              "Y1pfk1EiJ+6DjSKtdY3dfHkpq8FoEgFN0KJo3jO8hGEdFcZTyPZ8c1LvSOn0rRZ9LBsxWJGHLZlp\n",
              "TB+KCmR4jCCZeWgYeWi1lURX5hKv00+1OXxklQh5wHmmFokm/P1KAE99I3towar3YdXyHz4Xdac6\n",
              "9VqXyy9NvGb6FMRkCOu4AZ8sPtALH5k5ViW+u/uggFFyrDVRmE8+NciRblm6vGFLJ2JtUz6DWeVq\n",
              "3T/PLZKGv4YPsQ7OxN+B39OPd94qnQAAANYBnqVqQ/8AUQH+3ALQAeaUuuYfFR+lT46ueylqDhvW\n",
              "NE8NSGfv0VVvyeUeAu2NNTcr1ndONYM/3gvFCkyPgJEsXmYCgcVzYQNEP+IwlgbpFkxlxYKVcP+p\n",
              "T7pSYNlLxQTDGQmM+e4ZmAkeIeyml+zwCeRpxi91meIlsGpLjAHdliKkauRiTCt7u5F2LfJek6Yq\n",
              "xvm6nxleuDEX5c55iHXic7fkoZ10r6jaPR8ZsOWWYOxNUqKZyeOXIbSTMDZKH/HGtIhHmCeZ9BJU\n",
              "t5fCEihGXpoINd5RAAACKUGaqkmoQWyZTAgn//61KoAm+J/8tZwb2QAIwNxR/Jw2KLXqbMafqq4b\n",
              "xxKn60w8Cay3k2hrGkOrX9StCuJfflB/nrFDUwnwcKzQinRUYY7wz6+ugscH1sWW6DuTNRUR/ta0\n",
              "0vtpRHOR//78LZa8JgtgWKeyOuDfL7QNZZArTunkA60z5qpY97adaRCsXsoj6B58584yzxAmkAwh\n",
              "YWgRc8kGfhCORdtgQ5j3cWIcTtOi9hk/Q3UPphNuJhitannaaCKEKWHUq0n9GzB2Jpv51wfD4kX7\n",
              "PSL7f3aahx4DL2T+Bt+CqzOY9dWHJ0UaX9eA9yJYyPrJv0l2mp89qeQbatwAxaxLqwFihdC+4emF\n",
              "RAmybEin+9yLZvRFg/HgZoPw1Hh8oRv4rRD8xd1T3KIARJ7mQ5UKjB00M6LEv3MnDf+P5XjkDgiX\n",
              "aCBovGQScJYTt9O2FuNZB+kMm+y5Pk3cIvd4InNhLtm3/aGRmWvNd93BUU+Op02OLI6mfYFKxsR7\n",
              "KignJt7puUa+Ya6igJW5saEAL35uwE+tRW5zd5ZAuyMOxMA+jolL1hR2XMoRU7AUkQdNOc6yr36k\n",
              "1iPG+qOHKAfQoT/uX23UAnEvt5I1qCbJ/IVOFxd6r8k20lWkwqTRztqYA/H/kbNJTCx5NIKne7qx\n",
              "XnLBeOrYIKpZCp0WmzPD91rpHqWWIjpDj5WP1Hxwh+4xLpZzw3Y+ti+J1ETc92RvSrkCqQxKgVcA\n",
              "AADrQZ7IRRUsEP8AJYiXGADjYP2Vnjgl9nFpFaMJmMmwneeRG4lsd5BAptIOqoqb6tyzIMari7H8\n",
              "7XCsgJ3SzOeP+FNqgYlt4IWEyzXfQ3VHwmHuofrOUjFu7hEq/H0z3tidQCdxDq3m+eqZGeAmZL6L\n",
              "Oyu3qeoRXy2ZoGQAij96656MgBvRwbbix+vKMnJOs3bVzGByz+eXHPX7ya8rTQn4Go/LA7q2gx4Y\n",
              "k9gzLYeAvgJLeTj3P/Xy2qS7ETHhNQuPChMVYeKIs69qJhEosvpa0LgCtbyBA2T919Jst/E6H/Cr\n",
              "qoyExXfrWk8NFgAAAIoBnud0Q/8AU0W0Nx/QASQWzmOV1stluKTZtYwkmpqEpOfl2jlT+iwJk279\n",
              "TEru2/ygqGUlpdJx0yTOKLxZMgYTf4dNa8MceFPxZMiZ87Q7SlzaiRpRhhFvV3suj9/jGWZ8SSul\n",
              "e22uSzQ3UnBrlt69Yt6Xd3c8R1IlTvqCf4x+TV3cuJhfJvj4doAAAACwAZ7pakP/AFNR8SiGPegA\n",
              "tKDj/UEJbt4htta3ylmrgTP9OvZRNUKpMhAW/U3oyhsa8gyo0egqKXlVcVK59kbxfyqjzUP5V8Mc\n",
              "3orN2Boy2IP22zT5P6qDw65P1S2qyqdm6F0ZAGCFRFRPBk86IbVHVY2QlIhUA83s/fZ+s1qk52zf\n",
              "/oOIBOgeDej6co09upofNuSnjmMZntCr02jOAhjh7sl86kf/gJ8zII9QSfY1eIEAAAFYQZruSahB\n",
              "bJlMCCX//rUqgCZ8NtdNFQADfF8+fF9+WZWXlZezP6kUawn2CaFiy3ESm+EuOo82xEf/uacIslqq\n",
              "ESe4yfZ42nBxamQ6GrulINPk28TNOp8PcoZm7/4WKnNwo/35GJSbyEH6yUVesIvOPX6Dzehddx3t\n",
              "KqYOOi9tcHmNz4GkftOg0JtQGk3xyBIiLAARUiOCDM4T+a2zrZsExNOEbEyOc9g5dWj2NOxv1Hsx\n",
              "Nooh7CsOKHqM8L7RYbePAeYOVdeHS437sLz1OMmT+O/Eg+spe+WBL9LdnJhjaE+S+FqKh1TdkGgs\n",
              "PgccwDauky4nypyALmyWzt/8Z/DzP2gLqrklGgMOQtUTRyT2pEoo5UWdAjY+MorfkuaconHoXLFG\n",
              "csV5aJs6CzV+3Xn4EQ+d3ut26qj1jLKB9ZAVusw/5ka4abJurjvCuwGjvBuJkfyGmB2g+YAAAADS\n",
              "QZ8MRRUsEP8AJYh5GiYAVv32AZlUZwRF7wdvce9b8rf798bGigsTgzi0xngptxlGB1E5deURosH2\n",
              "kPIUoLUtpSLJ36pHUuHV+2Otsa+6oVVA3JOG3lruvYnkR/HnrRP7jkc/PPBekfdfHKDi8UWvu5Ih\n",
              "SzldtaTz1OEVHsmoy3ZlcGAlHbwNIk9X2rt8NiUtdBMlGHzgOLUGm72Lb5q3Uf4DQfLRZmo5s2Xe\n",
              "o4tlfWOWXspASXF9ZhsCTJwMWRG9d6+EIQ9dnKGuujPhcTJIn27TAAAAzwGfK3RD/wBTRaXV+w+J\n",
              "HzUAJKIld4VySrPzujpcPxNmWoFJvyGWNF/LeltQes9CVXaynt5ExDQWgxkApby8UDkfDttOK6J7\n",
              "ZqfbHCzbAQ/+6yAs3F23BLm/eakImvT6FsAMQGsHaIrzG4DlP7YaWNaJ9fsrw9FGsjrWIKiAV3mz\n",
              "sGyHbGCmYWzlRLMhJzkcG5NH0h9sespyC4zT4ksBxBDgaXEqlVBRn0VGtUGBW3puGuZ66AwO1bxc\n",
              "FQhMujIPC2XKEyJ88hLl8pjovFhbQQAAAJUBny1qQ/8AURA4r0AE0YSup9sfknrnCQDaJ9CGBcGe\n",
              "PAoG+sZr/Osq7hV/U9mjD6aYeu9QWa9G0hN5KDNvgwRGw1aPE5t/EzNYQFgX6ot+VfkGC5vo76Wl\n",
              "ADlQtWH8thngUnDmWuywrE0KDuVuSDAPj3TsZIHWAkz1VUQR/vcUxq/bsnI5xDsT+vo8dju9rTnS\n",
              "+e/ZfwAAAQpBmzFJqEFsmUwIf//+qZYBJ8LfyCvgjIwAJyUJXTcy/TiEgItG/c6cB3JNKp87VO43\n",
              "+SvBvpd6gllDEQ9mSCrRwaT7Udf2jHNQMTmC3HDOfg0U4TSAcDWhe42HFf7g7RqPdaAf1WH4j0qj\n",
              "HFc+o4f1E/rmL/KY/dPMXzBDLKCpMRbd6kehVqYrTDIMT4XRlyrhIca7HrbpUyuOqNSNVmIk0F/f\n",
              "o5PcWLze8rCRlBlyq5zWVZ2wQ7HMqkCfj3+ab9OOUd5zedLOiCY4yMPPNiPDQKMknhpMaJOGVmu3\n",
              "JQxJ8DUvCOQV68ZAjRY8vpl5pe6njhxlZXY32n022Rf9/oIEVeCBkICqAF918wAAAK5Bn09FFSwQ\n",
              "/wAli2vBQWAAPjAQxjx5o1Yy9x8tNd/3ZcZdR/RDPtk6YfiHYpVnQao6f8bGT4ePlN2BdZXV+rnR\n",
              "v/3M6HEs/nO20R0nokCV5s05f9pKX8lD2AHIq/KYBqsJWr3Gb2PeyB9BtPfJk7tmvV2j+u4dDK7u\n",
              "kJnObOSTalsl5zplLijpihWQSjo/riMe7zXE6TgIndA/8ImgBohsQsbg2gN3VA5Olop4z2gAAACG\n",
              "AZ9wakP/AFNXSy8+gAe7QVCodwlMZXY16tabNStdkVcUuxkjA2L/FQkNstkhyxHEZkX567nQWwTg\n",
              "W7Ryp8MWnnrI0O16Riwsxg7ykhOQ3Xi9h+O78AufJ3CP0CI9OG6Vi7nmnwAFu/shzSA0HEiOeQxV\n",
              "Va0sKqAIe/P5ALvS2qPVKOSjTUAAAAVvbW9vdgAAAGxtdmhkAAAAAAAAAAAAAAAAAAAD6AAAJxAA\n",
              "AQAAAQAAAAAAAAAAAAAAAAEAAAAAAAAAAAAAAAAAAAABAAAAAAAAAAAAAAAAAABAAAAAAAAAAAAA\n",
              "AAAAAAAAAAAAAAAAAAAAAAAAAAAAAgAABJl0cmFrAAAAXHRraGQAAAADAAAAAAAAAAAAAAABAAAA\n",
              "AAAAJxAAAAAAAAAAAAAAAAAAAAAAAAEAAAAAAAAAAAAAAAAAAAABAAAAAAAAAAAAAAAAAABAAAAA\n",
              "AkAAAAFoAAAAAAAkZWR0cwAAABxlbHN0AAAAAAAAAAEAACcQAAAQAAABAAAAAAQRbWRpYQAAACBt\n",
              "ZGhkAAAAAAAAAAAAAAAAAAAoAAABkABVxAAAAAAALWhkbHIAAAAAAAAAAHZpZGUAAAAAAAAAAAAA\n",
              "AABWaWRlb0hhbmRsZXIAAAADvG1pbmYAAAAUdm1oZAAAAAEAAAAAAAAAAAAAACRkaW5mAAAAHGRy\n",
              "ZWYAAAAAAAAAAQAAAAx1cmwgAAAAAQAAA3xzdGJsAAAAtHN0c2QAAAAAAAAAAQAAAKRhdmMxAAAA\n",
              "AAAAAAEAAAAAAAAAAAAAAAAAAAAAAkABaABIAAAASAAAAAAAAAABAAAAAAAAAAAAAAAAAAAAAAAA\n",
              "AAAAAAAAAAAAAAAAAAAAGP//AAAAMmF2Y0MBZAAW/+EAGWdkABas2UCQL/lhAAADAAEAAAMACg8W\n",
              "LZYBAAZo6+PLIsAAAAAcdXVpZGtoQPJfJE/FujmlG88DI/MAAAAAAAAAGHN0dHMAAAAAAAAAAQAA\n",
              "ADIAAAgAAAAAFHN0c3MAAAAAAAAAAQAAAAEAAAGIY3R0cwAAAAAAAAAvAAAAAwAAEAAAAAABAAAo\n",
              "AAAAAAEAABAAAAAAAQAAAAAAAAABAAAIAAAAAAEAACgAAAAAAQAAEAAAAAABAAAAAAAAAAEAAAgA\n",
              "AAAAAQAAKAAAAAABAAAQAAAAAAEAAAAAAAAAAQAACAAAAAABAAAoAAAAAAEAABAAAAAAAQAAAAAA\n",
              "AAABAAAIAAAAAAEAACgAAAAAAQAAEAAAAAABAAAAAAAAAAEAAAgAAAAAAQAAKAAAAAABAAAQAAAA\n",
              "AAEAAAAAAAAAAQAACAAAAAABAAAoAAAAAAEAABAAAAAAAQAAAAAAAAABAAAIAAAAAAEAACgAAAAA\n",
              "AQAAEAAAAAABAAAAAAAAAAEAAAgAAAAAAQAAKAAAAAABAAAQAAAAAAEAAAAAAAAAAQAACAAAAAAB\n",
              "AAAoAAAAAAEAABAAAAAAAQAAAAAAAAABAAAIAAAAAAEAACgAAAAAAQAAEAAAAAABAAAAAAAAAAEA\n",
              "AAgAAAAAAQAAIAAAAAACAAAIAAAAABxzdHNjAAAAAAAAAAEAAAABAAAAMgAAAAEAAADcc3RzegAA\n",
              "AAAAAAAAAAAAMgAAN40AAAjkAAAGpQAABdMAAAIVAAABSQAAASQAAAN4AAABsQAAARwAAAEQAAAD\n",
              "EQAAAVQAAADuAAAA5gAAAu4AAAFWAAAA4gAAANUAAANxAAABMwAAAOIAAADjAAACRQAAARAAAADb\n",
              "AAAAzAAAAnoAAADYAAAA7gAAANMAAAJyAAAA8QAAALsAAAC+AAABqgAAALgAAADUAAAA2gAAAi0A\n",
              "AADvAAAAjgAAALQAAAFcAAAA1gAAANMAAACZAAABDgAAALIAAACKAAAAFHN0Y28AAAAAAAAAAQAA\n",
              "ACwAAABidWR0YQAAAFptZXRhAAAAAAAAACFoZGxyAAAAAAAAAABtZGlyYXBwbAAAAAAAAAAAAAAA\n",
              "AC1pbHN0AAAAJal0b28AAAAdZGF0YQAAAAEAAAAATGF2ZjU3LjgzLjEwMA==\n",
              "\">\n",
              "  Your browser does not support the video tag.\n",
              "</video>"
            ]
          },
          "metadata": {},
          "execution_count": 87
        }
      ],
      "source": [
        "from matplotlib import animation, rc\n",
        "from matplotlib.colors import ListedColormap\n",
        "\n",
        "custom_cmap = ListedColormap(['#9898ff', '#fafab0'])\n",
        "rc('animation', html='html5')\n",
        "\n",
        "fig = plt.figure(figsize=(8, 5))\n",
        "ax = fig.add_subplot(111, autoscale_on=False)\n",
        "def plot(i, axes = [0.5, 5, 0, 2], label=\"Iris Setosa\"):\n",
        "    ax.clear()\n",
        "    w = model.ws[i]\n",
        "    tit = ax.set_title(f\"Epoch {i+1}\", fontsize=14)\n",
        "    x0, x1 = np.meshgrid(\n",
        "            np.linspace(axes[0], axes[1], 500).reshape(-1, 1),\n",
        "            np.linspace(axes[2], axes[3], 200).reshape(-1, 1),\n",
        "        )\n",
        "    X_new = np.c_[x0.ravel(), x1.ravel()]\n",
        "    X_new = (X_new - X_mean) / X_std \n",
        "    y_predict = model.predict(w, X_new)\n",
        "    zz = y_predict.reshape(x0.shape)\n",
        "    ax.plot(X[y==0, 0], X[y==0, 1], \"bs\", label=f\"No {label}\")\n",
        "    ax.plot(X[y==1, 0], X[y==1, 1], \"yo\", label=label)\n",
        "    ax.contourf(x0, x1, zz, cmap=custom_cmap)\n",
        "    ax.set_xlabel(\"Petal length\", fontsize=14)\n",
        "    ax.set_ylabel(\"Petal width\", fontsize=14)\n",
        "    ax.legend(loc=\"lower right\", fontsize=14)\n",
        "    ax.axis(axes)\n",
        "    return ax\n",
        "\n",
        "anim = animation.FuncAnimation(fig, plot, frames=epochs, interval=200)\n",
        "plt.close()\n",
        "anim"
      ]
    },
    {
      "cell_type": "markdown",
      "metadata": {
        "id": "kn4niJ8lgZWd"
      },
      "source": [
        "Nuestro MLP es capaz de separar las clases sin problema. Si recuerdas, en el caso del `Perceptrón`, el modelo no era capaz de separar las flores de tipo *Iris Versicolor* del resto, ya que esta clase no es linealmente separable."
      ]
    },
    {
      "cell_type": "code",
      "execution_count": null,
      "metadata": {
        "ExecuteTime": {
          "end_time": "2020-08-05T17:02:38.558460Z",
          "start_time": "2020-08-05T17:02:38.370464Z"
        },
        "id": "rdDbrq4LgZWd",
        "outputId": "8907df43-5bcf-4b96-fa25-edf9ecf07ae0",
        "colab": {
          "base_uri": "https://localhost:8080/",
          "height": 374
        }
      },
      "outputs": [
        {
          "output_type": "stream",
          "name": "stderr",
          "text": [
            "<ipython-input-88-9df572ef30ca>:2: DeprecationWarning: `np.int` is a deprecated alias for the builtin `int`. To silence this warning, use `int` by itself. Doing this will not modify any behavior and is safe. When replacing `np.int`, you may wish to use e.g. `np.int64` or `np.int32` to specify the precision. If you wish to review your current use, check the release note link for additional information.\n",
            "Deprecated in NumPy 1.20; for more details and guidance: https://numpy.org/devdocs/release/1.20.0-notes.html#deprecations\n",
            "  y = (iris.target == 1).astype(np.int)\n"
          ]
        },
        {
          "output_type": "display_data",
          "data": {
            "text/plain": [
              "<Figure size 432x288 with 1 Axes>"
            ],
            "image/png": "[encoded data removed]"
          },
          "metadata": {
            "needs_background": "light"
          }
        }
      ],
      "source": [
        "X = iris.data[:, (2, 3)]  # petal length, petal width\n",
        "y = (iris.target == 1).astype(np.int)\n",
        "\n",
        "X_mean, X_std = X.mean(axis=0), X.std(axis=0)\n",
        "X_norm = (X - X_mean) / X_std\n",
        "\n",
        "plt.plot(X[y==0, 0], X[y==0, 1], 's', label=\"No Iris Versicolor\")\n",
        "plt.plot(X[y==1, 0], X[y==1, 1], 'x', label=\"Iris Versicolor\")\n",
        "plt.grid()\n",
        "plt.legend()\n",
        "plt.xlabel('petal length', fontsize=14)\n",
        "plt.ylabel('petal width', fontsize=14)\n",
        "plt.title(\"Iris dataset\", fontsize=14)\n",
        "plt.show()"
      ]
    },
    {
      "cell_type": "markdown",
      "metadata": {
        "id": "u9xkNpuHgZWd"
      },
      "source": [
        "Sin embargo, nuestro nuevo modelo, el MLP, es capaz de solventar este problema."
      ]
    },
    {
      "cell_type": "code",
      "execution_count": null,
      "metadata": {
        "ExecuteTime": {
          "end_time": "2020-08-05T17:02:40.283777Z",
          "start_time": "2020-08-05T17:02:39.887775Z"
        },
        "id": "tiXnBi7ogZWe",
        "outputId": "0d5e1b46-8cbb-4ff4-acef-ecc7a0412fd0",
        "colab": {
          "base_uri": "https://localhost:8080/"
        }
      },
      "outputs": [
        {
          "output_type": "stream",
          "name": "stdout",
          "text": [
            "Epoch: 10/50, Loss: 0.00149\n",
            "Epoch: 20/50, Loss: -0.00091\n",
            "Epoch: 30/50, Loss: -0.00299\n",
            "Epoch: 40/50, Loss: -0.00456\n",
            "Epoch: 50/50, Loss: -0.00570\n"
          ]
        }
      ],
      "source": [
        "model = MLPBinaryClassification(D_in=2, H=10, D_out=1)\n",
        "epochs, lr = 50, 0.1\n",
        "model.fit(X_norm, y, epochs, lr, batch_size=1, log_each=10)"
      ]
    },
    {
      "cell_type": "code",
      "execution_count": null,
      "metadata": {
        "ExecuteTime": {
          "end_time": "2020-08-05T17:02:47.491668Z",
          "start_time": "2020-08-05T17:02:42.849519Z"
        },
        "code_folding": [
          2
        ],
        "id": "-Zts4pFLgZWe",
        "outputId": "ab73296d-bb1d-4521-90d7-7707b9416d5e",
        "colab": {
          "base_uri": "https://localhost:8080/",
          "height": 381
        }
      },
      "outputs": [
        {
          "output_type": "execute_result",
          "data": {
            "text/plain": [
              "<matplotlib.animation.FuncAnimation at 0x7f600609a700>"
            ],
            "text/html": [
              "<video width=\"576\" height=\"360\" controls autoplay loop>\n",
              "  <source type=\"video/mp4\" src=\"data:video/mp4;base64,AAAAHGZ0eXBNNFYgAAACAGlzb21pc28yYXZjMQAAAAhmcmVlAADDQ21kYXQAAAKtBgX//6ncRem9\n",
              "5tlIt5Ys2CDZI+7veDI2NCAtIGNvcmUgMTUyIHIyODU0IGU5YTU5MDMgLSBILjI2NC9NUEVHLTQg\n",
              "QVZDIGNvZGVjIC0gQ29weWxlZnQgMjAwMy0yMDE3IC0gaHR0cDovL3d3dy52aWRlb2xhbi5vcmcv\n",
              "eDI2NC5odG1sIC0gb3B0aW9uczogY2FiYWM9MSByZWY9MyBkZWJsb2NrPTE6MDowIGFuYWx5c2U9\n",
              "MHgzOjB4MTEzIG1lPWhleCBzdWJtZT03IHBzeT0xIHBzeV9yZD0xLjAwOjAuMDAgbWl4ZWRfcmVm\n",
              "PTEgbWVfcmFuZ2U9MTYgY2hyb21hX21lPTEgdHJlbGxpcz0xIDh4OGRjdD0xIGNxbT0wIGRlYWR6\n",
              "b25lPTIxLDExIGZhc3RfcHNraXA9MSBjaHJvbWFfcXBfb2Zmc2V0PS0yIHRocmVhZHM9MyBsb29r\n",
              "YWhlYWRfdGhyZWFkcz0xIHNsaWNlZF90aHJlYWRzPTAgbnI9MCBkZWNpbWF0ZT0xIGludGVybGFj\n",
              "ZWQ9MCBibHVyYXlfY29tcGF0PTAgY29uc3RyYWluZWRfaW50cmE9MCBiZnJhbWVzPTMgYl9weXJh\n",
              "bWlkPTIgYl9hZGFwdD0xIGJfYmlhcz0wIGRpcmVjdD0xIHdlaWdodGI9MSBvcGVuX2dvcD0wIHdl\n",
              "aWdodHA9MiBrZXlpbnQ9MjUwIGtleWludF9taW49NSBzY2VuZWN1dD00MCBpbnRyYV9yZWZyZXNo\n",
              "PTAgcmNfbG9va2FoZWFkPTQwIHJjPWNyZiBtYnRyZWU9MSBjcmY9MjMuMCBxY29tcD0wLjYwIHFw\n",
              "bWluPTAgcXBtYXg9NjkgcXBzdGVwPTQgaXBfcmF0aW89MS40MCBhcT0xOjEuMDAAgAAANXNliIQA\n",
              "E//+97GPgU3IAA2XOop6H+EVsfSQUXqx2aBk6gAImAAAAwAAD/JZB7zunw3UBxj/BXfwADBMBhqr\n",
              "SmIVzOHsggE1Kg9ETEd4YQeCXHOadUDFUfGLGm8L4avZ/VG/plVArEFvEfaaE5vF4gpJfjxK25Ve\n",
              "WRNBGqSUJM40jQIIS8GM1hQdrzo7xDZ25gT/Tr0PFQEh8GdBINmBI+qzkuoUgmNk9aSrXQYUgX4y\n",
              "yrFlOszYuVhxUPQHEIuTZoGVvcYqihBCrek0AGNqwoaV/5/1AutIwaludbPplwHj9rkJvXxcXgmi\n",
              "V9Kw5xLlr8m6Zq2V5kVsD5/JM7vpF3bFbi/ibH0Qrdt1oF0jjmluxha9MgYTwAAABF6PtBGIF4gV\n",
              "VvsmP5hcKsJPoYzByzS/CqLvXxvijIQv1wBzCWeHW1FLqBj9vt5jLlkc0qpzc/4tTg7K/HoOWBVb\n",
              "mqmrfL9b1TQtcoKaWiGy5q1CCBq0Vm60TpalWGg+d8p00OD3be6CKhkxNKkyJZ5cGwkHLeTCyn5U\n",
              "J0Kvr79SNF0MfrxYXSElbndMbTXRXdcMaPfLh6J4GUDr+R4+eMly9k1RGyN0f/GX/hAkJjc660Q3\n",
              "6kzBpx+/nf9w4SjYyZod557DLkinvJvIkwpUkGGd+B4Pk8t/zhvFt2YBpQz2P/SXhr0hgaLIMh0r\n",
              "THIEi4aEbDgAn+Jx4cY5A1F9BTPgcs4GwLPZ+Fb6b6E0sW7Ev6v7B0azy4Ll/mmQV8ZcPTyENQIL\n",
              "ZtmT0aJAz20J1I9+sKvgA/ZLJleOa5GxRkG0JDzhwN4aRIrta2Pxgsev6ypgof/8ALDTWNxb6Z82\n",
              "gs9hxDLZWETl2lJq7o0kSS8yK0wMzbEJUyIKk+B7PAEj9YVuAMFIcCJbD1CmJnaasn+XRsny9BqH\n",
              "jNAhnsDcGN4cu4CksCb1/VojCofh+UmKs4aOv8H+9efQNHa17f5p6/V9yK+oVK1Gs1d4aPej0vX1\n",
              "VmymoCcdBfrzyedreGqNOiTCd4rx4RfLA9jQIteNgnnsAUHfIBTEFqliQPnV9dH2x1P7VtP2UnUU\n",
              "P7D/deqAABgRA3judA5l5/b5+KV5HW3iN8r7WKvY8YYqy8KtMKqZOzWSWsLpm9BzGtyeuOL6NQ03\n",
              "M58pmIuKPafsSpqevU/HrHLnWzoiovX2X6ZsumqSKfmwxlGEv2MLBywbEL2/J67IZ2oAtj8jho4e\n",
              "lj0PMqYzi4q0DWp/dI7ZPj9wwKzouTakr+rETQ/063mC3eLMHbiLgF+j+nTyFeYMAUU0Q2nGX7fB\n",
              "Nm3b4AT20BPEtAwELIIGwL27ajxy9VyzMTu1X+3KWpHHVVTUjhAMybAJ8yM5A2pfiv0hWHwBlmPe\n",
              "EMTjFqFQs6Bo+iJSQQYHdQYqGuhNBqMo3iMbv4lUL7ElmZU02+Daz2ki1Xv3CuH894hZj/Qc0zEn\n",
              "7RdnQLZyQUlnqKdcmjBP2M6GnzgfOLoMwgdVgU4hE4/MyJkTFwPFh/JWV71hjWHg2Okf5wUeOotV\n",
              "IJHKu9bux/CM889aVw35Dj9xuNuPLoxEA/ym3PtMFxUdp3h4XKsfCuur4kFi0DOTWMFVebTGJ50X\n",
              "lZahrPZNJEbj7m3/yNKgVbBy2kyId1R+L2+5MPzpQv8yqPpPb3SNON804P9MYgqe9KBvYf27TpEw\n",
              "PyLR3kNGtX2SFS18Mmnxm2ZTisQxz9ITx9D6xxdVMvsWHh0H5LQYbdWflhnz2sfRdjMxvkVX9nHV\n",
              "JMM7w+zi5YUNwxUlj2BahMIz8foO2VL673P+K1sv/OorC/MGIFAlX/NjHg1xkUY83BrTENTglwyE\n",
              "HaMrC6vO9RvdvX8Rmd6bm53lDfENFKkczL7ZR5z28U9noI4hw5Xe8CIscuwwuEhDYVro7q4rGXG1\n",
              "Fg/laNXwal+jZz1PSxO9ZjsyEKaL/nczTWtYiIZSPJl3WXe11isoVdpvTTbdCnjmxvOLC8GuR5+D\n",
              "kqMisqgb3Ul/pIpSLtP+KUG18bUS++Rw0LHd5C4CeEF2KHIUEWsqWAQG6HuzFhzP2qsNEkHl8pGu\n",
              "xsmKHUB96fm69Be7NlEqEN9/5XlYa0efNsUwEaA5clp98Nms6ZILAMXKjCMKGjsIqn43j+upr5D2\n",
              "Ro4DuDxUGEzK7phggspq7UCrNl5jOAyS99tBS/5rniVXelRH0Lh/veQiAmlcU0EupMjJNcFVkwBf\n",
              "9C2Cnmc+3nYlSdWlpsZ9bwi+9trILDvrRrXxYGcqoo80sNTHUAS4P/l/zoowIsF61E/s66Lk3Nor\n",
              "RU2VKymCOaVopDuanRYoaaYg22ojonH2JLYxvclO/hO+UnzdX4fQnMVAxILkMVClDhfSDRz6m6oq\n",
              "ISA+Tzd3j5KS2yU86V1fFJLBGxicH94jfcmO9do09+9YHxu10Rmd3CJi9ax7TvDbc52CDve93lZY\n",
              "EhukCmuhdQyH7jDRlDpNor9IUHcGOfOXT/xVXBICSHqShXOUp/hMxLqqpSg6QQNF/ch7A2Fe0Fns\n",
              "qyjYHUx74m+lXA4wbODv9K5ZPMJBl6fcutRUIPTeZoOb+u8o79otYgav0ZQ0JDZdZyJ/LRAOZv+1\n",
              "hsqbfQRkL6wHkPGTFgzWyR2ATJssq/KbfrFBUTDAFJJtU8fkj8hU91/3vQEedPBSsZ7xsibPQv1D\n",
              "4LSlLf6IgGoqCJVG6MMLir2CkNZEkKjSftB6DeEENdlP2TVYGZ2TKgx3vGHtbh5VwN82iRSkjPsq\n",
              "q2Lyw3zNyPLWDlvkq7qG1IKFCmrcPtZ7cddasPrF3RSqFI2+vXre0LnrpBr6Myle6lbv5Gg+ny/v\n",
              "EB+ruWxl321SkzpIXXdch3EDFV1QJVH3jAytfYnSngFSuN9gCw4ywdsh52rnUrYU2wfFxDOzIYyp\n",
              "5E0zE+wDvjkiMuPX1tkXNueU7IUi1U5Z1Rdg0tVKJQvYOZJgNcooukqVYurk5tK3M1X5myBPdltt\n",
              "2S6F9RQUdgMJ9Yh/pNHrAaIHfl3kZQEvQIdm9uqr7EnTiZf7ifXcdAx+tCebVwCuroSGGZiEyuIO\n",
              "jI6jFDpPaT8q8a1cLxw1lqaPuh5T27UYiIWhhdlYJU4C0yVeGhiu358lXOHt/ypMEmRxvX94IIKP\n",
              "bPHnu10GcwMfx88m4IcRiGNyLLFTjXAQIsaUSkI+KYdyMmbgaExL6xjD8/ZBH2mKsQvNGhbBy/wz\n",
              "NWPLSa3p/tBTColUzdciynPRRG9ydoQGsjBUuRiapYmPg97lYfOy9sQEknSJvUx2pQ5c7oC3DWJr\n",
              "GIaIHiHGYp1DXhb9LIaffU48Ktp628EjjmstwioYlKTECeLvnj1/lMXWQ8FNWV+g5IE+BlJQ7A7Q\n",
              "/21rfRyGBlSctNnX+T2S3Tc7zZVzMqkYTuohHNRN2+qzBtGktBrpYn1TNMgm4V1MWPrCLE5phDyH\n",
              "s+2mCC4GcmBQaCIYDpJr3Fje1ftQg8quVWoPWdNqkFODaCg7sN0x3iAl5H3AU38e///0Sf54LpKm\n",
              "032Xk656WrSRFCVbKfLLDXlSgN1rn6B2qwSShRi//kVN7tVBqHf0OT9q710vvaTAvWQrkNhfD2fC\n",
              "g8n78zVf84QsQPEIGQjB1tdkBLp34a/AIJBqvTadA1mhKTfrQablHV8G4v9DQVs8m1impfhyEQSG\n",
              "1tiDRRDQWVxGp6TSOXQv9J9lxD5AtZBjjI7frrkM+hSy9t9bIOEd1Xd8d1wfj2dyERiNRjuGyJOV\n",
              "M/Z5vwhCmmX+UmASjGD1se57KUBh9yVS8WQsVZs78Sm4dBGOaUHP8eG657RqX7NriSySJQr+GxyW\n",
              "gJ5hilGnRUDb9HdPuZsq1Bw3oGsARZHwBrRdATPZqtWTA1UJCuX0iZF0N6W6+NBW6EV+7O+lW0KO\n",
              "Nih9+uJ7P0YCAaVIGENCizWC061gc/DeBBOmitUU/b8qokAQtsAW33MgPyU7XDgxo4U4wB3Ng7Zd\n",
              "tCJUZH1kSD2wjQ02Uli2pUW2GHjT8q1ixYExBmrt2b4IVCOIyboqiysmeO1x0YdpUXYosc4GPVMN\n",
              "W6YH2mluJUOgpg5oazEt4AM1G+qDwym8FpCiKaqc182k822zc4VJqk8PKLH5bnQDKlBJ1YfxEIWk\n",
              "NiYun/DnGhcH4/ctrQvSjdL52Ck1B2jHxQ4o0rVxHX9g5Kd7LoEo3nxp3mIjZxvIXlAFS8j0w6nI\n",
              "gNg6VFzlOjCSbfc1BuwNyCRK8lNzglwfovPcb/i1zs7dV6p/ZLZhUQUH0/3XJRSS/DTuCQonQmWG\n",
              "Fm84gElH7Wzz8CtMyoz0mEQ0RYASpR5Tw5ct4yKZzKgn1a59wFHsIXO603TRunno/QTm6bQc97N6\n",
              "diaWIUoyrfWI1336U6/feso6kGc1Ifx4upNYl+WPFHKsP47NtJ8jzhnazxzs6MYm02ViMvvpD0E5\n",
              "C7ylOZ+iaqu9yY3ERCyErI76/JZ+ZjdUJAHGaa3NJLAyYOL3A99IKHwftR5Oew5apRDmTuW5bRb7\n",
              "1jKF2jNj6lFHahcFJYBbuFhM+Skt+pIkZNsAvzfT9iSotQ1GTReCau6e+3qcHymjWDzykqUbWeFU\n",
              "nK6AHXcVX9nitwRPjhQWF+tGrUXDoG4y2LJ6t6EXdiAyy5GijOdN2ScBiq6OdcDRgpD1oMxCuchT\n",
              "EUtTSZ7nLLdhoTxtAnuxP8/q/nOTYEv7AiyIGY+iuHSYWVhyXZk0SPMgNeO/Xfp+KBE5ZfCfL4XH\n",
              "8JfpiiwoFRSWv/yOm8HhaueVt7TWqPQVhsTqIUdMwtxNEo0VA4xGeM5ExBpNByTOkmX+tv0zzwSh\n",
              "NST/VVTtRk6z9cdwB4nUZISh4TAir9iHEoZ/0FRTLMft7ZUb6apvAmYz8rcZB1YQT024OVI1Bf/o\n",
              "tlsG3HkNXIZRIY0Vx/M49SJOzwc/jwFdxMXIlHRBpp3yhWnIdinXaFN4Nh6kIh4nESPTe+S1s6RX\n",
              "q1+LuWXdStcOK3HiKHIl5U6VOZOkPZR/TGXA7KavwWGyVQh9qpMiBWpayJo2bPfb3NyN5W19nTVl\n",
              "bgHXFhs3Ndv+RsQJ7h2Wo1aiM/YXxWlRkbL2sJQ+duPJ6yM/kAgDDHjXgBDLRkWMRg+kodaKfCjW\n",
              "cN/dPDxjh1pUi9vt02vZyr0XSVMIQIDz8NhrLQfzpcMHORUQ0s9tUZzCcNuxYgcabFYxFoQKKNIJ\n",
              "p25jbzcvfeGtzUpTNVXqpAHX93sYThtjtTQdAGoZ7futiAuYgxwyxTBVPTC5nC5FRQyItLlLbVFv\n",
              "SKo07ZIL+Fb/sDgwBlmSBAg+OwJQ91BXwrW+ZIREwBO5fGbWIGPRXLOTF/8q68ZyWwweBC9/3hZP\n",
              "zLwKqU/R5EUryn8HZdfIOuml7fzFHyTmARnyiMqPpZaBZVBYotDQoIzvrfXlNxPep5Ri351XUmZg\n",
              "xf8+/f5YlC54NFqM6VDg4P5xXeTnjAKrPTS45GpyznxTHie6RaJMyPku/JOa4ekS1fSIA4EPBdIK\n",
              "CFfRZi3mLFxAZVJ+MO3eW3YZ6AoBEP9NuW6E3nHGH3W6PrrejvSbu3QNP20NOwLhfUyhUi/K/03b\n",
              "dYwuPzCO4E6TMV+mWJXD6Y4uWEyN9R7tR9VI7j0gvkhHkdpwSlpFzrHYDsEbRTyKp8RiDeltcXCt\n",
              "6zXsALNbbyALBP+HtR9I4/fZ6GkfZXpabiPu+8nHQ4c7or/8pjQuNJ/9TRbznQRDaoU6bnfch2lE\n",
              "Fx0NxZ47iJqtmYpNDjb+89NgA8YpGbLK6U7S3Buwq5VYNopA5yUD1bk/ReOAWma3cdb5QtyxgcoS\n",
              "ywhJV2YjEgGqSviPK6XhpCnQ5KwBFYCQLGcxLy1teZthcdrHU9/tSeOxistCn5ohD30gmXllhZ8d\n",
              "OfCePhQ4c5KXlv/oZt0EEkxJdtndNopHuYQzh0yTV2Qgt+/4chAhOwyW3KjpRyCHAH1OceeMumEv\n",
              "MB5jLRXE3SJvXAd+enwwHwMCcM+tFRIAx8W7GVIeWXVYvQDaFBKicvnw5KS1SMUtmJmCZ7Mltl9v\n",
              "2jjOmWgns+quJGhzTIHexa+nsvDzWEwzNzWYaz0MLWssaTBEODnCc81EcLrBzni2rxrXG+4PunBf\n",
              "+bsQ8rlU4d9pFMTiqstR1kkJt8OfFCrAl5V5Kvo3hcSyoK/ErFT2fCJkyFi03R5u3mgwepvdwmf/\n",
              "vlFmdOizrVwMlm3k8/7Yq1eAtqvNFlDACdUypX5iQPxcxLkl5MswKvs57jQDy6tY8jNTcMAqxA4a\n",
              "g9MDHCY+LGzfPOkkQ1pTM2jkyS7UtYaWm/9ClWWLVoF/teT6WliVUB/EnGrO79ZFjCKlALfQ9GHh\n",
              "3L1h48gH677HatoMPgT/L3eU8Oj2J4krV4R7WbUEGqv8jnrXq0f+SuRGd5tPUJXg1Cx82kW9g2GR\n",
              "QS12gO4pC0c+DNU74bud7BPRO6cZMhpNmIH4BhMw/jL4IB8nBrlGDyLK9Vj3qp8sNRSN3iyq6XZ9\n",
              "HGrbJj53fNbul+/t927m8z2l5pfyar5uT3Q7LssYYerVjkpVHT+7h+ln0ghKXu3F21FGrhqTyNNF\n",
              "glbGx3jz5P2tVwVp974ZVXPcLeHWQMpbVqNMFWKJU9qu+twAGfcDbZmUYfSe543GmMCQif68Qrro\n",
              "0fDR1p99XoSJFfrHgR8UOzCzbENaxrf5LMNSiO7WI6ntkc97TRwxbmqrr0hDLKLjQpmSIFuVWaH7\n",
              "IZnOLQMWgNDapisogTQW23ZRYyFCW6r0RjigFyqJr37Jf8+z8LeR2ChkMA4AZKnmodT4pBbBgd+R\n",
              "U7uBS7TWoMYxjcEn3J1p1x9x6B70bf/kt2miQaMUfpJHNKFZ8ddNy4nu1HdwgmQhFkKXs5nt0i6V\n",
              "siWwS4SlUF9fbRs2wR4ykBH6ha1oDrDin2/FmQ/ub1MtuAUKCFdS/dTJ2UaU3ZVNGdoDzmVUz21F\n",
              "77wVwJufpvLyZniBfHaFLFOREDrN+yiKhgEH/EiEQiR79vYlyxzbJV02kt/96pD+jzXKA2ZjfcnZ\n",
              "xSG7vjx5n4QW7hrO9KcsG0wQBAWFNHBfJ7ssXmDR9cXq8wESr967u3CpHLqsF3vocFRmAf4RLMsB\n",
              "CJCA99ddOd9rld/IRWk7fEKtCSNoEECbPnT8tAMC/500ZpvXmVvKgS0BqvWAffr/h1gnL6RAVb2S\n",
              "gW/qtdko75evwqvZCBiXR6/0ZS9m6HpX7s49IBTczO2hfNn9+MDjFYzwUz5q/TYDkR0mqLt/OCVF\n",
              "z4Q4xQxS5GxHliKV1qskev04qHdrAjahtS9dxiPjE4JfCIHAPS77DAzYaSkj6XH0BMO8CLvndfhZ\n",
              "solJXu+JCbAqrM/uJoLDUfVi9CvCwJ0Lr3CWe5bUeCGiWNlPIsTQYKpRFQagnINUZS0AycxuqjX6\n",
              "mQsoVCVOEOuZA6QR68vqyF0kLw9UVMcuwsnpozTCaF2rjVcOTTV+6IjFgfLj1156BljWL91cfa/I\n",
              "6KHBEtvYl3FdtJ42jpbLd4iactiDU/A8p08XRyVEIU4m1UlU1YHaxcDwFslIZLow0V+5eRzcfZoR\n",
              "Qe4oTFAAEUjxKVTndlpTUqLxCO/4QEEgJXYmaiKDZWWrXimev9YIyi4yjYDzfwoJyuRj/HONSZ3x\n",
              "08eMARiVmvIVqngefkIPp/2rqe+kWdHLNOOAmzwZ/hdP9h5odXgnnpNb+Qv5Ck533HlXbJuYJcNE\n",
              "NIQDKvxfUBAxph09Zka1MlcNGPsAJ0VE4AVIDtMKwOu0ukE1zoKsoYZqubeP7SugLo0FUa2QFZzf\n",
              "GlCGpSYqc6i/fohvgI9tna+nSTSiMz9zGkGvDafeXRvvevngPwspqIgypRhZGxmL5VnJVe8ivh0e\n",
              "ORR9PJKNE4PpurACYmnR9HT7Ihf+rYVZF1o9a9ZfYK2BcNQbIsQIZpA9qSWcMQTuAzJaR/7mcsyB\n",
              "SnQVUIhB+JmEF0e5m1flMwKaoKzONeHTcQ1od45qVrKcH9eVCa4cMaDgB50tHS/1oycauNJjeHdJ\n",
              "48uTdnrZ3U04mdkAv05iGrbaeJsIQTz2gqTyh9q6n40nS6MzISqmkzhwL8LDNKoctD7ZQhuHmVM7\n",
              "1me6jTYynaOEmHXVMTUq3okkRwpAkXHR/EBdTDYkCawqkmUQu3wWpQeKwo7hRWltQ5k3roYZU4aB\n",
              "Ax1qg/Dn+T5/alXWubezV5yCxUGxpu3gyOCWW25phzbDV786P1sZxqweJZx3J/Cor3bDbK3zlQQU\n",
              "GYpn5wrgg8hp4LhJHAe98CaInvWN+qaT8Wv6CHVg/LKoe9AdOOARlpwzdnN7wUQQeLWHVV1JaOTK\n",
              "ZKMp15e55ohur4yB6VEVfQ796pErwuT5/lH8BoKQV6L0mQOvOrdTY1Ievuf1h9029sDgSsBYylSf\n",
              "HN/zF1kOQP2fndeEcpggERYM4gFQ3G7mnsA4Ap6nKkEFRUXtjK2BgivhkbvHc+lYtJXObnecYD+Y\n",
              "nuriz4MFF11/SVPlUOmnszwLyaM7kNFw38KoIst0Hm/eCqQUyNZrM19nUDJZhXJ0ue+cd3Si57gZ\n",
              "FrbWK6D7oWG5vZthM0boB1tb6C8mRaeF4WA9RAeF6mSm/7Qr2kG3sopanuB5IG+GxINuX8a47l+4\n",
              "S90+FqusKPnh8kHqfqENyyVZTORY82y6n+LlCyaateCFliW65Xr4sARUUUX8x6PVnHED5ETvtW9w\n",
              "dNlxN4CwoRQOlOG4R/BIyTony45hRU37NNi445FGvrXnpVyqGs7d+tm2yhrExByhFzGZq9mah6ht\n",
              "fB2L/Tm91NGLls54NZ7aS48iVmfZuT84Os+HKcngzOl+say19FCgVnRdgaH04oLdlEgHTNeTbcZ/\n",
              "/nk04H25EhrwE6n5KwQCesoOmkmCbmgo3k2bszWxBq8JDh/Trb6wmUzKatlc6uox1IWT1682+Xzf\n",
              "ZcOhxlAiYlA3suh1c30X6c28CcJafjEYqKSqPbKBYrJnqvLYmjk9hfQP3Qhxu7BbeknjfGila3ZT\n",
              "wWPo99qG1lruZIxnzBf20ThAKoOF+lBP2al++Y6qho2GdZZtbihbedqam3b1EoqGa3vKz1IrudKw\n",
              "miybpLZ5FMRei19s6Vk4wgwVNCN/Fj9d9YrU+hPHKsO02YGq8p07+hOBAbavWExXQytxdB96U1rm\n",
              "DyluWF7nV4W50ryY6cmmjCEYqzcW0+jSlnSh3WKfn3CXHbM2rwRmzdnL+dFkfpKbJ+etPj09nNx/\n",
              "IC5VwL0perz8VvO0EJPJSB18PKEe1v967zFLGI96H7ylu6GbibnsR7BLBwFVEIyk+Ajmh/nUz9oW\n",
              "csjpjwcQ4ec4UFuARBhXnu9jRxmMp1gqbF5Z+v+x0faOugbr4J3MoO09UcJRyse40d9xOlEfK4dQ\n",
              "fGfWJJl9TC3LNlCNJmCXZu/GBkHdgGdNZTv0WCrfzTG4iYEGGNb7w/9JVS/2l0TCqxK7Bb+D1DgW\n",
              "VapfM2nJjtH5nO2JQGRp1i+lsCIKfcBinkNkcRyI4QtDgKBEq6KMc/AOxC/f+f9aNwDxdN//hUdS\n",
              "YBzxJoOg26aYWWYybv5/rrW+9ES0pkDC48xDmKrQAa3BMYKFBGebk9OVvHNn20y4aAKf5qZPIiNW\n",
              "xKWP725Pa+HHb05D+BM3RuBop9taJrHzxYv8w2uZVkixFm/3gZu5isAIhrupMfgaNNV4vaW9X//w\n",
              "RfzZ6afxDKX4zVMj8DE/48eAi/qaDW7nnfgGiQvZ7epSrMy1HBuFX9iSip1muFujTyPew6XFB1xZ\n",
              "FYbMUGg9scDpQPQ4h00rk5HxfTWEicOuOyoxQO3gnqR3S8s/ibpLz+VcpTou5Laow0QIEf34TzZt\n",
              "EBxh/QX+7R1HPTSI9xw6x09ZeDjcSBWzzErDyUReL2mKzHzVI/lbumzcisutq1p9litrKLAyb4n+\n",
              "ZyQ8FGd4DONB1UzKjhQTN7jd4jCxiGfHwSfkjYkiwgk9ZnVNJT7ddN+jIZju60OBUlnblrWS7yRa\n",
              "b8RPA1KiG4UI3Z7cQM9cBwivyajCS3FA+RqMHvSkVzRtLDgsOA4T7QlnzsjodRUoJsC5wjgn0FrF\n",
              "1JTy40Fu6onGHjBixUAK2uoLcxXSbmmayg5fumpy0jWEstNt3csTojtdcybEBXbD6/ntZjKzerN5\n",
              "Vi9cg6Ty/T99Wq4ivvYjWnvhHFA7HQeP9YXjQqGUjiElXPJ9EzrP+G64rtIQW5KW3boshaLxRU65\n",
              "miYATLvUdKtTx9jR8CXan0eX+Sidqmhwhc7qjqmt4i1kN8q5GnSN3Ju0x4v74ZTZBIlpTmy8zopE\n",
              "oVeMPZkrdvS3AicE0BFbFDK/F16Pn6PcCo168RBApjXrr16bDK84p2pyu4FddCEZYluJ07vfc6Vg\n",
              "U4A4QtXWGLIZehN7syuezRabz4dklnyAQZZMTzhGXtzgvQ///lUyae1im0N732tqxwbXZn1GT/30\n",
              "FtubaBPF8PS+6y6saH3k36xavwLjRMpCVLP33ij5sZUNvtVz4LXTL0R+snUf+hheiVCc39kBQv53\n",
              "iKOyPXxnIM9kdW2MZZ4CS20aFSBDydUG1FlNbQf2VEUNLVasc/G7QAfe2SeeqBBZP75OAbUrjEFW\n",
              "Xh+LzdDmLWd2YwmXLzj/9J5Z7l5/1Rz6THFxv/oPjlQFMHVNPKP/2aFyGj/gbBz2NwS226ZA+uwb\n",
              "zyfn67I9ncM1gz2naIdg06nvbcEqg64y+iDA+X/WkEye2/wxFEeFETjLmFXUzedy6hPEXlh8vNJJ\n",
              "cWdadV6IDfbVaeVk27fTbmYbEI4UvH48Ry3iCEnGavRD/rz4K6cO48pDtv5Jx/nj6gVbeVf+H5mg\n",
              "LQYoZzLBEOZAG38bPkd/OCI6/K/lVQ9rB73YTjqOTqGsGRDet5Jcyqnt5ILVIqUiT67R2//WdGWr\n",
              "G5qS1eoK3sZpdQBhJ8sqGQdE3bsoSzEsS2gHODff8Q/wB/eWI6GP0GNP33QGOHF+07juGL0BnhHk\n",
              "9jxjX/C/BrM06dkMzg/H+CA0gsI07e1mjuhN1TX59ZboWD1BLolb4p9M4hAsVqUTj7pralV+rZzb\n",
              "HubkaQ3cDH2i5AyCVWY1Qg5euQ5aJdDSnqHCBNu4FMYaYiQ++lWFyaBm/PyZFdtz8SVx1j4GITJ1\n",
              "TR2LRn8MQfregsyuOqTqoMwSL0YJhWEwBdj/4d0ORqREwjYKj0GdFNOlr5X1CxA75a+wL/QKZ8gk\n",
              "RHR7HV7ezlL4rQX580rVLJHhhP4f+fn0mvwuNXJTh+avgOC0rTOOSLSUQnlCIwPMLHMG69WMPO5o\n",
              "WKDKtIiJtPO7WQi/NXQiQAuCUAN5sml6rCatffLcn8bNFa+N/06WVMRV6diT0CZUzaOEoLX5fPGQ\n",
              "G49bx5g+NJqqpzsHrYKKVaHYfPHEjywb18naB4H6cLpmwiYXVOhzn/4e+hc6a6Xs4zK0lr1VADY0\n",
              "J7q5QH+ftwALMllD0EfaYVI5Bbuo9a+F4I/I629Rqrwhv8kddM7eWr621lY3F9ajPKN6VA0Rllzx\n",
              "6ArbSOHchG6CNIs7FvYERTBBa0phEi6KjmJsBzk0HIYm5j18Re8kuoLLyrMB790xicKGj9KUuUPG\n",
              "CCUZ6wl2DtobNGQoxawbPGnhSJeKfWJNW2a7BjAkVb9uZniLTb/eNvkKWLn21veMPhfXYFXeYQaY\n",
              "qaRD/OxuQonSGlTe3nUXl9qmxT4GVZrHQIBZOSp7UNVSvNKTBl8NVddQboRoj3Ol7S/JQDGOzj0K\n",
              "WFZDLvaQW+Fldd7YXs8kctzoWtYOnAoQyDd/dloD7Z9lFW5TKH9Zp3HSF9OdvAe2c/p/ka6gx//W\n",
              "eS42oiupqJ3TeVVVQoECqItrRyib7nH0TSRaJoDBx26LPJRbkItmqU5udjGv99/MXnDRbZ46FE4Z\n",
              "1XAlxQGNgbEXjRlgKe7Ld5OFmKzvsGuAdpt+me4Rxy22tsxQm8LZK6lcscOCeWVxVzkaZlYd+9FB\n",
              "GBXdGdzTdEf9VRVr2CRgk9sSP1hiG8yiRaPiIvbprooIdSE8TJ+oxlEXXGVmpUjz0niNspv7ZTfw\n",
              "ES5Di5S7s9sP7xpBiJ47S71bwrvFBo/FsDtVh4Fe2ra80NxSoixq3v4ZS0ZpSUW12MWvLfOnST/S\n",
              "CTe9XiKm7sMNezbSxaH63xa7G+9vrKRIvj8mLEbBiQhnSYmpzTveDlB7kb+7lFG6+IFJsr+NKa8k\n",
              "sNirb78B1zXw6J/HX5gyr9F1U3sGhm0gssm/9ii4RIsVtxS6PEiRADKbuzv3GgsIZjXpsK0xae04\n",
              "yQVM4vgCG52xIG98RjfOdJW2yrWWL2VvYeA/O21EzWLUhh6BGu5CUTdU4X6uOQRDS+W/F02i2wBP\n",
              "3wOd3hMzRmnGfhgPOxDnk0mE9aQg0HHSGyLACvKFRCxqGZAJQIhg/NsB+XX1xshEWUGxCnRCb+ET\n",
              "pg1f3o+Nip8hnRHI3lm+Kn9yWX82oTb7hOgKxOeueILtiNKkg0i5XrEy4/39IlKpzre5xOKkVZgq\n",
              "O7Tn4Rgdb+hkkUJkX8NIT7ULNsDQ5+e98c4STPTntobBL4HnLDOcQdZGfa6q75ulNKctpgJCnLXs\n",
              "+Tgxh2b/g5jAN5qvpdiT/O3xVbjDlHT9vG8NxVqvCNMB98o9oH/bAalix0h8/s2yeN9CjJ/V59U6\n",
              "mgzh0ZxsBegEv7yP6PsIQ76/ejT1oQHM6ofm5o86M5gjnV55Gj93EmIy+GqBeKunZxJElfay9s6s\n",
              "N1/KSBH0np0padepSc2fzEG+29ZahNcMVN3L+I1zfuepOLHwhaTivSCOABuzovS/gyJ6a6Fm1Mme\n",
              "ZrHGJ5vALVJMgJjzS4fPcI/MGnL599BBTRJ8GvsIH0ELQpi+Bo9KpJzy4IedZiHRDx4j/JfrcQTN\n",
              "lWFJnCrkexUX/nt3SIASUZnaOkdo/z5m+5KiVLKeqUtVYY+3LHtvKJzmZW/453xIWnlFflTHXOqh\n",
              "mA5axoTXa0O00T/HxdX75Av9VfBAGDllraq4Vtzy4NKoMxGkp8MZbBv2SBvPJbjvgmKWXXsm+EL0\n",
              "T4wGAN0Ko58VUaqbRftQ+AO/OCxcBfTKajP5JsNfbT3UNZhoshN54jEPBbZPP1BdZEBT1LfPQb4T\n",
              "a0/Y/VcltuK/2WUjwbPi8eLChAK6O2o9evzvqyaMCx3R6DAZZ6CKpQYt8u5uAPon5kvuVlLFDJ5+\n",
              "4pInHWZLwB8ebJngHCSzpB9bHF9VxpFX5SA2aFb/DSG9iKy7wc3f8w4gmnhp4xysgcq5KRAewGS/\n",
              "okFWBcjLr1d5iUTDJQoP4MC8TYc1acZvkZGPySrmoJ+FBfyYT7LbgHRTSbPbS2u0Z6VFoF4LiwmB\n",
              "GXY6pqhxSvGRRTSkYQM+WmEXjNzjZDUgrruKb7xSQ6//48+rUQBUGRUEgWD57oF9yDCLMWpmBg+E\n",
              "DPB6qqA19CLSKZNG77folXPyZ4oAAVzrnZZC45J1/SPKJum/5WKqehmvDoogW/p6gQ3hOjb9J3Ic\n",
              "8pHlOl4XLrTe89NG5SxpP3gl1V3Ia+EucJVOqH8qjPbsjcVL0iBfwv1YKkMYg2FozZ2x5X8uKDdD\n",
              "IPsfBBrZVr3tvYT17gqNMPk5XSE1NV6nRKUm5jKELwPCH85drVGrNds9Jz5WfskH/ug9I7rpfJxT\n",
              "3QkzLc4ah/10thL4RoJeqyKf/NfvQGSIo0i2H2Xo/DsulvckwBRlgdH6pn0FWuVS8qi3zfLzDO/J\n",
              "2WI0R0LyRMpbrEAVP5zcE33PRLKxxBvWSvyfOpzQwGdBjKO1/kcVdAmSSTNlSapZox2mj0UUYtZ8\n",
              "YavqL1W/wUi9QAG/i3vy+xFU29GhU42FK+CXEn+mzbRi3zkdj9gSm1PJL5kezg8duJy8iL7QtU80\n",
              "C5MwXjN5GkSh1KAaN1fAW6RiDrd9eexlMHEYlbvE6JakhugFW6X9qCuHzha1BF17/XQ6vP/lnqqJ\n",
              "jCHN8JVCyiYgp6hV0uqK8bJqpwGjv8WYC/DI0KMrhyrq4JSZ0H3YYiGjtdWWP3qtgamMtb5iZzmb\n",
              "99iq1eASuO9Z6I7Af3s/RaaiddbaIyNcSC6+315vV3FM9AJEoHljASd2QlHkfAN8a4zUMwYjhMzg\n",
              "wpr2eKQ052gdf5RlnaP3SubweQmTBkRMzrA0Q4/3xrKX5tYyHOas1MtKgFB+tTmhI0xNS096DqwF\n",
              "XfdIHHbWeS3zDGj1UGWiTpSHHAc/zK+TMWZJlOqN/DUlevNedp6xCLWmTZCmfbsgkMNtrQMosVzb\n",
              "PDEs2onY0r1AlgsgN7vJ4vG99VRiyb3+al842fou8Ww9r8dnZJzdejPoqG+2CilZBWZeutg9b2lC\n",
              "S1ZhsPBknRH6zduU/f2f3L8i7M6i9Mv1mfYnpuj9D00+0V/qGceKZGGMOfx1Quuav1GhQ65DGq9w\n",
              "AjItGUtf179E6wH5NBqyLZWSpDYCJ1Z++v+fXoklETsA7wvStANbY/qdB/M1/EZKcVnHof6Qt3XQ\n",
              "vOagMgGypR8iyUJEShIZuE8z/5pG5A4K7YyfJKFSCRQGgvkaR2/QnccNv4omzwT1A9K0BIrdwMxl\n",
              "Cdi/k9NU5UJj2rSdtMBbHaEd4bFxTFgNp2CE/HfiJkXjB/ypA/mcnBIs/HKTyb5KzBiChIjbZrSF\n",
              "vVzPdKX8A3V+F2amFB1vImedadIRvwVLAJEz8zuRprzBd2h1DurP7p2VEXvq58lLQY/0H4nxL1Fa\n",
              "WZijpg4AJ5IBmGSNh0N/xB2zxDj6d3P9KIrnwfqfLPo9+cfgI5At4kB3NI/XZE572Wcd128RbKDA\n",
              "9ezf7idr1e9rnEu0mVutkmSeduataD6tV2+G8a6SKgHHjZxKy1FSh51gvmF4WYkuPw3rbh++psGk\n",
              "x13TVru1DoO5tOTjzZC+/4s0Iw8bePoCn8DR1kL8GRl1nE2rbAGsI7UhYBE1PiB+AaJYp+XPmqmv\n",
              "cghNKmUiJQArMT66+i652/nEIkVUutVJWRgJ2/fISPhckQZph5lrEreMxGfZV2UIkd0IDsBwJHxf\n",
              "kpPZxt54w4WXCRAL+i1XQXO8ZFWanBnM8DvPTC48554hAX+OVTufcFA3XxQ/NqNnvHACtex6QGKq\n",
              "TmV9X/qs4p37vrXmgy1R+KdQH8paUhTAO/nmkBWuDzsAB4Rd49HDtZZRA5mPizT9SV+v4QKbalGA\n",
              "Xo0nnlyr1yU3TUMZeaapeHHlqxS0f2bKp2SKv/kohdkmrq8Jx02MQ14obNhIztwhfAoDaAoBOwCE\n",
              "qYrTmyzl1ovvQP78sRNNccS1ZZA56tVne+ZGIz7U5KiM+FOXXmsbUvjALwBj0GUIY3i9f1d2Ldig\n",
              "9BVofq+0qx+kTaaFkOaPLVbFMcGJ/ZcIxC6KX2PqxXRW35rR0SlT0wSSNofaJQlA7Km0qO5GzKv8\n",
              "SI5JO4DB66BGjKgJce78FShNtH7knYwLB/j5m3/Myb5lmOUEb/waRaFv1lQnSNxRCHWnAqWy97+M\n",
              "wV/O2oSsVHBb1jtojkJwPNoUeF+/jGHpwppX7epX3Xaeijk+b2b+XKqfy+wj6AZXdqlnblp+pAAj\n",
              "2U4w+/Ft1pC45tD7F6xMRAWEPPG8XWeKIRSn8CHSK+dvWQxDB1nAfY1xFRVUwvthkQvkMF429z7i\n",
              "rQIm9bQGo2zs496vuje3rKu9ZqgUHC5nEihZh/9yZU1BxXnES+W5xcD6mxMtsHFFMbN73slvLX8r\n",
              "Q11LI4ke0d2EYAgZ8/wA7u5/8eZijOlzIN0xk68caPxpGHoIUP4aBu67ZIJi+figgLoA4xqpKKQS\n",
              "ll/vu9Ud7F9az8fhm+yY6JntPNsbZ1ApxKGzPLTJSD+55sPgnjKGieR//dZn4qtxR34O8Nfhlb0l\n",
              "q6F0/C/Ue/0GjF3z+Stf1Kd3n4dv5K+LPcFYez8hs9OAXU+frlp6YV/GslHl/napGCdB9kQXkbeH\n",
              "VaY5l7pcVhETHRHQLzq989ndWwvv2QVKxxBnF96VWVMmA/fuP+j91YMLQWZsM+TX6M+BoggbHTvq\n",
              "sYAbPddVwtQaHfdyJESFW5N8FGVBEge3h2XQUf3cTkOOY2jNSnp1lNNnevKiUllKOqlQxc7KIs7z\n",
              "VLV2lRdehJP79/GCoiQHnBh31qzSfbLr4nFxEa8eKFKrA/VtFeAL3f9OEMUCK7jr7Zztzxe+7005\n",
              "4DL1LHqa5hjaKTp984gZCzqlP/////+bzviG9y0gjeTkDOTQWect+wtnhv9GeldYiHe7om9cKuY6\n",
              "glcXiQ37jLBLZ41wClcJU8gGniSiEu4ReG/DX0e//yrEbldf4oxVBJdMG/WPEcCWnzOtpphQ/5As\n",
              "ywYqRJotE27+KpOf/pmpQ5Neckr6aP7sRYf/G/wIu2jMLY93uIeYFUxBMmrg+muqJMz/jCkbhT67\n",
              "VjpP+jrnuhL/7n6VtCpQ+PStcKjdTWHp8TJGFVtYtQLZbpLuh/3nS0z34rUioEi8BoaQvrimEr6/\n",
              "NVB9NzR5aXL+u6w1f5JxLxYE/3DT1y8Dbm4A7pTsZWayjCZ8lnBL4YsUdgNw1oD5hoHUYZ9wl5F/\n",
              "hP5yOLSlKlVy/gPjb+qc+hOErfkx7/CRFx4kHqsAOfe9ZKu83uqJykg5+EtySJ9zyCpUwYK5gFq/\n",
              "2S9aBk3ox+KN8WsTjFxL387zk1s4yFhA0RGcHObPQjGwknb4hn5m/5RBVayQpp/cY6GT8QM6o3Ob\n",
              "EUtQ7WXWTVD19qz2LLoQ+1I0IhoyuU9NK+FOlBHuV6fVotGj4Ijoem1WdILwv6e4e4gGM3VkzlrS\n",
              "/MCX/4UQpLh5Wnxz+78biHZCpl7twqW33zN1xYBIZbzfooH9gUM9e9I3PcBg9E/uv2YBwAO+sXHg\n",
              "4vRWGF9kdats/bXBRboxImSo5C63A1NGjJ4v91eirPr1VI30LbRrij96fWecXuVdyrie6foGnlCP\n",
              "VNJjf/a3pL09bhj9WyfSqK3Z9AqXFCMk1oMcSH0ZiW1YijEu1Ge6jXsE/j674rYc0J6M+PzlTVBF\n",
              "OdM95d6YCQpC4RhVRf7rYcipR4SgDR3sKRkIuOzy05x0avxfV4a1oDoSe3GTvOyqB3P2Y/XlQ6Dy\n",
              "pHpQWb5uRj1bbicuPmLjepsErBIPTSFkXjoOhtvdt06KcySDAx3P0s8zJkD5grKsUWBd3nGBT4tP\n",
              "cSYvoXxBIRHtbOmMexDU9bLKkL3VQHRQz8WQWBLw/9LNvJz3aRPMynAc7TqneH1MFwphvziPDIE7\n",
              "kQOAtsQHJFlfv1rkYVO9rcpgk/VIJILSC3GRbSXPFA1rOtjypeSvUTxQyMbRfnBc2wy55CG9vi3L\n",
              "Hn4Mz6aR37kDfWPkVP95YvOf+UGpmlKegJ3Rz6Wx3qp7tVsVgwEPLsAAAPWnlfRybUwjGJO3B56m\n",
              "UVxRp0e/ZoNkJEG6I+7994IliSPLqXnk83VkHsaiqE6PMhdFzeuExQsY+rwr6PhJVsl3o2IWxQmQ\n",
              "iTAS469te8HT7PZgj+65DKE0L9LG1nqxbNBrS3bo/aBshjU6BWXFUkGafo1lVrLc6exjISegCFO9\n",
              "M0+0qTyzZm1Ialu+xU8tCuwm2G3FONaShnHNbmaTfwZCrDWAcLoOITWx2KevFMWp9x9wg7YAJxMg\n",
              "5NDxqmQ592MKibHqH+JhxhXFaVqiCgP+/9CWS9gPv8k50S5iV27tR5SXTdiBStH6ohNOUUUnX28Q\n",
              "Rq9mbXE4bXnU7LdVnr/EM0YtASL/w8hcUxcG337rSwO3QmWygDAMQ4jCyVUGxmA+z89duiL1XKcr\n",
              "lCeHBdbWneHnJngrqKeWl50CiMnByK6oeybWj13tlPQg74GzH9giOcVz+T1lKPWOYm+rLeeoSwH3\n",
              "AMMbxqqWfiBucZ+1Kl4bm4oLRdLesO9yzVytGhSCVyjQOaMM3BJHcfe5ORKk1jCtKfrb0t9UWpdi\n",
              "qbukaPqJ6xPz9btOZdqBraV7j7j1tG9OxLyqDyc5+3u/8l7tn4JcaBENC0revzOuruj4buD9ka6I\n",
              "cmeFEaKkrp3ZqB0gwWxOaWl5iMJWLKdyOg5l6veRcS7ucQDl4C3VzHJyFjxJq6JzaxLBfzt5Chqm\n",
              "bUPtdVXiWYzVXMxkGU/oY6W3sc21AqPIytHw5qq45Xktx/TeAlbnkdUuUPCa8b5mGznCFhxlZLYQ\n",
              "iaSoQv53fRgwwCZqB4ixF3UrNjcoWsPq4E2192/IRhoh6Lop2J84N4nhbVEqoSTWrYm5WkLem+Pu\n",
              "R+rbh8A7YJ6j+2hajQwMvffobHwIyVeDPdJhWBMLlmV8XeVWqRNg1mcDTs19zAhptgAAAwB/A08A\n",
              "AA/1QZoibEFP/taMsAueK8UAhKmROLPbg1/I2RtfSci33aOhkI9ABeIEjZKbL62BbC5aNHxifCjo\n",
              "srSuEz9jokRXtmyjNgTBByPBWlbvPVS8y9+yt5JXADskjfqa7wDzKg53H/FxQzlspaqE72InM2i5\n",
              "2t4CnIlBgDFHo96n3vPCAxwY9FFLbudMSTc7nTG760UDhCJxgNjTIztq+D/kCHN0lJJxgzj8lA/z\n",
              "XPFdmvEsMALqRuxVwW6soLyQSwFSps4YpyguhCVJm8Ru0dqSzwvPJVvyEdQvqKh8DMGCaOuorqEN\n",
              "OazzPxWrZxdQbj/APf0tRJyztG5D4k5LaTSG2cuR2vwn4dvN5mam7n6G3q9rAA9NFcNilWWImR9I\n",
              "iVdiPyNQ6b4l0vYm+Y4NgRI7M7510JrYrD0ykBaKpTV+aVTgt6vLOPGpsirPQCCkq3D/RDBl/mNK\n",
              "dsayXR/s/lPxUGRCE2EPShiYgE0NQlfUwrYLcUOUZQ236xtKAJ4ksv9KDngW+J9e9ig7B6u7ixWQ\n",
              "cAjdEVh5LhgBR2F2mN4G2y29YGunTWfJRJwDwf3CA4lRiHg41PFN1aizSFZqEU4VJA6hG+cIRPU9\n",
              "46kbzz4WIz9j/rhxIA7dVTh55vr7zKMcnsrNVvGQi6HY0x+seKPGNAwSmwDliAaWyYe2qTV9Ppic\n",
              "Dq/PratOwgz95uwuOWIxxK9dq5/2T7QVH3WdOZ+QbIK3ugaIf7L+dZjPW8wF/PKWAkqNjtzd6uiQ\n",
              "0OrHK5J6JBGwg+DdJLkEQoD3S4N+sxjgSQ4Dd+6cSAmmFsTU7YPU2OTU0dcqGbCRZQGNsoH8lokz\n",
              "YKamtmhxZJm/apmR+PCy2WVWpOLvBt+E6NkBNkrZKuJXLfgyIvPp7G7l7MT/fji6z7ysChVNhwlI\n",
              "bZmLeRUKb+l09SapIrvv4uLdRT7HAJXhpKaeF132lRdKeH1X8aKiw0YftXmeuYSBOiBlkZFQBSeU\n",
              "CYG5ufe9G58IsbE8U1sZnq16dLA3t+eVyqoNb4nhPMbcOMECNW12QA2TUfi7xVJ1mSGmpHcwB/1t\n",
              "+iSS0sJdlKA6pzWGJiDibv5CDxssL42WWl5Utpw1/s/BM+iFuDA3++RHnKWtyL7RGdeEfAuNtatl\n",
              "8365HuiQtwqlX26KWeBwXILGwR2dZUymHPYsyYDTfkR009wShuFOviRyAI4iAad/AQGwBBpYU4/h\n",
              "xpghw/4DBKCGm0WQjfUIx5RqWHLH6nt9MpncsvbqrP7dmANa0LwOkR2CO47rLkXNvmGP5xG61ywQ\n",
              "w85L6EdhDYiQMyRE3TR8j1rzHFbaK6ZLCI60qVjkHVTdQKOCxk8I+g/lRVPlZNnJmnFYsQX9nHyt\n",
              "6onjJswKf47rb/izbxW8i7aepcm9bDKN8BIvYp5MMM97B1MCCmL618rLQSlGJCoKe7JCVHyFSrub\n",
              "zRcSyk13b5TXPWQ0jY7EgPtXdtD8g4Re+P3pZce4U0w3fHau/Xd72MLa/riTxfDUIlalpIqU1U6D\n",
              "qsA2B53jMYGj0mGVwypSXPI1mWtGqY/kpD8Pzj4YuMLWHFemMmmzLu+E8IoLuoIziqcXsCgnxlVl\n",
              "aJ9DlCbugBsE1ovv5MohxoQMqzwKOlWgRZkdlLbWgaUHD+kXwuf6KFhoEbu5sQTeITqSbVgqUnyZ\n",
              "QxuqsTkLjuVSTBif8yrB+zJoaJhPxL53lbbRY5he8Gu93xMt/1P0fm8CFEQmVN3ejg91KFtwNSzA\n",
              "fmoTo1pntBDoqqkT6lcIjd2mIA/wL0I8usGPRAKN5CNHs7N0DX3+UFlUVx83vOW4eY/Z4tL8QHtU\n",
              "JN/DFsZEUq5Yke8dMInQcHIXU3nQkN+TcKvqyJUbwX2BIYSsXSWaqVfy5YFwgeY+Qq51SDcdtk80\n",
              "FPn6IgdtIFiLnVMVM16mVvITQvIvrk6cPrifK9I7/nAc+HgYxtlSWaMidGRQ+tgiBdOK14AyzFAj\n",
              "XvQ5D47S6QxR/yD5Hw+eXefX5OJreXW86ud6NfbdI+s1/gkVS/cChHfGrlEARmpKmqt5XuDkW2W5\n",
              "AqgepMvXlD3+1VUu3U+hp1thSRiYJqG7OOcZstgZj/srQHbx+v2qk4HtgDiKSkZXpPCPe0SsGOdu\n",
              "woQAdjY/CFMldgMnaHIH4Se/0VOSWv/UdOR39OEMa5eUERTGrrOTgZ8TheFYBl7Xa3KZugoHd1g0\n",
              "wGLqKKMK2Ktxj/7bZ9JSdbKyRXik5zIsIetMaPEq/wUVgsk1cPYZNNsL39txZOKpP3SlI9vmSzA3\n",
              "020kOD4IUkA2mhJp38eQCEteFWAfF/6FUegaHswBaMUHWoPG/CfxyPBuSFg3/VftVACbzaXcVKlo\n",
              "U8VwVJqYSzNirqzWF/NmQDXuZb4R7Rat/zqy2y5xwvGrfA/mhMhh+Vr3ItjdjUuZqr+UiptIGe47\n",
              "CHgzoViAicQCRKaIPWIVuPMgYd2ZqTKWoPug1bK+dFsWPz9bpR+BZViK10y9EEiCKFPR8V5+ciBD\n",
              "tVecC/bB5PkzMJePj1xYPxSY2hLZTE6FE7Cl2DKlsN0NfqsmeWLDZJef6JVNDHgn3CHuGHrhICZz\n",
              "QAgWWxZrx6IFyBUxH3MqSnooRpTM3dUICIVIxXm29v6RBlIkD9czI12MyetjO/z21wwUp6/rImGl\n",
              "k6PTuEEMvekIgL2zefnfkfSQjAbE1+AIDJceorXaDXlmcKNPv7X3B+btT/AOqiEd4l0taA4B9OlY\n",
              "aRkicmIoRKQDESgwnN5RQSu7VpNS7iW8brJ1FvnK3Ug7fZ5FIq5uzbC4pbBebjzVvyKZslHJ2BVY\n",
              "KquHTJutO2epcSOaE8JYmXKwPvg6VqnBxKXMpr/+hcmeQ3Iv7DOwSVIGW0vsOd6J//Yra2SwLvq1\n",
              "rj4w+lcmWgojmAC0sqy3jXw+oERlagQ5Bf4O7k11QhEYtriSNApjnF2qkjfFRQqXQTO4Q9gjcdrf\n",
              "X+ycp9ARMv2soYY9wMBl24u9cFkEWct9dDh0NFJBC4oMV1a1uicVAWTuhxivrNv2mdCXwD9skD3F\n",
              "jD8tRwaE3fuzvSWsvUAMGFzW7SGjPTlrh21Mkq4Pd+8/FiWZnjtsuhBA1i3ptikz+FcEU3uk8fGm\n",
              "vhaNLaBW7iWHhglsIbn6Z4wwfb96ZOZwQKhl1pnbdS4u9HPxOJA0uSWby8/PE6hTyL9dHFX6zj4l\n",
              "8pb1eKdWS20iVaxmn4YEeai0786DH70DevDCLxLMnGFcCx8sf2CNieYilGg1fsFBKy64rN+c7iv3\n",
              "8tZXbGxzh+rXF/MkUpPohGPUvEGTKuQFDTengzEM1gY8l8H+dtDbSP/QuWdUxagn02UwCspyYsel\n",
              "yB+WD1uK0rc2TOzFL7aFpSLLyPnFCpThboHBjxGlhXP77C6cmXlutjtPEtshpKFD2+5d8rvQG7yj\n",
              "OGH0HWYtGBqX7cUnKQqPdtAPO3dx9v/MwVegmsAPurPnbGxjHv9v37MtDuwk7mpOGO3ucD2cuxMM\n",
              "+yw1qHssfFiOfUn48YzEQXtZV431MM00QoqbSCitVCv9bKBlp4oROh18sC9y4w3HiWCkbMjUs/25\n",
              "z0df29Ds7v/FdDlwaLICrSgrmuUeJNvFH2gN3IsB41sUXYu5we8SjotfU0qcDNsTmUwYdE+kaRyY\n",
              "Yv4iEY4n7tvamc4jjcDDORjpUe2YeG6IuQpsftC7FMGO2zx5B3ZU9qTlLuwm2fbl219Za+0EysaQ\n",
              "h7o/ffjOwDt4Psx/gK5igNy7tZ1AUUipl0E5riSwBoK9HJlUeLk02oFV73W85RSSZaSf5/snkpDJ\n",
              "OF9vSUgwaPrGJc6G491kzXe5OqBH1/V7Iwi5SyaJLJv5nNX56ny6ebiF/0Vw2bNmJ4YSyZNHqfZR\n",
              "Fm0X7M+67oqp51Jh3+3HRWcmsSoY7gI+UfgmFNEakPtXzeQOJm7viOawcezUpZtDLh8UYKzSUqv3\n",
              "pJc5hY4CBoxb7Il7BisodhK87l3Gm8tWDrW8vyVa05B3CJDM5aeSiZbNELq9n4uYSTNoM7PEw0cq\n",
              "ZP/Wya3JF1tV7PpPCLXuryhqlGrToi81k4UqoSWi6tjGOxxxsGkrPWHXwwv6a5z306+4ZzzRYgDn\n",
              "RT4MK/RlZt+hgWIb1ptazmPTVEW970e049PmZoHGIrCA6tRRIhtlESiPypClg9EwUiH7fFOrq3w8\n",
              "IQwj1cEmvzXIbPvKD3zsieWHcA2/QmVl1BuMcl0KQEkpAt4VkGMKnqaYBMARDB/Uoa50FK3Tn01S\n",
              "pGJKBPWO5jYzW1PgOQ+E5LTjmZIv6WMrfbJAHWhlU0vB8e0cyXt9a6vPDht8fxJoxgPr7Joiuu01\n",
              "RQ+mrGGsUd7JfMjXnyPUo3c/Qw0ZQ/lbAPU6P5MYk11ASjaDB94vfVPiZBT003bvphMf7nOmNSKw\n",
              "XJod+727/9QIw/KIdrmL47z3ZC3Ev6IpSx8BG8bMtgWeM5TLKaUc7m3AsZyk8/vayL71NQdecUVM\n",
              "dKaYIkIldDr8bIc+LBtM2IT61ntvlJhKCLf/2OME/3mRUfYPWqim6ALFULmuvNlRDPzyXudJ+XD6\n",
              "hfEDYW7mGxSqtC3KQ6xtUlQd1zKFbT8LiHKWDjaXir+fz0dr5/q9fJq0gfuFPpxoTRrozCQr93g/\n",
              "fY7ORBcjJZv3B3TYFngFd01iKeMweSuLkE6ISUMPpFmsPi/2o7HWHxlldTY6rEcCRkV6JSH4cPVM\n",
              "RPX8cFvDDYjX12uv8Oro6HK2q1k4edT8Ti5P6islfe/+CEbnQFyfGV3aMEddbxgqjbEHQ5++zJz+\n",
              "p1P04BusoOsy8v2n7CUFmbA//NfblUfTDIgtck4gO55QW0eGDSE+JghB1LjpDjr0R4DA6ma+Hw5x\n",
              "Kqwz0S2mzkiQ9QM4tM2DKkbV+Sqf1jHgajmHUGXNVB9e1NIpC4odpFMQOkf6gP3z01somuODnWDS\n",
              "Fh2zn7TcuQG8QkdN4yv6y+n4Ml8xOAQHwgoj2RpiR7P+TkQTY/klqk6cUzoasowcACbpchOSLJgp\n",
              "nxwwG+1TsuYJJoPkkQjFc/4NU1MKeeJXUwIdQgymUXQGCtmnp2XI7YyE8N2lE4SqK3QfkL7b6pMH\n",
              "zuPK7cNqxB3HeMGSv4gP+ApuhIiGJhdtmwuOnj7sfUa9bLJJMdg5q9gm4xSMEyvUOxxQwV31cwAI\n",
              "rsNOoDbKzXpe7q+PJvilb7HoHdnFp5Q1zIul/E4ZHFMqcJsyTzcbSxtd2r9THMtBKH7CkOHlCpy5\n",
              "UR1Q13ZPKB5eb2bk5yEBr5/YtMT6AAxfwCQyA2jI25QcMS5AXLwkwD+vc7kzIvP0sObhfoM+T4dR\n",
              "oSnT5QP02CoG6AzyJqevM4T3AxqWO5izc+Xv3ouBLrlyD9MPpAljficsR3M4IcgM/c9xynOqwrPA\n",
              "ML/94grbt8NW8rdASMgqDc8AUlAKoWqvTiq5ruoXu2oqriXCt5x0xqQAAAPhAZ5BeQ//AFfJ8PVb\n",
              "oASyiJXXSwdqHLNrD90xf3oNaoBOnPJP88h/6HGm47ucCsOzc9oGL8kl50Ftj71qRvDL5jwiET29\n",
              "YRxsP4INBOkPXr+QDmwVDT+xV5mUJCO/Eb7YrdbCLQuCK1vwx1CWhn57mzkdj5mCbIr+fXMyXYY/\n",
              "Zho2OuyNCfz6fYfjpfcdfzxFGascYpcGE3Cy7Wbh4dw5GfIC1hOEw6v1VtQ2PnNiZFC0/brpO/kX\n",
              "OE+F2+2BtBvOxmuFNWaDiEV9bWkeEtOP400aH/XHg9CogBUNJEKqyErKrUkwzKiW46+wTBxTECMN\n",
              "kI1ZB0bq3Ucf+3lTSDlbg8mt3z3lYY4QBnnJ5w0jU7CV+KQ+RU8Vc3Njy7b8PliAf2NZ5N7GWTXQ\n",
              "/6VjvjSZt8L0WtR7yD4xK2rJCzlUZd0FzqCOpLemRETk1aEq9D6xGab/E5Fsr+i1GX+ZlJIuFbT6\n",
              "Ep2TGmECynclK04CQRzVAYUXYO0P2Kftfy8kBIkziEjL5MbqVcvyC+KuMMjBYWVXvQZVh/mvnwSY\n",
              "nSfLmbwI5Bpahq3FUTVnACUhZKy9XgtQ0hbVkwl/AKW8kM2zLUsJ3kWgV24nE4z5kvgRVhbSBrOd\n",
              "rsNRGf8GNwhSnTSH5npvBr4SbeLrapYbtOqXc5tvV7E8MKZomv3n7A+0gf79n5dpQaiJqvmic6Kb\n",
              "SEFlurRXbX0fcjdzC0dUIw8gUXD95R7vdmYHeb6UXdn0+zS5mtF/yR85kLc1QIUu1nSEOl63q5wy\n",
              "R79PRjllLUPGpwvLNno8yOJc0aWmVgp6e8cx33INNKXnJjcC8gA4TtkcAM0yLvUzIqm9oZwGGRSt\n",
              "Rd5Kd/1i7EcCWlWI67aTriKpStagynu2cyrhk5hO2nZ6+yqBxsL9cMQDTVd1zSSlw8Cum646UR/K\n",
              "JSiZsqQiTRtxzCQOvqLKHTjrFfqUeOgJtSN+khK8Ys2ujJqyLhlUOAB4x5c8lSDEY/S8OyZIFr0X\n",
              "EIUBc1ttP6jXD8NkUPB/64pdGlcqdv+l5g0yiFY+FfIEcfpKfPWqthVFjt2GXkypNZwzVNF26W3A\n",
              "D4jPfekSG5WNjzEXXsn2VycT2Y3j41NpmlP2AbAmuiJsdd5SBAcqJ4uwKZyhD/KJfpmSrXXRdGqO\n",
              "Ak6hy90yzwiB9TYV646pp6/zGuYqTxnZSwJ9VZ1fjOG7qllD5BlxU1/U/YO6QtTt/kXHO18Vfo8f\n",
              "KgZO+bY2wAnppaiLcRVDSp6B8r7b0e2wzR9vg+B+ZzavcTKse+EzfhSJ3u2ux3Zy9xKxf/w3QtW8\n",
              "Bk9AwdNV7fKg25nRAAAH1EGaRjwhkymEFP/+1oywCj//NACKPBpUhHxSMmVBuXUPtpDize+alTiK\n",
              "sTb1X8G7HuOYR/1iXkIA5BFlqfWZxRjwl/ldYHu++u+CwvxXaRjAHLxLTN2XWX4yv/1FtksHbv7J\n",
              "APAHO0xkCLXqCGdzzcAQO4dRnp5L67Kflzt76SU4fL2F+12kHN5fJtIdOZZ0LHhrA67nVHAhuab3\n",
              "7OUBgyUOmS9AIJT7th7mD79cXwJ2WXN+KKotVf9OY6UnIR9vrVsk3+8SXxqFgV89tKxc4AT1U8s+\n",
              "qCaMekuyja2K/2vvd9gWs9bXDm+cFzbrdBrKzrUOZkvI/v1doAm+fy/IOpTftuatA3sismgLpLZ6\n",
              "G50/FDYyurTGUV6m6Y/DJ8bSnAQNpmc8ZhYtci58/qE88ehSNFb0Hi1jT0NlJ9H6u5T131zkI5YR\n",
              "pGBzqEqeP0IjMU+vPgSwViOt2rv7ehK+HkGbCkj2W23kMdyoAnCNqE9EKuVVvFlGTvpLJV6qns/V\n",
              "Ogf5nol7gw1JqJfPHbWTzhMmL/SqGhSxOhQHllpEZE4192ateNjB+/SYCqoS21+vcif3on+oYXRa\n",
              "6l2zw5g857FY/hK+fn1efx6gwP8d7Hdu808MtvDjsuEYzgF1mHU/zhleqJ1sWAF8AHCqabMo+Iip\n",
              "vkdw7vXN0OYouDBkqQCGRfB2qb/2/hm9wkDuZ5WEgdwVN6vYmZ2A+M3/eIQprkgrgKelnvV+icsK\n",
              "8bCsbUsHiA37HKfZjbh8HWjCmtcbpjXRigBsrxhq76d9WQiMywVhoWvhN+pfgQKDwQScMHCOQLCj\n",
              "sqyKVdsGoL7AnNU0e1FvQf3r0J3Lmu5lCysy1/+1ml+0L8QB5qf2bb+K6impY+xW83UtLnYUtnXl\n",
              "QIe+k48+xbh/tUhLlg78UmJf82b32QJZKQxJj3sR/v0OYpVGGgObVeC9mBN6kY6fMeXR49cr4O9T\n",
              "UZvAwhP+1C9uBnILtv6iDm/NTgv2ho0eNVVJDzB38aVACtNia+DnHN2hrb+Wbf1QtWrPIjZLlLdb\n",
              "sf9Q4q+ZEqJj6Xwa2lrF4N+HYmStQ4u4oDlNU/v33LWRi23uzMB4dUDMe8nSAAUt+KDJpiD/cANZ\n",
              "nXeAFiesow062zrv+GmGTdpgIeQqiNwpBOAqcfT11TzR0VL1qJ9VtKJJEEKRqFDpi3CPsO9iGPdv\n",
              "XWCCTLEDWDEQIwim9Eh4ug7o3zcg4hKGX2yHYMriOS73ND7gd9AutE92fVS6wfqt8mJ2+Sq6C+XR\n",
              "xXHvjzpNTPdOfXuUcCuagyqeLWnq9h07eRwUY7vOIgkyxMG2T/CbdxYiIb8EeFnAZFlcsSchYafA\n",
              "HFpF6rXIAHoIiB2OZPG2nHzvIGDmpqIN8i4aK1j0QMfnXnOza0nXfShjKEdHbr0T7fjb+DULctom\n",
              "EJOlGGMRzcZM/xex/kxRBBrXb3SRTDPYmS61bpCCaG0oOarjTCUKzvEfsjzMVXyyHYqZcjs3755+\n",
              "P2VRTjcFloSgfuF2K+V2G/9Ns5LTu9FCuOM+eR2vjXUS/CJQCc7DlAZ0wWPzQO1yrI+8zKhRCdqE\n",
              "xPYkNXMCgHxIWOxHOsLGlxYQOz9nzWx6vQb1y2ck2/5K+VLQt7snmEV6EDfa/2epQf+FCayp6/sy\n",
              "ieKWzPSRJQRvOA39IZ22NsTWFCFkrkqensCkQvQGZ8RJOncrU+4ToY8/J3NrkuR/kZ5GKpfMiDJQ\n",
              "VgOH5eGkPysXN+ovn3/qABnppjveF61/ALlhHE/xRWcecZxODeZguMtdn3/qWB+4OB65DDVqCaun\n",
              "M9QnKSL9tuc6qEaIWcfWwezrEAOYkLCLFPjiwqsAETzGfXo0F4TAcRkYD8ijI/KdHRSdbP/qgUhm\n",
              "SnxJteRGr267VHzhrUjqH0YJKRunj/Eb3bAm98sqXEoK2D9j39f/BPL0e0afTzDviM+epd2tRkqy\n",
              "t1mFrje7Rris9wbj983u+Ym8ASwExchqXY5lOSMIwPSdPl3JHaXB9+Pu7GhsFRghmOHQF0hg38N3\n",
              "pMrRYXbSvmIV7vECbaWjR2QYNl58Fg+qW6dnpGMzvuUHhAGD00qFC55U87ReHMyVo++91OZF3/JV\n",
              "L0lDDR70crFLroO45RZsrOoM0yxxfLHoEf1Wv+wDpvXT1Yv8exDDWfOQ2NNYPvpSbhEY59zsia2P\n",
              "Xaz6xWTkE752Dda65bFRtnjygNn57pLh5BZrd2628pALNmq0W9HB+6RRzEaTDy9D95/OINUwEhvR\n",
              "2nLyocQRXZG+8b1EHNfcnoy/yrNlRDYc6Ll1jIl8SYh5r4oo2SS5NZm/9RExiM6Rx6WGmZhX3AS6\n",
              "+AFKXXYJ8AsJKvMluP5qhPPwP/Cz2H+ugWMAWhB4+FgeBq1/NdxEtnfz/7iUwnUciqmlie3z34zG\n",
              "aZVkqZs4NuxcU5+8q9fuAXm5q0mVY9CIWvM1HYqnqhfhGjr6zQBfiPfrAiKwmTyIRfYus0IEQ2J/\n",
              "j0vcOf0doFyq8brPN4DS9JMKBMGnuZeLme1jiir3heyt+NEov6ZRkAQ4fJOSN2YJhkd3jWP8a4qd\n",
              "ROl4DfxdypxuRFo/8o9tAE69N8qXzwnZWdgfjYYAWavX2Zsihtjc/ymJqsw0pBdin3iqQ2jPMMPs\n",
              "kgp1IbplY5sXNhZah1mPOfcBGL92G5ZTQAAAA29BnmRqU8EPACWLeEAAXHZMd08s5UvAJbEkrWO1\n",
              "v/CWm0K615CAMD8pPUIHxF+/BnQzROVVyA6C5SHqVoESf676nnBpGLxmn6vfN3qo57RWV/fmTncg\n",
              "ynNObOGyugfLdID4fEegS0qDZCHiHH+X0454DxFOWIAiniUBHW9+LJ/Xns4tiCTNZzPV9zIFuNGr\n",
              "uqfRq2sGI189ApmX907l0q9j7zvVqYi4bL2mIORWqvsUS21PElchf/iuOHZn+kYlqZBWA6Wy68gq\n",
              "4JGslhofQf0Y5hZXzg57jfaK/3ACLycfUa468tdwrpzZoOMKVzIuPeUaGdxR4qO82o/ECwPBLShN\n",
              "W/xqYZCPiPy62SaFWw1D4dQvZUSZ5LTtx7l+yufyP6lB4SOA3i57EDuabF4w/UrrofQfEitZWFrz\n",
              "Z+MgRdlMjBt6h6SaIvsWzZ7xTBprH1lvcJ4wMmXqp6uxkRP6V8om4/Od9CGZu0dUz+9p3H/WTTKn\n",
              "VM+XhnaPGSkWXwT4B6OK4oRdlkov8jWBVFccHjk8e3osAquNoIT1z8cjxA/o2Ibj4mM96IvMewCJ\n",
              "VsdjgXYSQ88oVTMWYODEd1JRAC0z0aEfXvzficfSvruMAiIXV3YOgU6/uuNpQ3ekxW6yzm5v2xtM\n",
              "ZdJ9N/Y7aKRKKM4DDu8sSqUIph6ebYSV9RAZvxKZlUbUx6Zms+LaUrkxZDedIXAHPhcIpdNplWs9\n",
              "eRNoLVUStAYncvxqoNfaUqIPx6gPvvQaSkgjzgp9zDw2BOx9gaeQeR1A6ovE9JKr+LVFhSX9G1ii\n",
              "sx1ht8gNMArRMt/3z4XuSShvGQ/pT+rZhRPJpCI5fxXU2wIA2rFKFVgsdNtTkPcNAY68wws/5WKa\n",
              "dBvaBonjg4EZQiP1lHOq8uZcKEdVhUyfBc7XZ2ORn/kMY6IuGhIgWONFmj4x0CiJ6YZGH8Y2gSL2\n",
              "AUkur/VaRkcORXCasRYO5zogifkENexEEfDuAqCnQ7nQFzqkmRGzmWX0dlLOeUKUeqhQ4oCjQzJQ\n",
              "/fgYDbvwWhu3ZS3tlDwcwny24g7QAAYr/xIZXHq59uDkyz/DHx6Gkep8vHXJ63qdSHIo6bDPdBJk\n",
              "2/F+/kMpcUrjgnHYDFI6R9OoWkeXyY6iBuuKQT4GJ9v3BfqAIg1Sx7GeM7nOvTT2vhL81MEAAAJ/\n",
              "AZ6DdEP/AFMIXQPhrgAs1+S9gweJ+x1ejx+x9Vs70MPmF2b3WUgr4+oQT/YHdEUWqw/1ZdXKjZgm\n",
              "WWqjzhJ+Z5m3H24aDcv6BX7YnGslWx/3HSHdLGNqjGkmVj5Cahm7cPPlSpcQBC+5paMa+3CXRYgD\n",
              "IU4KJkIFKMUFIMhKJWAttZKRiUS9ePnoxVogI2uP6hIbSKGO9kIjgQMJPldQ7Xt5JzktssV41Uz6\n",
              "QoxztscXYa8ITVlMQ4mmPPitvmS+PnWk5qOXxi6dcgW9yuWRgM7qhznIbOH3UMN9RQ+GqhQCTKG4\n",
              "aElEbHgsgO1dMtgksd6Djiu0knf8OARLGl9ywOyh41+F56N/H29940vifZ3sBvjHqYmK6kbJyZuh\n",
              "kHU1tq3y6TbZdTvofUqbhI/imN/gmvP4ckyJjONuVZ/grDX2tKRDPdWQXOkV35TnbtcrbfE5BxB7\n",
              "WEh9I49GnB5rjz7YbmEcB1J6wap/5/byqnWzTF+cRTlbLYii4CoVCQY3SN1oRMhWdEte28UTqUf+\n",
              "z63BPgGTFQgCqCvGPUnS9e1DbkG0WIgjJHMurPJVOxmr/h83jD5mvJkSXx99IKuuZaXLIdFDTHZk\n",
              "QWaqLn9xTBKtUHoTXvZD+htXlA3+/vRxocw3J5z/RR4yQrC65T8Sg0MR+IeMm86FYv7lFsMfP5U+\n",
              "Vy0twcWvWu9f9DlOB72EO/AIKVvQ5AphBl7LqH2RZYl5hcc+1IDSM+4io2HBNyOAuCB6Wm/n2rWZ\n",
              "wRR7H29wx3/eo/IOQ51Y6wJS/kCEFagoZCIYCJkcWi4Qhd56I6FWRblR0VBNx1SR0YhFh3IcVzMx\n",
              "hBVMwreUrYFQYvqTAAACKAGehWpD/wBSPpdPABMyTB4cbFvF6wpwk3yezRJnmHsakFMrC8o9ee87\n",
              "BQsgcwUrMxdJ1TTGdoXPDSsnb/FVGDESu3kd4bCJqpHWc86PML7pa8LazukB5DlgG/F9aVhVgZzu\n",
              "H5H/tYsX9Q7ct3azaz6StHqekDcjfj29tdMjod9aWyudR+Mh8lB0/pZmGv7atBlh2PRfBGigPJuJ\n",
              "i8hriXDN02YUCq+0RyfmTFhoxLYcQJHV+U9LsC1+mtwOWUijS7F6nOYOOh8C/IQ49gsUlrmqWYsZ\n",
              "lCT8OJEJCegtrC1BZ2f+HO8CVTwXic4Sj0hsQTaD7NtKWAYNjDDSGBnVQwK1C+5/Dk+3ZoOiuYy2\n",
              "UK6DnZ9PaIqCPunjmEy2uBGk3aQ+F+WcwqS3rmjne8IowEhtCZaKAjfsGVcaAMvGy/wKdmhqVAud\n",
              "ldq6A6D5QXw/H7zVTlsYbPqMtQCtRrq0Aifqnxk4MkXjS2fHAo13SO5sGZHsOknJkSSFs0ok2N1W\n",
              "LLCXid+BjYX9cDnUEjvmgyXIOh6NkFVz+OIF6R74EO/X9ghwjQD64ie3LjX3SqO7hqvYDdK5JMd6\n",
              "HmG7MomApwq0EtGP/yzwYAyDrvobX3VwSYFxHeDF4GJnPhdxhEBXUOXm+WNiTzd3ZXnEBvqpug6/\n",
              "eCWyLUXLlHZoGVIKvb1lrfAWr8LSnV8q5nhzjeHv1tohWqM4cFBAmDHac0m+99tt43P/+dMFaQAA\n",
              "BbNBmopJqEFomUwIKf/+1oywDHYZBe4X43RZ4xCBNpSABEMbhnzYdPVq6HsDw6xlmyedO7Q0n7Vt\n",
              "xpdJZYHQ0g37h+iZ8UPZWVnqfx//uIrA6weSdgksNB58q+//yqN3y25nhboJ7dX4HbJmxnzdnu6p\n",
              "Hk2TaYsT8bqNRwOOw4Smbm6sBdZPhPGkAWc+8RJB/qUiNwccJOGosr4CKTIRHHTPvU6xqHx5xpAR\n",
              "5Mt37wdRF6ipZxvzFyaQ66xeqvBK2kvISzYBDhSLyZCAltMEQmZ3HuwVeu76SR7iYXp7yZ4tuq+U\n",
              "WOSV0fLySJBk0+4pITbjMJX5riWHqhJ1fUfD3fMUccRP5x3i4XEwZNwZmTrxW7TCqlw0E+HgpRXq\n",
              "Bw+jSUwqS7xEVRIg3RnOUOF1Il8R4qZmKnlmsMUeqKJphL3TOzuJo35THQHLHtRx3sx9uu8NlCIa\n",
              "SKd+2VMXeTUo+CsgnqXJTJctCUMh8dlBFT8+EGXXNVP7ON0UBeNxEXjXiSLWtHh+A64fd/ZCkMIe\n",
              "/Bdw+yfPNKb8NWuCWXoDzzg7q3cSCTvz+89Rlt6noWfCCSh7QnPAAzksP9hXFEWfUN/kPIp+H6bS\n",
              "FMDfhOrumNyHYFHzvFRWoUYDL8ZAVmGlBO+cqSa3qpwc1tCqY4q911yPEJdqLL+gWcetzE9cknBE\n",
              "wfEgwuhfhNbe14qe92Hp+ZqBDh8cNzPsba1z9lb8OBxK579WV9EkDj1GnCWEkoJHEf16qYh6KSco\n",
              "VcvnwSqOmGPElKRcarXDwP3ScIUiGnnl0Biw7XQ9Ry0WQQd7ROxeQW4RkyUMMH/RuNaTRsyusPAB\n",
              "xCg1aqeenlRYr/jj+NWGwqloPbcF2ijQThj+fjhxL1fOZdxDXiTp2hUdXXEgXI/wSC/RYPhCZWYv\n",
              "CCEP93muF8tboGwl002MA8RAuLvKYKcYFd7MY2LsyVEdysNv9hdqaRO4/sEVZsuqdf6lGOFfq8KP\n",
              "sfOZe1LjnL/mthQmgUVLmaYOnj7wRBykzI/7nXh+WkuaIwZAE1pvI3M0N+JoBjrTwopirBRmBKHY\n",
              "UBvLtm1l2a6FNIzIp5dN4p7AzviPMjh2wSu3Sfg++VD6kl6yTHsdNWFdtbK9PaVBGsW1bm2vj5hr\n",
              "HJVmy+cdmh6ac8lVTLxwYmDJuhbH/0P9A1tOO2LXxTL3wFpS70Ymi7nr7bZ+/R7Ih8nah02ouslu\n",
              "U/53qWm1qy+SzwCkgmNjgnAQfVk6/cZjr4SNMvAuDE/VzhzEl+RKBqaNlB4d3Kssu2iJ+bMs3Jiu\n",
              "1ZSynRsE+iUjI3c0Z+fPGGFyZ4Wp19bijsgdx3NoZun0fOgD2kJcoveG1976fSlMSDkZEz4vF0FC\n",
              "K5VoEEMxlBCNJnWtV4sX5Vc4ZmjDtWb5gXuXzzxBpt67hd2ShtXN2+/AEc0MigbnmF0uw7g9/d/t\n",
              "5ap72jYwZGkeC3aJ0EoffqkLozlKzcZcF1RUSKVbRv8vtvtLHlDzvyBcggujfqhdu0T5xNlsCy6J\n",
              "IISLOCAIjAnvwIydiZ4UDD6dw8ij7kLq+XiAuHVwu3co6ha5Ocohnnabm6pe8HHSvO7pDGb25Ezu\n",
              "v79xRc/fDtL4ff//bkRCPRc0CmecU6kJKTEzFqIzdhV1Qvix5k2wxLowqEOW8HDQPVe7MMxzNPC2\n",
              "Zg6Y/NAREbRvCHQ5dazMFzhJiTd/koeliknpnMTcw/LGgH0Y8MWREknYtJGUuhwOv8Oa9g17rAMG\n",
              "ikZbHbNuvZMLJIOuvdXL00PQzb70lanQUBLcjLRaIiDa9aUsWK58hAyX1le12t+iOObBtNbovABT\n",
              "AXxE6ib9iRUSqiAvVrMptVmwlWcju9uV+jx5WfDJ3VlAWlkz0PRKcxDFvvpd/R4iwO7HFaN5J85K\n",
              "TKMn5AfGdGFRSH7NpPKpuk4HLUGlvP+Drg2CqlgwnOxrRPuBAAACcUGeqEURLBD/ACi39Y0P0qMZ\n",
              "BAAJVEIyjMDnkKh5+8ypg0H6q3kUbIn3RsC/Iy9mYz2V/XdX1DxJfWKUvugtK1Y0rJvpVbm+XGoY\n",
              "BsODmVqNF6Rm4ww3aJjSb22x//myC2bdmaTf9FBbHVdGLz8MXZPkNZOgTuQAGRbV8xj/mAmw1eLA\n",
              "hH3z/T/fhKQoARr78PT/bN8ctlqu3X9h4bNmUT5A/vhGuUh2AYVWgjpPGW6io9RJAV+K8/vUFbx2\n",
              "s+AtlGuJP4lR2ctbDJXdvxbrdw1H5GK5E6CtmmyTf0IC4LxoaBNLbWc+HQBjxWRGipUziULkWJwp\n",
              "5LDjw15DkAmkICWdNg+o4GMykTxLp4WuJc+45UE11PtpkpLr1LiJmIqNzwZDqLT9dC8QzYIVR+zz\n",
              "V3A0VtWb50dsVKEIj0uu7udP9CZrDBw8uigWaAxGH6xZTyjRT3CTuthr9MaSN0Wcee/SZpQohvIb\n",
              "WU81RKGzzPDaVE/Ey3d6eM6g2vpsn/ljDimHixJsKPKi9cJDN/+Jt5ZoYZwi6oGVyo1tvVR21Knk\n",
              "j1acd1PlhATE40Ggd3w/pyvIEAoQ1cdwTmDFvqNb2sTkjGcs5jCpStDNhOkumqYgNcsM0xm0CfkR\n",
              "NrpgvZsYCLcg9clv6u5uENayWQo2Yp1cmKvwg/PxXrFOZWPi01YZnFMNX55TG9JaoEpimkaY9M82\n",
              "vdup8qlAA7Bmre2wPHQniABeuPzxvsY31bInHGMIlAPvl4Jwyj1XqPHR5Q0ImtBWe7XEBikIt4qS\n",
              "A1SlNGx2KHhM50ObT9551Lpc3Jpd9JMsjMy201WKsytYGHvR4oAAAAIIAZ7HdEP/AFMmY0JdAB+O\n",
              "0toqmlfMJY50ZoM+Hv/oTaBuz6t+ujmJLGGW7wYw5AtKWU2qYZ3sDAvtyiKmYk33MpRKATXW/NJ2\n",
              "+kw55ob7oVnSguST8MJ/u4D9c2yrx+ouOyydc+HXzpMm46xHDU8eXmfwk7fELRvpOUKHi8wHUKiw\n",
              "Nv1Ht2LcpepaF6QFSzN4IGZ3AnhmSjhqUOIdzDP1uPXNp8RmQCIBYlDYWXhkayS0w5CeQHHHmY9F\n",
              "VnuqY5yKbRycfSyoLKDpoKEyLOUGMf65THgJgvu6nlissRxrd2xXyXDTDYYX/09RTLNDUfcWmLMQ\n",
              "1HULpeIcoz8S90LAdebXpPtOA4i/UjkkwEqPP3nkgGCwsRs4/NdSkBoBC5cEnP8EkPRinWiZl56X\n",
              "UOckb8zx8cwiSTeny7QHqKS7lJzF0y6zXRKrvHQyDK3Iaxhfsyzs9F5GLmkwjAOMfM1xL0Lrla5V\n",
              "kGldCxWj1BLnCdNzPLSDskuMgEEe4D/Vt/PQ1D+v+PMgJYpJ1S9h7NsC/naCgs2Xb7riMWnVYIge\n",
              "mEYZWtZOl8IT8deId83QYYY+wss4Im+Zh2KWfsrcl/xHVecCD4cOMKoQvF2oUlk11qYvVHykfi8d\n",
              "eg1hwcaVNhf3BKcjTOm+RCXqep+/BZpvLD7TH9/1H4bC3sVlvaAiW2Q7bku9TDrHIwAAAZQBnslq\n",
              "Q/8AWgnPsQFggHu0X8AJY1lmPwrbw4ELO09y1vE648W+PSWhkmAtz6kZQbDKEGGX7J+/Qhvk+I4I\n",
              "vkWh0XxeDjF/AyxNolrLapJjJVp8ZQiSHHyl1aFWcFdxEhRkBQD/+v0/8259P4HpWrn+AYyi7onL\n",
              "eFZHAd44S4abqilw7VceBCT5oifPkNTJGLF3UHqVUu3OOgG2PDC7oBYyp4H9rph9jsrJrM440qdy\n",
              "BHxocvWK4LeI9ii5xTYxZ9JFFVDRO/5xNntuLQGMjaJnHyfKMU7o0T/c+xKAlM6NbUwBxdghUPuf\n",
              "isPEXT+mzrFjaG2wbpxCu5WqbTltAkWtlCCYDWNSf67GUmr/RtvSCn2kNytdpTQWgbqmwCNHnTg7\n",
              "IC9TKKcNKTnW3+5fo6hY9+QBpr3Izv7+6eKRnwPNtqf7SL/r044h/3aaep3N035MYNB8PrDEVWwH\n",
              "BSqgCRL938+QC0sUsbK+RNR4kBmWbe6nqaqvcWc/sqCHdmWTXgRZgtcMsLuJz3wNlgMAdu9aBkE8\n",
              "4QAABOhBms5JqEFsmUwIKf/+1oywCaCj1X/gAD9AABGd0bOth2Xfsyh3G6FHqj0SWgxKvlPMil9w\n",
              "Id+C/3UrPyVe36MLKhJgurEOCX4l+TbXB9aT3Cv+/xAoKawKy+A1J2VvAj4otIAKFre/nJWhqx4O\n",
              "VzLYM1yOH/yoQ8egZSnPaKQLzG8MbmCoSrtTGtnz3tc/xTzWvKPmPnx4ZYuMtIn9TGwUjPPDjZzY\n",
              "1TmpJ08rAwbB5mb/Xj0vILROgKzCzUjjnM+bEM9cpV4Q7HzQvM8BEx2gcXgM1sS6d5jPtFi8CHoS\n",
              "oJ9Zmha8yAQfp82DXMETkxPdx+oPUx6dVOI1iIgrW4iiNjaeoyPbEJX8bAKzJIiMsZuX0JKH3osV\n",
              "FH8UT4pa6V13/1ZOxUF6YvYVKj28zfFMeHM1/+WNZZ/FO/8pjCxnjll75kKpTlc+3D7THKAJcASl\n",
              "uK6Cp3iw9cy7Qkw4RJA9323KZWF8/KeQaZketEVBVY6cddtw9XVEUrEAeop4CWTknT3MBpa1LuuE\n",
              "ekoXs9/kEd1VScgiRArTTS8wAfYOGZV+GLeBdBIRbpI+3StDKSoMZoEvA0wxzby4Kkd/C9BVyK1v\n",
              "BMJ8fl0efAU2AX91CLnNIr/5QBZSPbEMBau+8yNC/Sws/ZJjEp+9H/0CeA7E4QKNXHj+Jh7XP0QO\n",
              "NYe3o6vvCv/sk3oFB/tdIQtqcCrbBy91t1Rv0oKORdgh2lJl1mWTG7an3/0+NlozSwCFPi59WYLk\n",
              "cNQXMIAhYvJFqNuQWPB9xriH8CTmdnYwz9fDcEujW2QVWszZ9A+8tWwTjEw9TZ1982lH/aB2cEqG\n",
              "jbIksruM5XPsQXJ8B4jwTKtEI0vDNYBWvzUc8j4E91ngM3tBUKa5rEusMq0wERlRhe3hk2Lr+oJl\n",
              "4T0+XvR78flYAwGM+S+XSF8F7uxHdn66IsDksSEIxl5/P5ScgtcIxk5GUTc2uJ6vssylF1Dj3P7K\n",
              "GS3OEWrzfJC8XjgAeZps46evQRtB/2j2XKcDOQCauM7If1qiAut00ulysXPo3KCqsgGPgx+uzPtM\n",
              "VonvftFpiR08rKwo3SQXLm0SW2cWKDvrwcglIcDlR2BxOqZpUl/QDAebitcOZxuPM7Qw9qTginCb\n",
              "rCvXf6KLJWxeEmNoqLvgzJnahmh484C+ZWe4983c4UmLJM0l7Be2Ua6/vh37mCa8HiMRxQmEtMfe\n",
              "2LsbSYJjtkKHnCPAfAHXQzdZkRbbNDWb54cdQRhwv3B80t06VBVOFceekYIaN22xvYs3eN/UWrzn\n",
              "OUI9rYraLvBgkao69mVp+ptmv5qT4JwVWAUFXL7Pkg8ClF0kmhk9ovR+6gVkNfiPrDbnZkKe8GQu\n",
              "qYt0QsLp1Fo0WcMSq5W1/7neOrsClXiSEMtJFA9zWY8rKoyqZOiVV55lF0usmidDkvCxdafP3cQ9\n",
              "g/g9adX6gclWvD2QTakhmQFcXfZJlhuEtKIPyA2FUHfQ993gcWiJTDOU+2it0gWGNnDgGzAAMOmi\n",
              "NH7/B6e/K3wJIO7rDDQuZKHuggr6tBU9e61YnkOzXsIegkr7K06hw9orzkS4hcTB/2isqHcchFcs\n",
              "2rvkSPXPCr5fUDbxC9Up1zVlIlQJcvTnldp1JZh7HH1qcU8ZIcYuNES2gPTPTugMWYEgOhvadFF3\n",
              "kaG+ymrn4AAAAjRBnuxFFSwQ/wAkogzABbNZNhm3S5b0yGQDc+GYCmlJ35hA4W1SeAPrJtdpoaew\n",
              "i/4r8Y4epAfHhfWERV6qRo77vP4pcWV9FCSja9KJEEjqn9803vjRSiCed+zcxeLsstQUvJqYBnoH\n",
              "NRuYCmv9YMjWGlcxSRat+gKyWzfPfyWmNFwbaWE5uavJI2OeAalrnDOo76lYBUvWl7rKp8mK2nzX\n",
              "3twkslqPep2Qwpm4+Q4VweQDYTzzDtH5MRidJB10OroxHxlh3qTxKlL5nnXrn0pKmBdvVXDftuxu\n",
              "4kJyXpimT7XGsSXVCkDfSvHok0lv8nJ35v0LIYoNVbGtjEnV75Sn87diMSNE/PgCQhxvPz/6o7gR\n",
              "KdJ1f7n68r3id4L5k2CHdh8F9FbLDmXaPNXgV36CAxjqsRqMNjNYSm0tyUwT39fYgyj1WJzdd99g\n",
              "t0gckwd1Bw+nesyrL09HjDUpLMMR6Gxm8wahD0SdMwLy3isbLQ3EgCLbkOonCNvDLz8NEELXwSKD\n",
              "EMSqrRxiJlGdw7Qa32e7MlFrkk/Ugt5m4gs+l9famhWjZ26ZSlelups7Vgivt1X/Bfi0NzUcoOWI\n",
              "PXK4Zr1N1D+UBXxnGXFHjh4QMLJaJwOXBHXHKuv1JfyWIe0F204e4Mp1hJwEjxzthl/VJ9dLQZR+\n",
              "jVTDSjI3Yq4Cm6F8i2v68PhwuBbzWtH6icQO2TMCAvoSX7pZ8FLsPLjOhEQ1YrBHvGC4ZUo5EJbQ\n",
              "inoSACsAAAHXAZ8LdEP/AFEHjBaAEjYt7jbmyntBcyr92kDhwmeZyBPpq7gWCfxDIpCgF+GRyXoJ\n",
              "GdGZgJNOVgvt0KwtUP3ujaIMVr/wZZvxTF8aecG4/GFn9QbBijZFJ9b8yqfdYO/aX9OZWkYHaLeb\n",
              "XoI9kSHe+Xj/wGeByI0Ch9T70GjlAlp2qVUVUBCFN/IRyEGbxW4mmTjh41UomjoVaoy7y2UFoKeY\n",
              "/duBim5xXXeLfpi76b2FFoiEStYKYl3fucneFprhVXZnfFcLVh1cq2w9j4oVr3OkIXnkdYTk1uaI\n",
              "NZygGbUS2IAIlLE8Zt/grz9kAmQPZP+EMZwqzk3b14QrI5/trYdcqaDE3zGL3ZisrFDvCM6ppH1g\n",
              "YZ4yfUMhXTbbRa9a6i5BqX6Uo6O+Bc0CHuhUxsAnEP4FjbyRQ2wqvgr/ObVOFMDj99I1Y2/A+Tkk\n",
              "rUGfQ2PbxzynXm+D+3hY5Rqbd9dU6aibe6YIPysRk5CJffxE+/9OKMrtSTefqHDQ5oPI1VRw0LeX\n",
              "tKUxOCVadKYedNb06JZRCxCEgi2/z3+q/Xh4zFjTbXFA6X+YWsRsEl9w2PmFJ1odYrNOVz7AC0C+\n",
              "px+RuZK3UqoS4L5HPUuEMyy/uOG/nO2rAAAB9wGfDWpD/wBRFv+xw+AEjMa7wYaQiJFfbxvdoGuf\n",
              "lzTvKukwo3UKb91E/CFmfc8Zeoe9LG3W52FYinMf9Lz2+e/6QLF5kXzEJbY6JO0NA9HcXGXy372w\n",
              "J7RyziVxQE3SyUAb4D5ZIVzAap5+5YpUDawnycCJy9Xt0zK/kn3ljqTUovVDN2mZBlRPSihLuVY+\n",
              "vniIDVR74QEX0B6MaTg3iG1C3gj15QUe63HbcWnFCqKjJP/K/ziCqYLsd3nMRboKdmUGRyZSeReK\n",
              "Y1x48ydFJiTBEKoXFe3a7IgrrRTqDIOZs0dFxCdDoQ/LRElxBhQFS1T+YXv71AWQAVKjiRyPGJcK\n",
              "6OLdAgwRAmL3zNjviFeCa9QcxoOvGL/Czj1cYVNA2PE4zHTSgrs4CBRZY12bVGvtTvvve86WHSVf\n",
              "ivT93tKOrH9O82sBPuiFfZ7mEmjjRjsGC8WfD/Vv4OspJCC8tvzM/VPmq6SRnyhD3Iu6qrDjn50+\n",
              "PHJqjw2AmS0lhYaszSEMMGWJ1voMVkJ1tFh8ceT1/CtW5CyLhVhaIRh3YGdJBmVAClBREEhLrVds\n",
              "gel/6H6vM2z/UBJoeocomMtR4NE6mSsnLkPpMhGZ9s/V4Ppbcg4uCQzcS8Zm254+nrbNuwdaXseR\n",
              "naDcOj7wKNYV2pRW19X/NXuhAAAEzUGbEkmoQWyZTAgp//7WjLAJoAQzFABrB0ID7ChpxJ+cDRIn\n",
              "jhP6pz0lHHA3SoLtZLdcaTWiERKsrQT4LocyoQxSl6klsexhFmjjm5kMF9L74TxUQUzSmi4h/W8i\n",
              "Ovy/nBr23+XmM6ZdHICPzMruI3D33avvO2k9jDYwhf/ZjPmJ2UkiX60Wmv6uEsecUqiNz5bsD/Rk\n",
              "OjYQeVvod2dcUV3o4X6cjYS4ndH8m+/4pPuxQKRkZbkZXfwr6hSZjlmxQNZeQ0PuhmaOk72E07PN\n",
              "lo+jWbK7dccl+rAHq5ZH+MAih9TuE4vx7+8mjLjgkWMCeBSvhxtfcie6kxV/H05R9MjGa61vBUz/\n",
              "tZoBAB4rTgBWpfeiPl4y0kCudEviNOt7TGTn6P+W++t5v++1bcJYeMn/KS2Nb2si6vCZ+Y6bOII2\n",
              "Aw7Kyd6k5m/t1rvdZrdGge4Xi3wh90GR4QGZj1LXwsWq0PPmcNF5U9TyB9YU1Q3sZl6YK+WnaXp+\n",
              "PMpUpMiEiNM3R9mAQh3hvtedh/8tDbJsejYoDeu2PJz22IA9urv0o2CPYJyQvLtpNNm/tWg6Sv2g\n",
              "zv2KoYHqT/zenFzAx8f/wvkvnvg4w3SkrMrgmvE6JJmzaHWwxif80TKeo5elQUouQnUhHVaGvYZL\n",
              "DyNQesDFSnJ+wWoACwvA6Eo5VqJ+K6F6IoEHv1nO79VZZwK6el9e56e2bvttbdWzsYh9pBChoiio\n",
              "qFa21ddhpRwTR6eoEVO9/rmZ8VOB3aAdCjgtobFUvBgt0apGSGU5/cS3fISOc6CQdrI6Y/ytseWu\n",
              "HKG0KuvdJiyGPHhpcVIAKlHHYvCaGf75YJtGgTPpWSuXdEmFxzDiO4LOxTEQHN6aPCLr+ZeOtrSf\n",
              "HB6PM9RjXg1GJY1j8v4cGoo5YC+cz8tJBpJi4n5K+zA+M9aoTStbQzk4+kvNhS/z6KwN1Ed0QVIM\n",
              "phpOi+pvyjyho6qJGc0CNo0JjKzzAAkjuL7s/EDZ65Sk4Hc9ISQM0AVJe/hqjsR2S0rRdhjAbwIk\n",
              "s3MH7HXMELwpAwRIOpuBqJkCC/punQwBLsfvjqOtpFkbrB3wSqm1UsgYbA0TDiGQZY809rIOCYsy\n",
              "g76tjhW46IokHaZlvUt5V5QPvdKuMxiXCVOJx9ghqFe3Ez9IWfHYhZEaGABhmaz1VGrUZF78+HNQ\n",
              "y77+wL0tXSuGujmoSyh7QLz4BOLN+mGARnWRTKsbWLZMkttA1jGMEKp4v54hG0mjUokzEK1dkVZ4\n",
              "h3j5nDECXdyaH+maUYi5oUUpLpgyDhKPsVCqqu9PJCLbHRkbOKOQul4bPivOrInB9Ay7wcXdHtru\n",
              "T/PmSQtNNZ0T1JIdoBCYluHJY6+bi5DjaEcDum72gfulC6g7HR1K1IeQ/H8Jhxt0xfJamwLetrqk\n",
              "Spxy0pomwTWh6JNyUYfBXnc4Fi6+4J/5Bix/5yB+KeB+mnZSlEgAIhutSt/kvikLX+6b8JfnWIoo\n",
              "DmZYPFqgzSTx4HhihFMgDulaU3s+36LaJMf87oD0xumOgEJtcTZfNh5ioyUvpJyHj8o7JGFpyLv8\n",
              "/WY2wOQfgHW9MKREe87APNEK2Dq2octxiZiLH/fex4HQOuVwGm1rYseejGr7vBgMxcFcQkjBAAAC\n",
              "YUGfMEUVLBD/ACSNUywAAJe0/2faGflgsP0gu0ZZQIAJFmLr5ZpgvQ53+cK38uKx3nZyBHtc4KNR\n",
              "15U+fMVJOwKr6YhxjAupPKUaBSkM2RFBW0TLZeYo/USX+joKp2em9eLmz8JlfHhP6XJwY4TF+NVR\n",
              "+oTMzJhOMegG6YqvTjQUOAeO6yEldkD/1bQAFkLlsO4d98+MNAv4xM6QIWzYV3qAdWT1tksKP+zR\n",
              "qkczTxuUgmuFziNCsr07AbISMUrg4MBFTX+a6rdakBmHZ2haZIRQFHmQCMH+OIvh4OD0SjyjnPiH\n",
              "Z1dWKOvofEEUXdTZ/IOIFlgp7+aUtJ98/WPyaxw9OBjjKDqjKehIGJpg5YdqNtKD4sa6SVPVlbsj\n",
              "IIOHDPyDeLJp4fVInvgaXzUwzXClUFQbYnoRZhPRcC7rzChQpZaPujuIrA33dE1FJEXHBro8mG44\n",
              "h3pR63jtyBz3l8CEn/+GQFb9Ug1B7Pu7TU4wpPE3dn77omBlmzTKWZf8ssus8CLiyI5buRKYIpZQ\n",
              "RFfM4fhxyLmNGwqmUJSGqybY51mDsPQ5PWdBcKeX4XxHkILHSJn2lpP39C5xrnwxL5dXkMdWDqht\n",
              "447WpNsy01lUoWQZYM8p3dvuFjug0ro3r4CSjbIgUzgfIHyf31mXvLB+avwOENx6E9lhF9EuwlZO\n",
              "DOXGUA9pgbNv83AU3QkebRtQ957XBg+iaxQfo+xUe8uQbolXWrY5sZq3NgM+61ZklutDsexl/6TZ\n",
              "NrXbWtVYPY1yMEL3Nee1ebOpAa8Q6kMEmFPWiC0XeAp5borss/ASpgAAAaoBn090Q/8AURGyh8AH\n",
              "xipjWl+TUSIn7vXlKLsSN3Xx46inc+o6Jm61pmewFNRhTnIo97YMqZqNOg7weu66EVwt3HmP5+jr\n",
              "GT5BC1cZ+SyjPMB15pn9QHVHLz3Tnwt1I1sPduUwZXtMuyxW4TB9uSIXE4XvwZxntTYZDBIpRC+y\n",
              "Y+iJQpFWf8jMnUulHK3OZCehEo7qTi/9wm5xxWfsXR1fsC4kxkYaHwYtyQ7e7YtspQL5EFIsIg6o\n",
              "dmW5NDMotPhUlvBbKHwjmOo9ErxiNbNGRvxW537weq3aTNPxr58HusLMt6sdMZLEcAy97tVIMczn\n",
              "TFQe6NFXIeHZb/xblb0640XLtQ4Ldyj+w47CX90fMdTqH72SBW7TJoq5wuhCM6+/8V5yVpbYC7QJ\n",
              "93ZHDc8SlV52zSZi7xG/HOHYIDgXJj09NHKJ7dgbbATcApzX5+LsIzE/qObPhjR+HujSEu6wVxcq\n",
              "9yyTNy+R5RX+SfqcfqRoLVTFqc8N2lMtbxApfJY+6dopyLiGRboidYQV16TRxBn55WaTosAjONM9\n",
              "P7f3jAIDREg+upuhxFwAAAHGAZ9RakP/AFEB/twC0AHmkm3TnECd22OMYJlLT4aKUj6VpHWuGbl8\n",
              "/cFs1XLoK4LomkIN0WK63idNOzxhPjsmcFy3s00Mm71B8MO0jub1G5BaiXYLWxcF3lMTSMakIjUw\n",
              "HIJTz8JkkW+Q+erCIiStLN2E1x1QrUZl72vX2v9IubV0nLM9FXEm3K4nyIfyQ7RgFHlJuNl4QE82\n",
              "hLc05FQskvD7bbk3Y7N1UHO/2RqBA2N4cnrK0aruSOPa96JH9lRUYPA9+3oTRDhd9KKC6BQGD9ov\n",
              "Bf+zUQgbZhF4nADODidrojrM4h6VG5Umj7VD20nkTdW9r8tj4RjNEhS/JsEv8+wJ8ll5044FGowO\n",
              "5jnQyCeoYKbAMk2PFAMxJyj1a8hILKplnJBzM57nNrgDSsCdrBQsTedE1kDKEm/4R+T7dPailnUd\n",
              "kVWzAAN8OaqlvlC69/uGJ9nc6V5i94IsELIurRJiag6/HbPFXJHEP/PUIMkzP6HC7qHLC7knD4Nx\n",
              "GGqtXTwxmH1ZBjXhVJ4pwP0V9933JNAGgpZw19t+5xSNPmUupEqXrlAqdKIg+JpurFTy1+gehJE2\n",
              "MRbQMV1hFdzIOBzrLf69gQAABKpBm1ZJqEFsmUwIKf/+1oywClPC5J8gCPP/33qCQbgh2cr7ax2O\n",
              "xTcYjHbhlsWQPw1pbTyQ9E6Xf2g+LLQWqORUg/8ugHKEAKGA3AXA+vcSegKJzvKDfbhkO22cFVjz\n",
              "UkBZvdgB/U+tfoZVtCRTV7tRKWig4UPzCAqdT94q+RQhl8rr4ZH2LQK1vCblUqDr+mBY8tvXRWyI\n",
              "lWOUmXIQQjWfeQYmvrsXdGUDHA+uMirh4vin89VBlxdnoub95/NS11SwOZ8/GKl4+dB4xGY8gwdU\n",
              "ib/rqbSlVQlz/+j5pt+vWLqqCkfOkAU3/8x1vpn4pRP4BGjWWqimdV36bsy739lPGEU88ZaCBgA8\n",
              "xvFockO/rfp92rx4Tl+uPlreAOhw1eLYAozenLW5J6YubUzu2g2OidNQb1IlFOn56yj0jthIIk4v\n",
              "Ebxu0zvZDdGgGrp3JZwjt6S3ukcnrJKoj6uhEO0xFHHZuFs9kf2YrPSL9tYN6tGmDkXv8sAxrADc\n",
              "yMClKKQStUlklw0xYBiR1xe5KhenVWGSAFAu2bB5yBSws6BdVw/nuOCrKWzDbnnkB/c1SGN+0ugZ\n",
              "CkNTzgBJdLbF3Ee90Ht8cpV+HbLSLEiLfKI81aM+9SE1h4pLKrOSwzq/gb52sWnYAmf5m/WprM17\n",
              "wgO04yQHQ5wpqoOpRQKH1x3aXZF5516SkjjddpYG/oDbEdFTUU8ozhHcXZ7TRzB7aB8jPhdWgt8G\n",
              "pG3xw5nbE5UR7Vbu7MOPSxIQcOUGlukf2K97Gh+f2Widk3ZmtikHMJcgwXz6SnFof4iXVr/o9Ac8\n",
              "u2PH9Or32SEBMWdmQZwrIOh8Ijj7lHjvG5MzOKbRdEK0fDLiUqcnBoJl3uZq6i4Dc+DZ4TBchubO\n",
              "5oizHQtW1rJDl4bTP6kB7xIMGakWd3/ajt6iqJGdBzmF+v5eZX3/M7blEaE5Zw0VKULnmOH2YNaK\n",
              "2zfneMgndonqm9tpkbUdi+pfx2Zd5G5NtMh48jkNMZjfSFCHXyfZbopR92KBs31eMaPcSbBQoqde\n",
              "q34ywClOJzn/qwQwsu5G3ja6N13s82dhDIjKo50B5sarCb09hsmIwAQQfCGRM92XkUnOkHSIHqtl\n",
              "3uPJqFqRNLfn1udpummeI7QXj0B8SmEcGfgQbUcCa2GSUQnX8ZhcXicpxOc3PNm9M/gULFoKs+sE\n",
              "oHuBw5l5kzrmnQ+qLCkrbDuJQkiYUp5lFDqTWup2u/dMXllEpKdkmTZDwBQZmWpSmfj3tQKOCtLa\n",
              "NUJrp20t03QuwDYocEaR3UXh9/Tc96cEOmjXK08X/OgZnve9Ojs6EkcXWZDkKb46LGbbCOk8gglm\n",
              "Q8qQZB42h7ivq+5l2+1atHDoeSgDRvqyVCTt65iM78aEfKe5c8ZXvT+jO1xBVd2UdRL8Hkblvxuv\n",
              "sc9BTTP2sRPMtB9nYc66mGFpu8n9xNNu9oq31Vdf40rlefOs3vC/eeJ8v46YDH+1MA53MBtk1mKI\n",
              "y9TzTp9+NyHCrP7Ex4czWYC/lmtZ09BtWNlEyIP7mNgw+aj6YLp8kSg+9bQrgc9nobRIcokRjt6w\n",
              "nGomYCZmXgNqjMqD2G2QHjwAAAIAQZ90RRUsEP8AJYhrNX6qH9P4gBZa5KgZpKmIURbVO1UhO0Wh\n",
              "62Aj0uwMhaWPq2SaBRAEAKMwUUqVKv9BVgf/N6woKVqECk3Fu/ewIZY+fThlZ3oBFYvPDbILYBpc\n",
              "1KG2DVIalp2q7JvDySfrfdwCX2ArqXTxxhTNDXZ6nhgeGsgRd3mjINFZyt8VNJ3ISxm0GNsFHIjR\n",
              "U45ujdmwxsPSSESAGNV1iHDzblyxBOTk2N7CcUzv4kYb+/lJA6yiAjeZDLgYc///HJMVzI9ACcfO\n",
              "LCUiYvrZqYn+M1jNzVRPnt5sau11Zh2EyNqiRfdFh5eifD2TZWWK/K/823LEXNVSrnlQnOL4TwhJ\n",
              "7iRWI0PYtB78qfXrSF7IUmPEclC+4p3Bk8pFA4UuQ2I9GPXRFh1wNTuY5eMB3Lv/HchEQj7HFfO+\n",
              "I2DtNMUtYO96r0YXGUZcVfovIHn9VBx3h4NM9Yf09WWfKF79arPy7UAkN5TlTSgvXOGm9WxxkdIx\n",
              "4b1ele8kS7CEpJJwdJZgFJ4YWKixh3cDmk8UFSxPCjvICG/rILMjFom6BSyShYfTGXtyk0Ty2hF2\n",
              "tZZmSI3Cl+30TdvwdPaP5wC8h5ZIualkuwQt9zHFBbzvL9q6ddnxK8OpT1Xh9nX1DWLOPcrm3DRK\n",
              "zRiFDZ1wl7aZtImlipP0rY96wVsAAAGfAZ+TdEP/AFNFtG+96ACWUPMbQGU2AK+g2uinxbKPtZVW\n",
              "H3QAPh8iyCFia++76ILR/wmfJw5W8BBu+uY9aSSPwRA9Ui9+Dv0EgR+1+VIK5+cULP3ed4BPBOFr\n",
              "5VI9ms7GYUkuiox7nWYr+brGx8xmGx59q+jwfrgSLWTkZHc4sG1W+cI/Qbpt1x/LkglWcZ/nOvDj\n",
              "rJUsJQmaueSulKJ+aQ9/ZkIWad8FtGTf7F/VrFVei6sWF4a/qsFEbWWGL0mH2yw7spwxlwTuK3rc\n",
              "PINgNC11xmZppYh1vWxZl0k3AK+W/CF9I24+V9lGPjaPHbEn5cUxzHZs+C9qR5CC5WgKlyK9MtyV\n",
              "l0nkwiHy1+aH4jldeT6pyrPKTrxNC8egrzE62qRZ4LDSEkFlq1MCwy1xB+8GhTUVlcbuV8oAA5qu\n",
              "Kzv19oggxmPDFio9Dh+OusM8qbOVX4x4w1VMGc16ZE2u5HfvNcC5SrM06neJY0vl6MQ+vBerwdvG\n",
              "k/Uv2n55eUswdMuGJmEYwy7TiZqN52pmT5x6xM0324ge9CtXv4JL7wAAAYUBn5VqQ/8AUHeI+D0A\n",
              "FpQcf6ghLTZrePwmTNrVmUP2fDnlk0ISOWuZSrDzLyLk5GTgYV1u1gZ1SoqxCS93r/5fMFS0ahuX\n",
              "WEqxUHu51wN+LMi47ut08RNSTiIFI/39FLzmRu/1O4sRmOZmnC0vgw3/oC9zBkySjc1PpVAVOTXX\n",
              "juniDopsMuxW9Hh8SvmY4q7nlK23uNLisIl3ZqekMnjH4Ob1YBs03s9BSrW0086rpXAsjKwoyxlv\n",
              "uAdiSkEaC44CVguLWtYaP3y0viIzvrMV4b/k4Bceg1BRmjVAeiCBpgnGupsOgjePOlhcznjWtHLq\n",
              "DsJLkibUx6Rl+jf0E9Ovkq0n3RGqgGUiLrSNajoLauV72Mk2Lt9SjYouJTkwVlv0ndhDcyNtdCmf\n",
              "aU00Jflpz4pQIHXRrNd4atV/B+mnybPxdvUq26NViKqRXUduCbU5AWorPve+RheXg3/7gCI8aPPd\n",
              "sNeOATVZuNXJaWaqjoyl16ABOMNkw8H6d9JsTCUwcnnO6AAABFRBm5pJqEFsmUwIKf/+1oywCaHx\n",
              "F/AAG9Amp/C/TcDUzp266BqEOKnQ1ea+VCIo2l1uMF8xOZENXGnBB668GTrRSY2FnrHr2tjn4mFQ\n",
              "0Ka30mmzR1lcgJiwicvhZfbz0jyGjlxIFH3HueA97xibW/1C0yeBSGUhG0dsv9xbBNk4bAgUcuYy\n",
              "PzCGkvWYOFIfUyhdTi1r8eXEOnkk5R1jDBJtRLiveQNbtZ95EEMfUdKmeOgMMe7U+d1YQMlQ6Lc8\n",
              "RP5FjhEyt4OzQ6CrlG5gehPpj7zrbIdbs+vtlf7JRlSHWWsvRC+jrLoXfcXf+FLcs2QsUPiy3noc\n",
              "rZqpUfULRpXzwjbUmXTzTL5jvj34/uI/yn2W18usak/JtUgSi39tR2/HTwmi9//PZJwxQym3gJoE\n",
              "c4YfeyLYss62CxswyBSifhqiG099qwzN9nns9hgWRxSb3US76LxA1VcQKim4/sVHye0Wcbiw1txn\n",
              "bNozJvLHeykx0RizJr09uV4RSH+Ly9y8Mssrud02ddq8DRI/uWB1540wqAVdIkd9H1vLJ4ybzbHK\n",
              "iZlGee7jw0iHD0JpzOlDgsEoBLftIp/n6LbZhW1Wu7xTU8zj61prGkPYqjSY24Iuzy6VV4RDR9uD\n",
              "0taBx77YWHIQW2Mgx+ue6tXoo++1djoqdDxFeVigFZtSJ+N8QHQNn2qr1bv0hQP8SGbX7Q8kwIiv\n",
              "YC0meAdbuggvhrKGi8LylYcPJS3xd5Yk25M32+2FJr5ioL8cE+h1evWso265oaUgBPSCVGdR2/3w\n",
              "s3ANyBsQZ5Akvfr5AbJR/i4EWVLsH+JTyQT3Q6UBaDaycynECAkjMbXnU4NDcGLSzpevCLz8hIB+\n",
              "ykUOguXL89vbQctI3RZfwGKgaMB83yfw+/5y8dOYBPvfTMPBEFjui50JiHXhGqA4alnSetsM2DXZ\n",
              "dwjS/CLBFdviT1gLK5rFwxramBya6GyzSsekvKaUcr4qD4nIOt8LAczBYbOI3XevagNsCR47YsTV\n",
              "h4gT1LG7531XaDzzrHIZp8CLb8oszkpX7zIOkg3JDvkAdrmy6MZdjdGZKFYn994TO/qEMM3/2jpd\n",
              "2YWkdcpcNOlDNMAMIflKXnTuDYTsSONnL2P8PVVtTGq9dAl0FP2OfjAOg0apogN/aRXnG/QssCRj\n",
              "D8SOv+TddN+6dISuIzZyciIB2NqFa1QNA/U8tQwl5te7LOfFWugxa59W7TJlxUV3njnamES6pPcq\n",
              "K+4MS0FzhfkLjEwRjDg8x8z7IcmL3XF/oAjwDsguseM+3PHw9K/vqtSdl2eBnjUQLzBSXQWxSVCD\n",
              "Q+uhE9jU1mQ2mNZn5UlajNuJIplEY5KsMMYe8FF4k3BWdJ9xaROg9RTI3bHUltlMoMTyabWnwf0O\n",
              "6yFtbmwSxxlmsFqRCtogpJdXZAp7/zoLtQMlCSY0L1TXuwK5BLmlLBaS2ewqDXOgaHDNPKDLQAQS\n",
              "rLSVQ/uBAAACDkGfuEUVLBD/ACSH2M0AAWWuSpOwwFM3ahwm4zik2r0DFSN+W9s5H4PBMDEt6NxZ\n",
              "YVbcbsIC88Kqr22Qcb0NE+7zZlnabQmmIT3EHrTwXhuAlVWSCtBEAHBrrDDusGkWImw40kfEG0Yd\n",
              "lb9X28w2xHk4A69oPBWcop0vWhHFQVYDqcQtQYUGcvHANTF5wswy5SSWtrfrv9pRFPbhOiMQkBmX\n",
              "6rkp21eDSJs2jbrNI6jNweDm+iLSSrobfI/VFZ2ob+uz8gcu7nelWV1MBFtgSB7nsWE1a2Pfcvx/\n",
              "auTAqdZGlighBrAzc/hnZ0CHGP4H2zE4Xepb6ky+XMJR3Mjt3jAYKOlEOSbnnWPWh5dkTADzK5XK\n",
              "SZM3wteL5l66UR99B99SWqM4CmYaqEN8YYbC3W01mKfw+rSBMwg2/slCzlGEJOALpBOdC1AwPemt\n",
              "oFqTG0zHEGuniCLz8pbvMfo2Z+hvNChvu+bYbujYPwRTsQq4vXbZBFGpnNm+xHaO9PE33RbXv5ez\n",
              "c4Jb0ISRipgj6XuEMTuQRiEMdH08Jxh8YPg//eDTU3I9PwUutZ8mCywz5d60ZYpXA7XANQz1iZG5\n",
              "1iF2+T3kT3NKuaeBfvg6BCJSCp9FZmYgp075Ih18spjCK6Z78O6esE8pr2wMewWFSVzENiNsxB4b\n",
              "sxRjILUyliZZTNezJWumXpLmdj7ul4EAAAGRAZ/XdEP/AFA+59iAt6eoASURK7wrklWv4e2c8NKl\n",
              "yMVFBNeQywkX8jTYdMxTwNScz5bbYkEb1TnL/axU9J8Mi1bYLmgrVeVKcdE1+TfhBdv+pp4Ovl+g\n",
              "kF6mncsIfGm7HEbRgeL9r7exTSjbRJv497SCcpN6EEhftsllHy6IqsEREs7AXpzCDJA5i0c3Co70\n",
              "kJXihkmY8rMqyqKE8F5zhBvIJa+ZtuCIwQcc3ourbdcf3k7ncIpHNNHXoV/JBBRHPZW6l+DFBejj\n",
              "ZP8xpkP3J+FYRrFj21hq3Y5qhNxyun0IMGIuYMNVA5YZfOZht/YPzCarYZ6KZMf/z8k0k4PbVq0z\n",
              "i6XoHSCNwI6IBrK5kNEyF9U660QcRKPKWyTTmWVZDLvBbVH0jtgCvy/8xi9lU4uao4zOEC/eNIYf\n",
              "Q7EHEEAAAGiPsNhGAitPp4GNtwV6uW8dQ2T/aiGlPPgP1liH26Ct7sMZct5g05kCOgKTrDv5HBNm\n",
              "WH75u2b+3C02mzYcaHl48lLTW6fQJ65laTCUuo8AAAGMAZ/ZakP/AFDlb9/xACQ0F1kwhJDVhNZR\n",
              "83w/tpHEIGlUotUbfh++zhJcaIpXHOFkLFXoudjeUy7+QXIoCy3ZU1WZ9gd+eHOQL1epScjhX+kV\n",
              "B8RXy4+z193yP6nu+cDfAKksXyh7zvNafeylSNfUAcp0r+ZR794HvEtdWJSJxD/3lLvT/jwE+Oe3\n",
              "qOMNPPQ4YmGPLFBUx8fTbKc1zx6gF3We05ewMLw+dL1yceQVDdtyqWwUc7f2/tgYDAJcgnuBvFA0\n",
              "gialNcjLgwOXVFPRHKnXo09mAwbgEgUycs3zUKvIqCAT53Yhmx4Te05Hr52czpsZoZQsVqPFAQUF\n",
              "gIxentV4YVhiDCTDNz/sick5lfJ0IUOkd8eu9eoBYB7VBQvz8G+1vSZG5KGZlBVw2fI+F2Zoelgx\n",
              "4ebrxsMoP9MtTX9JXRgAVgMDC5BtZwHpeSZLkY4CNyeeLLDuraZRCLdr/OOBbKMDiPGmtletH8T4\n",
              "v/u5oUE2xsGDOfRviZ2gf0l4Gns8wERcH+krQBZRAAAEukGb3kmoQWyZTAgp//7WjLAKVVJcgBwn\n",
              "ahmkENRT+CgkmngCucExQ8XgU5FEdoLG5+qFHr1e28DTLuFOf30f/Y+8M/v68blEX13J/uIq57gx\n",
              "X6LmpsiJJ7/j+1kdUfZhkzqP2BRCi153U+KH/sKCEXJaMX6fBG2isWXNHtcje41lErMy+F0UCb7y\n",
              "R5e07w8is5Yc9eCX/bODUS4pMPx2uKJgop6RIk7YPxtC1k+VYZnI4FGGcwvgpiNZdbXp+r4+nVXZ\n",
              "IDwMtlHlaPm6fXuFrBF1gBQepF9miYyjxT5erIZPMRvT//KUwGqTmqzTBV3zn51louTQLEOmtcA2\n",
              "H46ksS8V4sYZoBMK/+6vYTMA2msWruI9ar1TrGDvbCKcuNgmD1rMkzOnlfOwHYJr9/AipSLd/rJe\n",
              "XdQrxW8OcN+jgOGRohyYWIjjZzpkKrlSyRPfJeL486AzrAc+N3RlYSGuXWEiIdoiwhDTaQvZDLHj\n",
              "tNO+CwATbL4uhDWurcCodS9NgRvDKgIjFITi1AtZk+CLgzzSeLytcceswZznWxUrcq+GAjgq7YcX\n",
              "2vaEflcG8o4qrggGsjVdYGYAI+HUyscOpWXTrMxeFFHIeN3Og3UiZe6+8FYm1065C0Fjw6TSikqb\n",
              "BkoClqHb/LivHMpoMj9j2L1yrIzumhb/3TxyMiTi3I3ynOA8E3fEfgNsfPXjX0woyBeOYHAMhEGn\n",
              "S9KcghSYdEFOlRBUtQ5jLfWqadlqChXlwPewWLcHwY2EIrLG6XUZUi1PJOBgFrlMdJnmdsJ/+TMH\n",
              "w34OkW2JHuqWNO3uqvhEp2hAxYDu6a9fZAkEOwQ8vwTtGlGHEpXCF6sVs5lYuuPVx0U57O25G0Ie\n",
              "tmneU069H0UlRm1U1Xa0mma4UrCp7dQeX9oaDHtjoJOOVLiWLDorWLIvhnEv/U81pdWjadYtlb0D\n",
              "l5E+oCTq6E0/RJ8TxjaN80gn7HYMW5H2eiiH+p9GAi5XQxrBe9Lm5YbfH58R83mlKfQqJdwTk7Og\n",
              "6rC6BPQNyW0PHEv5HwUFIcTT9AeCWSqZtQ/nz8Lh5Hfw4zKwavoV59Qf36R2EtMxGwWGrZP9ZQI9\n",
              "cLcIsj6EsvHKc9hiHxm3V1VGwPf/qjdaIfEcCf+HiC54PtLivAVgWl+AD/tfNYFM37n97/n4m9a3\n",
              "OWLHlTGPuAUbpvCxNY4wYpPPiQW2+r5telsGibH4/0IiJc36NmD8xlbZfMs8HS9FsdgdMFaq8atR\n",
              "1Tf8On1CI1XjhNV5guKzZx3n1KRyCblOokrPVMJS1a2hsybbR7g50ze5nzvLJEM7JPIioCqzgVne\n",
              "f5cOZXmeNo/fteZ1RalfS4gdeyLFWbkCHLG3D+kK1Hnxb8yi+LatuNgTZHdXv+XTXXdzkzabLiO5\n",
              "QeiUOY0RxIxsWt9WtQGmM3IpOkJlxJkf63PahS5yRme5IJOfXn0Cu4onWxwkj225jSNzBBeJ630/\n",
              "2ephcm5dqkpWstgGZBmWDV2FF7F3rK56GtiUf3J0UrmaXN8V2cee701vFeSA+iGvNveaMTupy2Nq\n",
              "FVvCTs54mBUppk5y/S8QbltgmA6+7/kRKirmDyB4iPpMpvPb8jxe5dn+FqcARcAAAAIcQZ/8RRUs\n",
              "EP8AJYtrwlnEwA14zHEwEj79VySVLnqKcHD76mPI9RILOEUek1tn7uFFqCqX2NmMRmj/PcPRhnHo\n",
              "J23IrjozvhMp7SlcXAUs3HRbzlEo1RV88yiHGqNthlLoNmksTiNEMsWxu46jaV9duDghKeHmm+vi\n",
              "fdTxZQGOZYuPAAp2HZoKp4NEqjTuMjbA6DyPORswitF3UPVv/E8W25LBLnm2Vy0++OhOOQ4++EBD\n",
              "QMqm3hQ/cdv/eTnyt9UQxfPeFPbiUHMYHCznWWvgzNkMYCFxvsjJ8qq21wbtUQ5zANaIRsMGc3VF\n",
              "45BaW7fvznlgBCi5xyFpHMxJYWE30bcfTsqhOLGiCxKxundGNn5rhSD54+mXrWk4ncybLz22aawO\n",
              "Z8gdsWnWqsH0KTyqHBp9ib6ggmd/cx0HLdoZ2CtIytGDluL8at0fy8sbVGmymPvhLbUgHW06gp9B\n",
              "CHEGjoQZ3pf42jEE9qXrb4G1resISo8DsMWBu5r+8OXHEJd5x3p5EjxO/Fsxo5Pgev2Dg0HTlI+U\n",
              "k90Nj7oizTBOYt5H+h9qEp1a8gsdxaVosoFPrzu1AN4W9MSvvnLVH3AiDChE5/js/DwmtEk8mrfL\n",
              "r+ypXdjiUQ7BLZaKzKzMBKMKe7AOl5Y3PC2CIE2ZzTQz1w632QRg1h1xs8iwocyyzoqBnkMOO+/Q\n",
              "fyP6dJYxoR5tI8/Jh/kYLX7rQeMjAAABawGeG3RD/wBRA7prQAe56nx4q3vLPMkbmE72d2rzEVsz\n",
              "qP2S1rVPNah8XygHgMyVth0N82pmSSnp8eb7VYRwIImhPGH4Vv0VqU15YEgbyKqo2q/r2z4fRC5v\n",
              "Vw9+gODCTBa7lh3k+cZr/eeam8QciGJ9AtR1O/KYBb7rJgWLWpn7a3keYGRGDw5FEWXHDFn/hpeh\n",
              "JJih5XMTXo05GAx5lV859u4q+sVLj7phod/N9FWXZr73HVOCUcD9F98TfWAnSes5Li+tv16SEyyL\n",
              "8j9iNZwNmIPENPziCGlZMHAKCMj7t/R3r1oHGerzmueUb5GM+UaylFewQVuAdz/Mrr2/3BL7fj4k\n",
              "o/RDrYunEE/Yh9trxeGUJKejqMOn/gBkwtr/mxy+U8TYDiuE3ueTIC0x+zJZ1uAngoYzSJ90Wyei\n",
              "KKx6/QqlRbivQvods/lHKqriKZ70q5Y8Bwk3WjP9yBEzCyyTCS4gQqP9ZQaQsQAAAa0Bnh1qQ/8A\n",
              "U0nSkvoAJFgPhL9gsLmm3hZTIqAL9X8ecoeS6RTcNDpwiHZlvBZvvDmYh75puq8zd8js1ubymy2u\n",
              "Nbl/fiAkZe900v0/vAIo5yuuEwECzoypRijIVR024XNyLQm9c+G/mfIa7AoAJpQZ+nkVNAq/61xZ\n",
              "+9DctRj/fIt4VH540PEh/ptCxjw8xKbCyE3DZbKBE8xELQCgCP7Rj6jBAytrbbyF9rMWsqaoPv47\n",
              "YDYamvakNWeA4UgBjcz0pv2kbRUYICgOWVtOt9+k7CXMJkfHKS8O4KpGA9qiLyrvTSYZn0nBIknc\n",
              "d5CqjAJckqxuImwVyxA3cI8AwN5c+9ga0/xsthD/vK4/CJ8iSHEuAe+2eci4SCVljiECcSPJD+El\n",
              "LpScgdw5CfJ+SJE5uvmHwdXwUNjq+fthdMP94Gigh01VzzdUPuAuESxYem9WqqUJ/CUXdCdlBN75\n",
              "Uy5bePzfw6hNiPZ/s/y1qynt9lLikvbO476IjMoSflbI+D7SaFyWF+rJZcZlWvbPJCY/N+VcNuLQ\n",
              "Nb8c6eCBg2a9pXU5cnj8bVB/zneQ/OAAAAR7QZoCSahBbJlMCCf//rUqgCSAMhf8AAkwADe2kpRU\n",
              "SqjN8vRfzveR0mzkG9A+wI6vhXVKFRRJUMerDd9jNnLrKIWR4l5rJ8Q49PQZNW6L7LBOASpo8Lis\n",
              "wowdyFK7SpmsY3ms+JgPmm7O2bn3lUuYuuLrw5WDXcWPMNf8sj6OhiGs0j0LhphtRXDkAn0E3oR1\n",
              "ZY0b25IQwqrskS+wwkoEyrxWtSE0zpRbgWbm9K+wAWcv4+4xMDXO9G6jK6QssU2c9IMH0rHLXzoN\n",
              "rsKWTIkevpVDkOzVUrv6dFvG1/6stZzbjRRyaLM86GgvZWwv6py/GsUHBDVg+qQWaOVlAsOK87je\n",
              "f9XXPfOBuzd69CVzXaRrg5eVv1+mKL7Q6oX3En2VUHv3kUcwejdx30JODnDh6lMDGYuRLBg0CbiZ\n",
              "ockuazv/kYY76cao1vASvLEyPB36DRAlzRXLtKdz1nTOx4ZxGHcmFBT6541uDL4wYPjnSeyl8mZw\n",
              "PmepnEMXEpRqGM2XxApaE+JrnhXDoBS0zRonQoJKNz10PKNDVQhIXPDafeo00jR0Q41UKPPNms5k\n",
              "/azkX0JEna2F3bnDFX4dAxXBEnvdTXbCgPBVMeSqhhQBZpf2/izixwXbdk7zoKY8YHnPoTs6s+4M\n",
              "prOACLA4ZwHecRbhTGifP+uJNvrWeXFqnGSE5ZiK9N+OLXQjVf/ayRiUepfSDkN7Z9Lkson7D6TA\n",
              "8ZSI5GVRyUFeAqLFyfgP9xo6WvELLnNIFNnZYzgZdBQABnvNgqE3X6rNvohGkr+EDTXx2yK0cBud\n",
              "gYKV5+jfyArHsD1H0vrXw1yb/yStjy9AkOIQwHUH0dSgvH8goWSW7SyxHDz01f7lZF+B/ubk20XJ\n",
              "+XVJSfv3aa/CnqaU3K0rX2FiEGyJb3/4vCi01S43YxZct6AVSiPnyQEmGnPAMiDCPkejdvtG77jq\n",
              "tqKBMkxb2Os/bTb5Pz1h3wiENntWoIkU9e1+Mef0bRCnfXK2To9n/gjq+dw6n4lRJGkfG4vLOdAd\n",
              "RdflWT2DRptwci8MDF/2l/eeWD8dLuxexIcjiFcGCSVn77n++oF3O3dXXu/d2ZsSOTv7swz8jOrf\n",
              "wq7WMm7cjUfEvi2uPCtu3/csqvHQax2il/f2suc7X4wnib2jXXOXizlv1nN/VXveVJ93hBESIiQj\n",
              "o/fTVbtQc1sisr4P/jncbvtVtrkzOMSkLMuEUi3IxhZ8cjuXu9T0fx+Z2mmILN/pfs46YioRyKZ6\n",
              "lvseLbtbhTbb3iS956S1PQ7YRA2xOBmZU/xO79ofj/rDRiU9bTCejJVFytc82JDI6dposSK/xdxb\n",
              "5HTUaX71pi7gp6tR3Fl6KPZ5TCmAapiNx14yeq/fr5XJ2L1NDeQaN2GypZLP0Qv9NqfyjSDILPTZ\n",
              "kd1/DSK3xR4bWpUbWT7VUvrcz2APwY6U/tf/njehxr1pA8gpyx0sD5gt2WC8W0RrDoaaX4/dJFQh\n",
              "hTi/QwNi434A9j9KPsE20BZ1nPoUuJoFUJpAgyuJZHwJeAAAAiFBniBFFSwQ/wAkogzABbNZO5ZP\n",
              "PeNbAXeyxuIBEFqpmBVZzrGN3F8CAm6t7oaer//UwbUnjcWDD5gIDmzEWECBnMtREXD//EBlaQze\n",
              "GHkvbgFDva7Ex7//75B4hOQgtuGDOSaQImbdfE4ut7Q3No8snkNEMxD8bNmydj1FNTd9gXc+sCr4\n",
              "uS12Y9l5GwNozg9HWE919b52DwlHAYiL8A1QI0GpHw2prWTu571gdkFVTMMbFrC/vF/daT6g85Yx\n",
              "ZIVAWfihL7LyjMT0o+Fd4DPbHo/qw8QHQO7Qnj1J1vrIStD+vF9cBbuxYYMQEkKVDpD31O1UHtkg\n",
              "U3Y/9dLOF9bfeD0vfj8l7tn3DQbW5KrDWeFPqtNnYUlUguoheEDuspPEehWWe5ooNIvYmahjKPqy\n",
              "5Af7STzxy3BHRu5dc2wFDBfza41EHFonfhLw/YBKMDaiTPpMyKxEbWizPCE+qwaJJDPlCRxe63Pm\n",
              "X86EZqV7uucJJmhjQRdSUGrZoBdmUfY+3VQ+OZqkMBr5Mdkx6kcICmLhLB2vaSId5B4T+uukzDym\n",
              "4ZBRKCmXnp2yqwM0yoBAUBRNtccIzL8dvFrCmSmmIAt9hd1jpv8YgxXHRJFwThXkD9p2s9yFJSca\n",
              "2D5KFB5RInUPB6ndjEYx7dU15JScEsGvqRGFj78sRFbcxz3O6QhGU2BNcq7zV2HQiFCeUIVFrewa\n",
              "VE4S885nn6Wa+tvN7QAAAYMBnl90Q/8AUQeMFoASNi3tos+1ZTj5yNEOdR+wqcpUFfFnazJZTwjC\n",
              "Rd6b8hAT8XNl4kJO5zF4tzb8npqkaPskzv5a0Shipnif0CCUyLu/vBNILYh/cdOTw9RRMfHAFwuw\n",
              "VRgmsAMPtyN/klN06a/Ll9wNbZK1gqPyKN6uvwN7k3mPVzz89cq0GoG/Y+F91LDm6dy/w8HQMhp9\n",
              "BEgJ2lbhFvqEcNCDpko8G2zVaQVbjbme7DBjCZ15t4SfjF2kJVM5KlkcjsKvjeOwgUovYs49PkGU\n",
              "9MpsNoGJSKV+tXCPXVrXoEZI+hfmOP8AZtAZm5E3ZqzQ5lqj1iW1V44xgzkoZsy/FbH1ntqL75Fb\n",
              "21xoEyuL0+JS9par2xZJBl34V22qe2+5Heh/snm+P3jzfWnkue8SCwuJIrXLGbUBuga74vfezcc6\n",
              "fs5qMB6B7yZVqyOQtMn0HSgRS+TsfDVTyh9cT4STyUxbINz/rQHriOlNZ8Y//mOx3DTATAgIw3/l\n",
              "dtYXf78AAAFwAZ5BakP/AFD+l5c44ALLJXnZRFyn4V7hv3iqvlG7qSqDQBkQGCmu1i2ab1GYRhr7\n",
              "JXrLcLuBqF94HO+YTZgVvoDRKW+dbYoL2urQvR6KCxlK2Q7u0dRJ8YXzdFSqmc2QnWzwxThFWOoI\n",
              "sArp229x3/KEBJc97KjCkothwE+qKtic8oDm9zx5KU8gACBZc8GhMOUXxkS7r5jRCnO3JYfDzpkt\n",
              "mF9gjHy/oElghrW7+1iZjd098Z6Gc2qEOrkIriph6Pi4suz6ckTewFtQFu7FLSgL2PDN23JDV1EM\n",
              "dULQ2UTl6lE+khl3P059hVATJ6JhL9K+pP97+Scf+JPMP0jNnFNfqYoM6jF4s+DK/joLbdxIUe9/\n",
              "kCEkq/KCB9zUBPpcfe7OPErLglogV4Qn1RhWuAZ2nIGJi9UTaX0hi4XQDxNPYNjgZagmMJh/r/bD\n",
              "li8gGjGMmhJxIzfq5LwZbxkqC4mkCMB/87ZGviH+pTpWCvEAAAPCQZpGSahBbJlMCCf//rUqgCR9\n",
              "LMtwAfHYwNDdVLeL0UpbIJKvLEYSyfJXhgH6ii9VUHnEOGN8o2VbaPmTYV68ZmE9wA928VbOMttZ\n",
              "+Y/r4WvXOtUiyiPSdMPgockvUm/Nex7cSP8uBsXhCHF+pCSBefMWsFkvD5DdAotkP0WYhA0syMZN\n",
              "/3vZia3Tu7bqMVcz1tDeviD4yuHUYK1W2iMkwf8CTVZizrjonhDfUylCb75LYOMCVqn3MLT9dTMg\n",
              "l8KRhdDmOLng+kgEnIMq6H3MOHJnLaldt9BUE8SlgjY/RE85HoIwGPxlwPxUUZ9NkFjISl7iAVQY\n",
              "TkQy3PX40gUWlZ7AvSTWIztU655k45+1v78Up0KVCcdeAbJr+48llsh/K1EMCpo9/8NTKphrCe8V\n",
              "7Xn+OOCotcKmr1VdRG9npuKuFJ48EdE3+Omf0lTui5lKvNK869nNtiVQMsKvs/vks0WPdoTOB6hj\n",
              "B5qoqcvnuX14NKWbxH2D282HDfDbDCMcX53owy3xsmkwTcQShe7ofpUrGeZngZYqQVmhoLJrIRaM\n",
              "SlRfDF91RLWLWKtbKM1LNkJFrvKFtcCwddZSWydktmiIKLaPU6ItE6oR2E9Lhxm6NbgUyZCgu/rc\n",
              "0jfV3uLIOrToHI0Z9pqWEammB8sXhZeQTP0h9vlfH+JZoIOZ0ZE7dHDHaMk9VFNiYKO8GSXWZ2cb\n",
              "ecJG3bmcJqhoBXA7rEDyiFmdtu1Qci8lN+s10ehHMUGc1Flc7to4nvnFTN9NHttNJBaDupePpdte\n",
              "JWw1wrWUqmZ4LHJ53m9mORWpMIajhMKSu1TWqomwkbrSeeauGkYIrBw+B2vGQNHmx7tPYTBY9HZP\n",
              "FQ85oSfEoGucy4RQpU9AJj5WszncBfTjhrRPLxmu42iur4kCPmDrM6GldY0XwhWT8XnK0+w0RFp1\n",
              "H0fHR0yi355R9xgqaDr5nBrSyzVq8f2nolUo2oUA5kPzMhBQgVer/gANMg+LmcIgHcGErc8u7PBX\n",
              "1wYDDDUVC5QDrYQpdTjxCQWyDAXVQKGQvU2cOmbEeBeoNDIkWjaaLU05/rVy065oXv2AB0q1KvsK\n",
              "xDylHBJ9nS06MxoAgIlh7WE1YKz0fs3evD7DXNvihyMnguA+cLuWFf9rrwmGRqsi7sXzWAG70Udh\n",
              "brwTIHZI3wNdunSSntCUukpsI5NrTEKiaemM7w7AtS6yCgUREGIKBqXWfFR3PrMLvsFLbJtYI4qk\n",
              "ASPsfMB6frtxjSAA09jz/C40h24cZnCB0tBGBP/ZPNkAAAHWQZ5kRRUsEP8AJI1TLAAAl7T/Z65T\n",
              "8sFh+kF9TLKfWGUYxddzP2/8OWBIWu/375bB33IUaH1VHaGOgAmq9oqTwKo/ttqiC/WweQTht2fL\n",
              "ltAKWRB7dYQqYradyLjAnUJbjuW8W9RFAuJhb7/n9K/Ds05oR1q/LUj8NZiOX4CfxmHeeyJUfUNd\n",
              "0fd4dw+UOKwds81+lT7saExJnnAWG84MRE9knpD8vPby+dAx3dwgO/6oKVY9uoI8LgE/LaCrLgo7\n",
              "riEweyG/i53HR5KwOFJwNIjS50aEr2o/oIxpzUfJ5PZB7vf89mUgaTFwEIgC7AXhU2PhbyRa+046\n",
              "3FuOh3cqvgjD9oYgstVlm7iX9SYfmQk+bP8Jjm5xuaGXZ/u69RZvHnEHo1w6RDo9lC6U2B9LLmZ7\n",
              "mKtZSJB9cdM+qfAEY/cZDePrtYMB/+Ndajlt+tiKtAcv8xCubufYDH6h8gmtmfX3r0Cm0nPo1e+W\n",
              "bTp40U3mGypY4VocHAf+FG2L/udH1f/jBHJ5DYaBqPY8vLgf3rVCSDFN2vJfZ5AoqKcuOnzRUcdq\n",
              "fQajIANSCpXVv5LdPULc4PU8GSmYQphS66qJFCGxu5yAHitQww/9HPI/1vufTY0EzZ0AAAFjAZ6D\n",
              "dEP/AFERsp8QAkNBdZMIQQaTpvEJQZHM/OlfdevuGSw1B672a/6/WizX1WttSq3EK64M+zvr/RwP\n",
              "5Q6+pS03ycsiBAau0ECphTo1GYeBhT7n3FG2UdAl97pJbEIfhKEDjJHI/dK4wYf9f9Hpn2rdPdmS\n",
              "TIuaqJ9ZS7caW9y75b4mBQLdMkzvsAc92sHa4Lnbb7DNeA4M2UAign7xmqdusiCC9PEuy9+n0Luk\n",
              "85q7FerDo8HvN50CZuM7WJhCglWaXegZoEUYoh6o0eQdUf+s4VHxyJbcF4QcMYHh6/Lktesn3bEK\n",
              "lnO+CsEh8+2UZIIeej7zcCqmEjflFQOFKh3pwEgkTQE8X3VKuRx4wIAHw4BDKC1jpd9JtAM6WUGd\n",
              "pgrTQyUf00IHF9GXocOzu0zZyDgalGWf8CCGoTCq2rFICBd4WFe1yuzLCbCqjO4jaIQjCPb/GsjA\n",
              "VfgIB1qKHofTwQAAAToBnoVqQ/8AUJgzldkOACUBC1/5xAoFuycYwNXvh3DesaJ5c/ZC4o1rO7EV\n",
              "njbsrhjPEmNLWtwjamlLbGsF2BD/QONsC0J7e158NxmYol1ryuv5ZNdv2vUiRWL18xRlHQkznKWK\n",
              "8RlfMLHByyPg4f3lF63VOJ6G13rdUTuZD6fM7M7P/uUpW5YS78+A9+XLKldOkP8OvdhkgScoR1lS\n",
              "xVODn9kWqjNskh3zaiDo9XSGlV8S+9ZMxWQNO6SUeQ4g+fuop70TaYkoaE8RL7UIoGlR3EBDasNW\n",
              "2NasC7tkhOCupFGa2Xr+dMFKn/7CUfMXtky5XyEVlpsiOWoIgSBVKyXts7rohCbF2NlmvwAFfZDE\n",
              "eUhhvQKg7c2Yi59DSmXXy0oFdGPMW0hixWDvy+TEun0jhhviyAsQr/HrDwAABBBBmopJqEFsmUwI\n",
              "J//+tSqAJvif/N5ct5AAi7KBg5bcOA2VL/T6ZPd1YgqhSC5G5OD1Fy6ESVBJnkF/0WYpu9X/LMUa\n",
              "mkELMvVsq848nIXzYobuKpovs/3xYA32PmiO8HmSA0Q4efU84D8sxe5mvgDFXdyT29ksLidZvfeP\n",
              "pX2g6LKjGAEyrGsTGC9zUPAufh/V5qTPEslkW0ix4b/sltrGPsjR6A3oXh8QY+TGoRB42/wSkeiZ\n",
              "iP/Fm+l2JVH4dQ8K1DsiIgxGryDSGd1gsw0INP/7zHiSLJg8wPyv8L7KaYvVpmpfW5jLwHb5kUM1\n",
              "MrjxsjrTtxK5fQVulfu+V2lj7hjt34xZDJVJLZm0SnoiKTVDbJLA2hm0KK6akdElUdyIcO4v+rxG\n",
              "f7bzXrAqmc1acO5Ufg9FByKTWd9R8jR3Tzk+ndLLkoUl6YmObKIsf5ILxcGF6ECRZWdKTbnyjRu8\n",
              "HVC7vM2GRX89LByEMsQQjF6rfT7QJ6DtN8umJ0SXuJImNW0ZCFbnaawdH/Vo1m30QnQzMn2PIfNZ\n",
              "faDm7RzZAlrAxllpf59F6/dJQIHBXb+iJRjjQE/6nrJd1tSnHNbwApZ0d8pfDfNP9p9MJg0btrga\n",
              "mltGMkAlK05m+alPnD9DFnqQqqrJg/lak0WLqAASHSxuyjEjJwEaHzkUc1rPErZcNOxxIe/GTi+o\n",
              "6VjPQmXl3FdRe/Kc+ZbIPdzMq/P35aY8x3kbge534cjYJJTj9UAT6rQW0x6gDDMOwds4VDIywnLM\n",
              "n+YP2g6r3k/5qphbsNr9th2i/plpNP6HVh8neRztbfY4uvasqGIe0FdS8NBduJOhJHxUmAN9rE2h\n",
              "oGk4nNoydBqmWv05Jz32/zgKlpYvwXpxpEZyoM5NIhG1IsazgSUFuayRszqM6V/266A4JYs8QZ+E\n",
              "VfRJMer+wEAGznr4Iij2uC1YPaDz7inka09eL3qiHZu7kbzM3k484u0w3ZRLddaXh1XOrccEdTsI\n",
              "nJds4D+ScM2eK+QgAkJXHkPuyLCeJMqd+UGFi6mKkUsfF8jvvo2URvfWx1S6RvH4SiRYOceQmO6R\n",
              "qZ4B1cqaakmsnhkGnYHCuu3+2Lm6xt2myE+CCM8eyLi58uBw2G/ATht68V5j0AFF1n5PJXwy6ff1\n",
              "vQJGqsuR/4E9jko7EM6BKts4AxqudTiC6G48Ps1Xepp08620WcxIrVZjn0/O7JqWBCrFArjBpuk9\n",
              "zEP4+31tuFLrz9Bn+FduXZrFnlVe0XVe8QA7zGVvqKtTn/YeBUXEuOSqI2Hdxv9X1oh4QWmgq0Ua\n",
              "+1sWvbkykbT445LxpToqkhLo1fFyqPhp9ACioj6uhTYJMGoIblmxmstASWqiz+EYvJg1QyaSVxTM\n",
              "FdBFJQAAAeRBnqhFFSwQ/wAliJcYAONuJLVpkicd7vceKlC7UTd0/wQjmLhTEypK3ANl0SBf6hqu\n",
              "N/S51nU/5oLxNqo5R+nGpqmR5PJMtiKQvnr0Aax2nBWEYxZIx+fkF+KyclaNwLBhREliWv9CdE/Q\n",
              "D2QUiztrFORA23sS+CoCfFjgHcBkLgDNkPT5OwW/cqiEd6w19uamDzyRHSbk2CMV0T3av4hiTeiF\n",
              "yQdf7HSysNs1V0Fe0q2LOeN/jyhCz/5JH5jizpqS9lJsTwk0V4RJFPWScrnjo5MeMnrhlaxfO/PZ\n",
              "ZBIEsTR+/afJH5vSuKIg7NMILQhJ509IqWqT3fjzNAgnTc9Hc21ZDVZ57R6WmkoTusWCZF+LG12t\n",
              "34S5tjQxtJUYxSfVZPiUFRrIGbZsP3u5G7DT0TNCNwslSe+sz8hG26TTpSR04vgfw+BgL0aMM8R7\n",
              "triimkQePywF+JfyuTSXPIFgAU8V3kjD3EMqh3s4RVwTk52OUqgPDYHlgRKgj+TUjPz9csHo22v8\n",
              "qdaPIHI7MC5AesjntonTV9TwGnO2REBVwwMo4gdbzFLglojBg6kf9VKDuitSjBJcFEZtAtcxI5lK\n",
              "kA654+N1LOIPtctbx7Yr0V4lsTDM+PKkIx5QzN+NlD7aAHdAAAABPAGex3RD/wBTRbny+gAj7+3i\n",
              "mrt9CwPX5bI8Ybx6W6MTG9pHV/ZzwK0IdFbzprm6XVJ3tv8odojlyXFf0S1S1TUhkMYQY2/2ivar\n",
              "jgKj+Gtgb3sLYLr/vZsu9VkwS0UeVelj2s8TZ7IgeShBJ62r72VhKIAjApUfG/8owihKiL+Jydf3\n",
              "veh7bqSp03HERADV5SbYVZKWR1NoI56USH4fztCJFbx6DL8RirgGh7xWtR9dx2PDyz2TTgsYlVx7\n",
              "oQOSRTEoAOlMguxStDF9IHHyllI5qCvuTDcb6gSEiD1QeV/1b0CBLXfhVLhFJpwE1PM5o9HTVKRm\n",
              "2Jb8GiaZtrkclU64Rux432dpb82/gw1hKgIL0PopyPtmYKEkX60J8nv6r+MQjWV1wc32Deis/S09\n",
              "PGX3JsLIls3AXcF/HTAAAAEwAZ7JakP/AFNR7MH+x9ABI2Le4PKMmSClhtbRR6PYYUR8XnMi4PTl\n",
              "jq0lz/wGf/DYEZ+IdLuNrWHPDYGFDsSt7iKSKqeY36hUJ1Vy8aPvuN1nfeD4obg5I1zSjnrxL6X7\n",
              "U1aLDP2ra4PzZngcCMGgKxVhd07VLWV0MMV3o3/KTtJ6Ww49tiPc5TEuzAT5tIFpithlLO8+dbRc\n",
              "1xqtom/u1Yjr/dM5w/LBmKzUlhvXLBUtBrkLf13iDi9UleVLxMnfWIEPxCu3nUgUvjDJ8oqHp3N3\n",
              "KRV6sZaQw5nVK6nQ1zsN5bSZWL4vAkyaCfOlNgPoxY4UDAP0iLURA0xxQIu6JX6K9dpFqDTsOxQV\n",
              "TCEHbWXJrukqnPaFfCXtQwJcpOhXaXQ//IAc/hLqlJADGBfnrQAAAyNBms5JqEFsmUwIJf/+tSqA\n",
              "Jnw15Nz9QAWlWqjgoCGgY53rVCo9PMqUkcgKeTvdm3omMBiDdbUW5pZtto2O//e62XfzkC40/sfV\n",
              "JeXBQC5l6/S+5MwGELm8tXOL2cw8V8IDSCJgnmA73zvuOsPRACRnVblTIJgaqR19SHsX6BijBDwr\n",
              "WvnhfUxpcVLv9/sMS7+s0hcFOVV1NqXn8jDY5k3obLrzzgOsMSxCIz4aCDWrznBm4xPyMHGKOx+o\n",
              "FpfBPG/ezaI4hRfQH0buo8DuUVRZ5xk8i47XvhB0krsjlVd2y6fPkGG6V1a1F42lCr4ZG1T1s6yz\n",
              "uKRUGEKi2kmJj+1q552r5ZfzpMCMvFFqYk4cKNNdmiAhgG9znhvccnC7k02gJKe49sPhLx30T0Pf\n",
              "dhije3xXAX9dVCUlCDGKPIwzERaAfaQpYrwCX+FX2gD4xnC1f2UjsC9j9IYok6DI4Yf74bcLpSxD\n",
              "t5iigo0i0X1NEYpkZk9CGtG0b6oKal1urSFK7T/LKCstTHzo1HYlYdmsXo6qoDsQISVAzfH5qVDD\n",
              "rA72/qw6K+LdYYMJB4RwUdwFg9zzRCL3qizMJLeKQCGaCYqNYReGL9oRrzdYjVRjInQueekry6Q+\n",
              "+WzKDvF/vf496IAFjPyqREbWKa7CVp2/YQzHdZCOkqGsycWqmsIAXTj2U+sPBpQXYMfFKxaEl1/2\n",
              "oxQt8cEtpG4ejRG5K8emYddEI9u8nfbw7q3xyZr3Y5nsZl7YypPTaAtTCHejkrHDaDurwQgISkBV\n",
              "jZOdyb1T1tciCfRxcU8HktHBM04VWlb4DgKQyt2yv4OZocu4/IiuaW7JGc4MpZIPEtjSvSYfku9B\n",
              "NxkV994gne61i2CrFII1+wzgIpJgr2B9WmsvSwS2z32U4ne+TBJwnYVTqmlj8yW+GwAZEmw/pjmB\n",
              "3NWRhLWod/9m/CxFSC5exjimMGul18hVDgHe+NnnnFKHzXLxVMaVuXVAPhsNzIKHoijlazbfJhnH\n",
              "Ak4a6gPvSkfmNPfq3raGm0N6DelX+jwMNE+Yy1Mi1TbwsnOj9FAcP6tEH2mTJAAAAfRBnuxFFSwQ\n",
              "/wAliHWd3gZWAASPIBqvgKKZjxrt60fzh6yYnbms0TiE7Hqwr9+yuWDShAykpr/vLyXw2sbawos+\n",
              "r4EFeNUFvpXIyYG5SYVZO+il+yfCgwhPV8a/5cQeY31g/OBxOaMRfwjla5OppXaTZk3wN8MKKD52\n",
              "XRACt8qJDgMaD0oBelETVhXQ0iuTOMdFtetJs6+btSGOgW0CEC4e57FkeLPo78UafUAlU2/FcpjK\n",
              "Tim+EtYuE/2eU/vvdJ7837s0l2kc3SqqRdZo3MeJ5VPhnb6BemfZBMZEaxSCdn1+I63Na4RNbFjg\n",
              "HNrhFK5GhYmU12Ntoj6OpYozlgxkUPGMd9wuIkaHwWitiF/rofiuj44QQPOEDuFVyUI1NOhSPAlW\n",
              "re3fkWgUTnM5Tb6kiOCwYC8uhukkuC+6UjjtdjtyPgBGMMOHlNic7tyGI1Qt+89nEbmE/QnLPBIc\n",
              "aPuf4UACatbos6A1yOkseRwVwRMO0b797m6Bx3maYXLJaYrNiqG1Yq4OgCE8pzvV/RPWT59dz4Ir\n",
              "2d/ii0IqTTL4jSh9gJZPHnd0ZMRwRgG4T3K96zQCmh6jXx2I36V3TyP1wSZbQV8Q5XFoakDOp4oO\n",
              "XjGluOeh3i4eET9DkvVc9cfqEiqkdw7YACI7MxbSL12WvoWKaAAAAYwBnwt0Q/8AU0Wl1f2IC3+a\n",
              "gBJRErvCuSVa/h7Zzw0qXIxUUE15DLCRfyNNh0zFPA1J0CB0rHxKnOX+1ip2aXWCm2pxCNbJjyJd\n",
              "XJYiJGENbzwPcD7xGJ/qZ0ZRz+n4ViChH0/zJ71Er5eqFe3MylVj4PiZqcpsZvStD+Wa1FxK1P9w\n",
              "fsu97hv0UkHW2GwS7gpO9sfq/KZfX+Cj/dqrrZaZHSxKT+lWEIXfVb6tuqF94Abd8o95IL24ZKYe\n",
              "PVkysO3ay1UsIoTGPB487vByrfleJYgI/jUapFvrGzA32FQ1cKjTVCA/Fd610qJ7oElc9SyBb0DA\n",
              "73oPLqzhWKRuFqjbhICAb0v4gYCwNHMenSI2HYSUeO2rOshuvHETMRcCcznlN4BSyqVA+i0835hn\n",
              "d7LMT7y/2mVBy5YfKRZaxByPXuocx/m01AZfScSkNsj2nhePYVRgwidb63WEOChHOqHsvPby/t8L\n",
              "/YNE2qa8rioP6NoJNuJTyUZ4viDRUSWdfuR0XSgzx7ZvimR/4qcAAAFqAZ8NakP/AFFHD4APjFTG\n",
              "tQlGVsKU4jRYSZ+7QUS8KOoBph4ssfTVgXlw+Wz2/Vgj5Ya2OnQ9QP75sH9TwgrhEBEPGyJHCgfG\n",
              "lax9ZqqckYPF7BfFDzJ1NRa0LPzjycp6Ev0fD7mj77JFmj9C6XAyT3FCQ4FXq4bBJFkFdJmlqnxP\n",
              "sDaJRgAATH59RMNJ3l1v1iwup9KBqPXUosGS7UrG5ZadH80jJd2lPVu5L4daxHVrJIteL58zcKzB\n",
              "4qF2kXrpYPwJwAB/GrmulFxKzbi+PA8ms6jHDGg6X4Ogtxa8YUWsYynhf02AAehLt3fR/BDt5s4H\n",
              "EgcKLTV2yOcXo/ItofXj1YxoMyfFubc+1zSD+p5fj2qdNWoCx6XwDgWkwPHJ+2UOPNECGwMBCc3t\n",
              "HeA/bkiKXVCEHkqV3owP4aoQRw15ZDmJJL776OFLgvcJlakOZ6uI+engSqwETvyFwoi9/6WVT+VB\n",
              "PmPO5sEAAAJoQZsRSahBbJlMCH///qmWASfC38gr4IyMACclCV03Mv04hICLRv3OnAdyTSqfO1Tu\n",
              "N/krwb6XeoJZQxEPZkgq0cGk+1HX9oxzUDD3At0e7qIHES0JV15cjukbd+FjsRCSf3Eh4lKSFvk5\n",
              "7VtI2I/LacFfoKoxxXRcUjSPEGNXbc3K0GpZBFsXib9mPpFUBCAUG06xPN0pQ8r2f+po+P9wdrHf\n",
              "PHokEFkGzBOAGRCK7kaTxLNmmrhs5S/Xa3ZKoQbcRAy4ktYt6w1uWpgt694P7qc3pYnLPVtwphAW\n",
              "6ObzX629e+RciR4VnTee4OL6M6DSmiSWOPSBddcDu/CfiB967uhxBfBgurxa485i9oIAOx/9myJO\n",
              "f8jgszNqg5tbUIVRuls8dNPqId8R8pUaL8Q61/wucIbfL8qMDCmsWiV5OspYmfXA/gI4GTBQNMBT\n",
              "1SNgKmTFX5QToxT/yhPXOUtamOmb0Yo1qtSRfNP037b1DnQ4Om8quuUxAWhgeij7nBjOiDWLlOnO\n",
              "2QFoL8jgiB7Ifv7oYPexLe/FKojqRUawfnB4LUoMAI5gocjuGkvR2WqfFjT+gCHBI7O9XZCQ9djV\n",
              "yuDXwALPIW22JiFnmCBubq5DikJ2UScQtFwjUPKMbXVSOf2q3heLcqfBqJWyrIu3Is53SaQpvArB\n",
              "KSs5MF2ShYrj6O/m34ppvYeBaacs02Hu+i7foPg/u0MPEaieMvVY+9YuFMWt/zS+AI/nRnewooZK\n",
              "SyCOVQIFXKbZTKe3Bm+CsK07uHNtWTmtx0WrRjnVp1zaG0odnc77vMJQ9i4n9adZQ+xr8P4CowAA\n",
              "Aa1Bny9FFSwQ/wAli2r6Mt5IAD4wEG3rMM6qy+ZcoEF0gLtuFTXQoABqxE+9eSFmJZU9v9zSoMJw\n",
              "TtWEijAzcPtZabgnv667W2K+xZT1lS3q+Nbjk8ojMhVS3xKWl2iNc47kBE2cC2H06Z2wM9zm2Vrf\n",
              "6XVTKtx4nIxkmGDbDYgTha4/r5a0Fdm774AlL2wOxp8I0XBuBr+j68uTrq5/QZK+wPDO0VmvUiJs\n",
              "+UboYHDTDrFF+UxVZ2KrJKQHfcBiiAbt8lCooIucv2gOsUn3hgAClpymkrwnjmjHRzUTy2RcxFob\n",
              "DnpK4nNYzVywXz3fJfZPD3qLR5elZQcNZ464wCJlrfjvL+EDO6rhTJHaYj2GU4xn6wGEZLehD/Bg\n",
              "mt61Edb7QKLGe0PYRP88emvgKbjM29Qzha9rajF5UjCTXWpMg+h30yxStffcZz6ogHCE327EHIWy\n",
              "iFx2jq9C8Fli1G2ccLxsh1+DhiafU3K3hGDx90rVXvK/8jDk4Awpshy22No86XKpONIQBq1cdK7I\n",
              "8riZKHO3+RLjwctST8N6aQJevWFZ4+vZngmVtaQbWFsAAAHGAZ9QakP/AFNR8l16AB/CHmOXSM1Q\n",
              "Mp+oJUrV3ELpnzM3bvJDJ7Xeow1jgHHcW32wh3H9zFLNVY+AyLeYVlkgURNEaulI1fV7caH8WT1a\n",
              "qV4WJbip8EehOysH5nX4b00h4/A/GrRBX8DFF/3OLAqoI3AhZVgpO2kGHn5Ia/4imjObO7ECwQZe\n",
              "n7091XFYy7xFw7FZEKSDFpv32YComIeaZMnuhOt4ePFc/LpHY8dP+Brv/5i3FwCQqyOBvXxqFeSg\n",
              "JaS3LSXYMPSkxXudgJywa5zK6hSnx9qAJEftWWIGumzQ+Qd3qUYmV3AhTsnHuBNRC6VlwOt9wFlk\n",
              "73/FHpyb3eWROR/i6+20/B/yAc4mG+yvA6wQ0Q/BemCFX83/AitQWb9eDrKtB0cW5OgWq5llvQHI\n",
              "/C6n0PAl66TQjZk1gwV6xfjfCgO0HgyUUHzNkLX6afvTY4fwGPHlXpwwE502mmcyna5350uZLrTJ\n",
              "NQ3mE2o6INaxXjwif1ZwDd0KvlrsiuRhvBSfpU8KnbRbkr1dFouFuYd7mtenD88P6wg72d6QsxmP\n",
              "l5BJ2/f39Pd556cIQ5S0Yrxib0vFWT+axhp9fz3Vb0CVwAAABX9tb292AAAAbG12aGQAAAAAAAAA\n",
              "AAAAAAAAAAPoAAAnEAABAAABAAAAAAAAAAAAAAAAAQAAAAAAAAAAAAAAAAAAAAEAAAAAAAAAAAAA\n",
              "AAAAAEAAAAAAAAAAAAAAAAAAAAAAAAAAAAAAAAAAAAAAAAACAAAEqXRyYWsAAABcdGtoZAAAAAMA\n",
              "AAAAAAAAAAAAAAEAAAAAAAAnEAAAAAAAAAAAAAAAAAAAAAAAAQAAAAAAAAAAAAAAAAAAAAEAAAAA\n",
              "AAAAAAAAAAAAAEAAAAACQAAAAWgAAAAAACRlZHRzAAAAHGVsc3QAAAAAAAAAAQAAJxAAABAAAAEA\n",
              "AAAABCFtZGlhAAAAIG1kaGQAAAAAAAAAAAAAAAAAACgAAAGQAFXEAAAAAAAtaGRscgAAAAAAAAAA\n",
              "dmlkZQAAAAAAAAAAAAAAAFZpZGVvSGFuZGxlcgAAAAPMbWluZgAAABR2bWhkAAAAAQAAAAAAAAAA\n",
              "AAAAJGRpbmYAAAAcZHJlZgAAAAAAAAABAAAADHVybCAAAAABAAADjHN0YmwAAAC0c3RzZAAAAAAA\n",
              "AAABAAAApGF2YzEAAAAAAAAAAQAAAAAAAAAAAAAAAAAAAAACQAFoAEgAAABIAAAAAAAAAAEAAAAA\n",
              "AAAAAAAAAAAAAAAAAAAAAAAAAAAAAAAAAAAAAAAY//8AAAAyYXZjQwFkABb/4QAZZ2QAFqzZQJAv\n",
              "+WEAAAMAAQAAAwAKDxYtlgEABmjr48siwAAAABx1dWlka2hA8l8kT8W6OaUbzwMj8wAAAAAAAAAY\n",
              "c3R0cwAAAAAAAAABAAAAMgAACAAAAAAUc3RzcwAAAAAAAAABAAAAAQAAAZhjdHRzAAAAAAAAADEA\n",
              "AAABAAAQAAAAAAEAABgAAAAAAQAACAAAAAABAAAoAAAAAAEAABAAAAAAAQAAAAAAAAABAAAIAAAA\n",
              "AAEAACgAAAAAAQAAEAAAAAABAAAAAAAAAAEAAAgAAAAAAQAAKAAAAAABAAAQAAAAAAEAAAAAAAAA\n",
              "AQAACAAAAAABAAAoAAAAAAEAABAAAAAAAQAAAAAAAAABAAAIAAAAAAEAACgAAAAAAQAAEAAAAAAB\n",
              "AAAAAAAAAAEAAAgAAAAAAQAAKAAAAAABAAAQAAAAAAEAAAAAAAAAAQAACAAAAAABAAAoAAAAAAEA\n",
              "ABAAAAAAAQAAAAAAAAABAAAIAAAAAAEAACgAAAAAAQAAEAAAAAABAAAAAAAAAAEAAAgAAAAAAQAA\n",
              "KAAAAAABAAAQAAAAAAEAAAAAAAAAAQAACAAAAAABAAAoAAAAAAEAABAAAAAAAQAAAAAAAAABAAAI\n",
              "AAAAAAEAACgAAAAAAQAAEAAAAAABAAAAAAAAAAEAAAgAAAAAAQAAIAAAAAACAAAIAAAAABxzdHNj\n",
              "AAAAAAAAAAEAAAABAAAAMgAAAAEAAADcc3RzegAAAAAAAAAAAAAAMgAAOCgAAA/5AAAD5QAAB9gA\n",
              "AANzAAACgwAAAiwAAAW3AAACdQAAAgwAAAGYAAAE7AAAAjgAAAHbAAAB+wAABNEAAAJlAAABrgAA\n",
              "AcoAAASuAAACBAAAAaMAAAGJAAAEWAAAAhIAAAGVAAABkAAABL4AAAIgAAABbwAAAbEAAAR/AAAC\n",
              "JQAAAYcAAAF0AAADxgAAAdoAAAFnAAABPgAABBQAAAHoAAABQAAAATQAAAMnAAAB+AAAAZAAAAFu\n",
              "AAACbAAAAbEAAAHKAAAAFHN0Y28AAAAAAAAAAQAAACwAAABidWR0YQAAAFptZXRhAAAAAAAAACFo\n",
              "ZGxyAAAAAAAAAABtZGlyYXBwbAAAAAAAAAAAAAAAAC1pbHN0AAAAJal0b28AAAAdZGF0YQAAAAEA\n",
              "AAAATGF2ZjU3LjgzLjEwMA==\n",
              "\">\n",
              "  Your browser does not support the video tag.\n",
              "</video>"
            ]
          },
          "metadata": {},
          "execution_count": 90
        }
      ],
      "source": [
        "fig = plt.figure(figsize=(8, 5))\n",
        "ax = fig.add_subplot(111, autoscale_on=False)\n",
        "\n",
        "def plot(i, axes = [0.5, 7, 0, 2.8], label=\"Iris Versicolor\"):\n",
        "    ax.clear()\n",
        "    w = model.ws[i]\n",
        "    tit = ax.set_title(f\"Epoch {i+1}\", fontsize=14)\n",
        "    x0, x1 = np.meshgrid(\n",
        "            np.linspace(axes[0], axes[1], 500).reshape(-1, 1),\n",
        "            np.linspace(axes[2], axes[3], 200).reshape(-1, 1),\n",
        "        )\n",
        "    X_new = np.c_[x0.ravel(), x1.ravel()]\n",
        "    X_new = (X_new - X_mean) / X_std \n",
        "    y_predict = model.predict(w, X_new)\n",
        "    zz = y_predict.reshape(x0.shape)\n",
        "    ax.plot(X[y==0, 0], X[y==0, 1], \"bs\", label=f\"No {label}\")\n",
        "    ax.plot(X[y==1, 0], X[y==1, 1], \"yo\", label=label)\n",
        "    ax.contourf(x0, x1, zz, cmap=custom_cmap)\n",
        "    ax.set_xlabel(\"Petal length\", fontsize=14)\n",
        "    ax.set_ylabel(\"Petal width\", fontsize=14)\n",
        "    ax.legend(loc=\"lower right\", fontsize=14)\n",
        "    ax.axis(axes)\n",
        "    return ax\n",
        "\n",
        "anim = animation.FuncAnimation(fig, plot, frames=epochs, interval=200)\n",
        "plt.close()\n",
        "anim"
      ]
    },
    {
      "cell_type": "markdown",
      "metadata": {
        "id": "NecWKsDTgZWe"
      },
      "source": [
        "Como puedes observar, el MLP es capaz de resolver el problema del `Perceptrón`, y es que cuantas más capas y neuronas por capas usemos, mayor capacidad de representación tendrá el modelo (las redes neuronales más grandes a día de hoy tienen varios Billones de conexiones)."
      ]
    },
    {
      "cell_type": "markdown",
      "metadata": {
        "id": "vJZdpnoqgZWe"
      },
      "source": [
        "## Clasificación Multiclase"
      ]
    },
    {
      "cell_type": "markdown",
      "metadata": {
        "id": "nO8rfdK3gZWe"
      },
      "source": [
        "Por último vamos a ver cómo aplicar nuestro modelo para clasificación en multiples clases."
      ]
    },
    {
      "cell_type": "code",
      "source": [
        "from scipy.io import loadmat\n",
        "import numpy as np\n",
        "import pandas as pd"
      ],
      "metadata": {
        "id": "OvGMuTIg05Q2"
      },
      "execution_count": null,
      "outputs": []
    },
    {
      "cell_type": "code",
      "source": [
        "\n",
        "data = loadmat(('mnist.mat'))\n",
        "X, y = data['X'], data['y'].ravel()\n",
        "\n",
        "print(m)"
      ],
      "metadata": {
        "colab": {
          "base_uri": "https://localhost:8080/"
        },
        "id": "0pe_2tUqyeGN",
        "outputId": "33457a08-7c90-4658-a664-38e7b97526f2"
      },
      "execution_count": null,
      "outputs": [
        {
          "output_type": "stream",
          "name": "stdout",
          "text": [
            "100\n"
          ]
        }
      ]
    },
    {
      "cell_type": "code",
      "execution_count": null,
      "metadata": {
        "ExecuteTime": {
          "end_time": "2020-08-05T17:08:01.961788Z",
          "start_time": "2020-08-05T17:08:01.891163Z"
        },
        "id": "iD_jnMkogZWf",
        "outputId": "f231cc54-e91d-4ae6-8be0-ae0cf39b56d7",
        "colab": {
          "base_uri": "https://localhost:8080/",
          "height": 394
        }
      },
      "outputs": [
        {
          "output_type": "error",
          "ename": "ValueError",
          "evalue": "ignored",
          "traceback": [
            "\u001b[0;31m---------------------------------------------------------------------------\u001b[0m",
            "\u001b[0;31mValueError\u001b[0m                                Traceback (most recent call last)",
            "\u001b[0;32m<ipython-input-99-c94e1cc87d56>\u001b[0m in \u001b[0;36m<module>\u001b[0;34m\u001b[0m\n\u001b[1;32m      1\u001b[0m \u001b[0mmodel\u001b[0m \u001b[0;34m=\u001b[0m \u001b[0mMLPClassification\u001b[0m\u001b[0;34m(\u001b[0m\u001b[0mD_in\u001b[0m\u001b[0;34m=\u001b[0m\u001b[0;36m100\u001b[0m\u001b[0;34m,\u001b[0m \u001b[0mH\u001b[0m\u001b[0;34m=\u001b[0m\u001b[0;36m60\u001b[0m\u001b[0;34m,\u001b[0m \u001b[0mD_out\u001b[0m\u001b[0;34m=\u001b[0m\u001b[0;36m6\u001b[0m\u001b[0;34m)\u001b[0m\u001b[0;34m\u001b[0m\u001b[0;34m\u001b[0m\u001b[0m\n\u001b[1;32m      2\u001b[0m \u001b[0mepochs\u001b[0m\u001b[0;34m,\u001b[0m \u001b[0mlr\u001b[0m \u001b[0;34m=\u001b[0m \u001b[0;36m50\u001b[0m\u001b[0;34m,\u001b[0m \u001b[0;36m0.2\u001b[0m\u001b[0;34m\u001b[0m\u001b[0;34m\u001b[0m\u001b[0m\n\u001b[0;32m----> 3\u001b[0;31m \u001b[0mmodel\u001b[0m\u001b[0;34m.\u001b[0m\u001b[0mfit\u001b[0m\u001b[0;34m(\u001b[0m\u001b[0mX_norm\u001b[0m\u001b[0;34m,\u001b[0m \u001b[0my\u001b[0m\u001b[0;34m,\u001b[0m \u001b[0mepochs\u001b[0m\u001b[0;34m,\u001b[0m \u001b[0mlr\u001b[0m\u001b[0;34m,\u001b[0m \u001b[0mbatch_size\u001b[0m\u001b[0;34m=\u001b[0m\u001b[0;36m100\u001b[0m\u001b[0;34m,\u001b[0m \u001b[0mlog_each\u001b[0m\u001b[0;34m=\u001b[0m\u001b[0;36m100\u001b[0m\u001b[0;34m)\u001b[0m\u001b[0;34m\u001b[0m\u001b[0;34m\u001b[0m\u001b[0m\n\u001b[0m",
            "\u001b[0;32m<ipython-input-74-2d53bf5a1f75>\u001b[0m in \u001b[0;36mfit\u001b[0;34m(self, X, Y, epochs, lr, batch_size, verbose, log_each)\u001b[0m\n\u001b[1;32m     38\u001b[0m             \u001b[0my\u001b[0m \u001b[0;34m=\u001b[0m \u001b[0mY\u001b[0m\u001b[0;34m[\u001b[0m\u001b[0mb\u001b[0m\u001b[0;34m*\u001b[0m\u001b[0mbatch_size\u001b[0m\u001b[0;34m:\u001b[0m\u001b[0;34m(\u001b[0m\u001b[0mb\u001b[0m\u001b[0;34m+\u001b[0m\u001b[0;36m1\u001b[0m\u001b[0;34m)\u001b[0m\u001b[0;34m*\u001b[0m\u001b[0mbatch_size\u001b[0m\u001b[0;34m]\u001b[0m\u001b[0;34m\u001b[0m\u001b[0;34m\u001b[0m\u001b[0m\n\u001b[1;32m     39\u001b[0m             \u001b[0;31m# salida del perceptrón\u001b[0m\u001b[0;34m\u001b[0m\u001b[0;34m\u001b[0m\u001b[0;34m\u001b[0m\u001b[0m\n\u001b[0;32m---> 40\u001b[0;31m             \u001b[0my_pred\u001b[0m \u001b[0;34m=\u001b[0m \u001b[0mself\u001b[0m\u001b[0;34m(\u001b[0m\u001b[0mx\u001b[0m\u001b[0;34m)\u001b[0m\u001b[0;34m\u001b[0m\u001b[0;34m\u001b[0m\u001b[0m\n\u001b[0m\u001b[1;32m     41\u001b[0m             \u001b[0;31m# función de pérdida\u001b[0m\u001b[0;34m\u001b[0m\u001b[0;34m\u001b[0m\u001b[0;34m\u001b[0m\u001b[0m\n\u001b[1;32m     42\u001b[0m             \u001b[0mloss\u001b[0m \u001b[0;34m=\u001b[0m \u001b[0mself\u001b[0m\u001b[0;34m.\u001b[0m\u001b[0mloss\u001b[0m\u001b[0;34m(\u001b[0m\u001b[0my\u001b[0m\u001b[0;34m,\u001b[0m \u001b[0my_pred\u001b[0m\u001b[0;34m)\u001b[0m\u001b[0;34m\u001b[0m\u001b[0;34m\u001b[0m\u001b[0m\n",
            "\u001b[0;32m<ipython-input-74-2d53bf5a1f75>\u001b[0m in \u001b[0;36m__call__\u001b[0;34m(self, x)\u001b[0m\n\u001b[1;32m     20\u001b[0m   \u001b[0;32mdef\u001b[0m \u001b[0m__call__\u001b[0m\u001b[0;34m(\u001b[0m\u001b[0mself\u001b[0m\u001b[0;34m,\u001b[0m \u001b[0mx\u001b[0m\u001b[0;34m)\u001b[0m\u001b[0;34m:\u001b[0m\u001b[0;34m\u001b[0m\u001b[0;34m\u001b[0m\u001b[0m\n\u001b[1;32m     21\u001b[0m     \u001b[0;31m# salida de la capa 1\u001b[0m\u001b[0;34m\u001b[0m\u001b[0;34m\u001b[0m\u001b[0;34m\u001b[0m\u001b[0m\n\u001b[0;32m---> 22\u001b[0;31m     \u001b[0mself\u001b[0m\u001b[0;34m.\u001b[0m\u001b[0mh_pre\u001b[0m \u001b[0;34m=\u001b[0m \u001b[0mnp\u001b[0m\u001b[0;34m.\u001b[0m\u001b[0mdot\u001b[0m\u001b[0;34m(\u001b[0m\u001b[0mx\u001b[0m\u001b[0;34m,\u001b[0m \u001b[0mself\u001b[0m\u001b[0;34m.\u001b[0m\u001b[0mw1\u001b[0m\u001b[0;34m)\u001b[0m \u001b[0;34m+\u001b[0m \u001b[0mself\u001b[0m\u001b[0;34m.\u001b[0m\u001b[0mb1\u001b[0m\u001b[0;34m\u001b[0m\u001b[0;34m\u001b[0m\u001b[0m\n\u001b[0m\u001b[1;32m     23\u001b[0m     \u001b[0mself\u001b[0m\u001b[0;34m.\u001b[0m\u001b[0mh\u001b[0m \u001b[0;34m=\u001b[0m \u001b[0mrelu\u001b[0m\u001b[0;34m(\u001b[0m\u001b[0mself\u001b[0m\u001b[0;34m.\u001b[0m\u001b[0mh_pre\u001b[0m\u001b[0;34m)\u001b[0m\u001b[0;34m\u001b[0m\u001b[0;34m\u001b[0m\u001b[0m\n\u001b[1;32m     24\u001b[0m     \u001b[0;31m# salida del MLP\u001b[0m\u001b[0;34m\u001b[0m\u001b[0;34m\u001b[0m\u001b[0;34m\u001b[0m\u001b[0m\n",
            "\u001b[0;32m<__array_function__ internals>\u001b[0m in \u001b[0;36mdot\u001b[0;34m(*args, **kwargs)\u001b[0m\n",
            "\u001b[0;31mValueError\u001b[0m: shapes (100,2) and (100,60) not aligned: 2 (dim 1) != 100 (dim 0)"
          ]
        }
      ],
      "source": [
        "model = MLPClassification(D_in=100, H=60, D_out=6)\n",
        "epochs, lr = 50, 0.2\n",
        "model.fit(X_norm, y, epochs, lr, batch_size=100, log_each=100)"
      ]
    },
    {
      "cell_type": "code",
      "execution_count": null,
      "metadata": {
        "ExecuteTime": {
          "end_time": "2020-08-05T17:08:07.457374Z",
          "start_time": "2020-08-05T17:08:02.015788Z"
        },
        "code_folding": [
          4
        ],
        "id": "RvIjYHPMgZWf"
      },
      "outputs": [],
      "source": [
        "from matplotlib.colors import ListedColormap\n",
        "from matplotlib import animation, rc\n",
        "rc('animation', html='html5')       \n",
        "    \n",
        "def animate(i, resolution=0.02):\n",
        "    ax.clear()\n",
        "    tit = ax.set_title(f\"Epoch {i+1}\", fontsize=14)\n",
        "    # setup marker generator and color map\n",
        "    markers = ('s', 'x', 'o', '^', 'v')\n",
        "    colors = ('red', 'blue', 'lightgreen', 'gray', 'cyan')\n",
        "    cmap = ListedColormap(colors[:len(np.unique(y))])\n",
        "\n",
        "    # plot the decision surface\n",
        "    x1_min, x1_max = X[:, 0].min() - 1, X[:, 0].max() + 1\n",
        "    x2_min, x2_max = X[:, 1].min() - 1, X[:, 1].max() + 1\n",
        "    xx1, xx2 = np.meshgrid(np.arange(x1_min, x1_max, resolution),\n",
        "                           np.arange(x2_min, x2_max, resolution))\n",
        "    X_new = (np.array([xx1.ravel(), xx2.ravel()]).T - X_mean)/X_std\n",
        "    w = model.ws[i]\n",
        "    Z = model.predict(w, X_new)\n",
        "    Z = np.argmax(softmax(Z), axis=1) \n",
        "    #print(Z)\n",
        "    Z = Z.reshape(xx1.shape)\n",
        "    ax.contourf(xx1, xx2, Z, alpha=0.3, cmap=cmap)\n",
        "    ax.set_xlim(xx1.min(), xx1.max())\n",
        "    ax.set_ylim(xx2.min(), xx2.max())\n",
        "    ax.set_xlabel('petal length', fontsize=14)\n",
        "    ax.set_ylabel('petal width', fontsize=14)\n",
        "    classes = [\"Iris-Setosa\", \"Iris-Versicolor\", \"Iris-Virginica\"]\n",
        "    for idx, cl in enumerate(np.unique(y)):\n",
        "        ax.scatter(x=X[y == cl, 0], \n",
        "                    y=X[y == cl, 1],\n",
        "                    alpha=0.8, \n",
        "                    c=colors[idx],\n",
        "                    marker=markers[idx], \n",
        "                    label=classes[cl], \n",
        "                    edgecolor='black')\n",
        "    ax.legend(loc='upper left', fontsize=14)\n",
        "    return [tit]\n",
        "\n",
        "fig = plt.figure(dpi=100)\n",
        "ax = fig.add_subplot(111, autoscale_on=False)\n",
        "anim = animation.FuncAnimation(fig, animate, frames=epochs, interval=100, blit=True)\n",
        "plt.close()\n",
        "anim"
      ]
    },
    {
      "cell_type": "markdown",
      "metadata": {
        "id": "0yfHzhoRgZWf"
      },
      "source": [
        "De nuevo, nuestro MLP es capaz de separar las tres clases en el dataset. En posts anteriores hemos trabajado también con el dataset MNIST para clasificación de imágenes en diez clases distintas. ¿Te ves capaz de utilizar nuestro MLP para resolver ese problema?"
      ]
    },
    {
      "cell_type": "markdown",
      "metadata": {
        "id": "2HctDQVDgZWf"
      },
      "source": [
        "## Resumen"
      ]
    },
    {
      "cell_type": "markdown",
      "metadata": {
        "id": "FpSRNw0PgZWf"
      },
      "source": [
        "En este post hemos visto como implementar un `Perceptrón Multicapa` en `Python` para tareas de regresión y clasificación. Como ya hicimos anteriormente para el caso del `Perceptrón` hemos validado nuestra implementación con el dataset de clasificación de flores *Iris*, tanto para clasificación binaria como multiclase. Sin embargo, nuestra implementación está muy limitada. ¿Qué pasa si queremos usar un MLP de más de dos capas?, ¿y si queremos usar una función de activación diferente a la `relu` en la capa oculta?, ¿podríamos utilizar un algoritmo de optimizaciñon diferente al `descenso por gradiente`? Para poder hacer todo esto necesitamos un `framework` más flexible, similar a lo que nos ofrecen `Pytorch` y `Tensorflow`. En el siguiente post desarrollaremos nuestro propio framework de MLP para que sea más flexible y que también nos servirá para entender cómo funcionan el resto de frameworks de `redes neuronales` por dentro."
      ]
    }
  ],
  "metadata": {
    "kernelspec": {
      "display_name": "Python 3",
      "language": "python",
      "name": "python3"
    },
    "language_info": {
      "codemirror_mode": {
        "name": "ipython",
        "version": 3
      },
      "file_extension": ".py",
      "mimetype": "text/x-python",
      "name": "python",
      "nbconvert_exporter": "python",
      "pygments_lexer": "ipython3",
      "version": "3.7.6"
    },
    "toc": {
      "base_numbering": 1,
      "nav_menu": {},
      "number_sections": true,
      "sideBar": true,
      "skip_h1_title": false,
      "title_cell": "Table of Contents",
      "title_sidebar": "Contents",
      "toc_cell": false,
      "toc_position": {
        "height": "calc(100% - 180px)",
        "left": "10px",
        "top": "150px",
        "width": "233.594px"
      },
      "toc_section_display": true,
      "toc_window_display": false
    },
    "colab": {
      "provenance": [],
      "include_colab_link": true
    }
  },
  "nbformat": 4,
  "nbformat_minor": 0
}